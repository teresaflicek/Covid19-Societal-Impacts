{
 "cells": [
  {
   "cell_type": "code",
   "execution_count": 788,
   "metadata": {},
   "outputs": [],
   "source": [
    "import pandas as pd\n",
    "import pprint as pp\n",
    "import numpy as np\n",
    "import matplotlib.pyplot as plt\n",
    "import scipy.stats as sts"
   ]
  },
  {
   "cell_type": "code",
   "execution_count": 789,
   "metadata": {},
   "outputs": [],
   "source": [
    "file_one = \"Files/1_county_level_confirmed_cases.csv\""
   ]
  },
  {
   "cell_type": "code",
   "execution_count": 790,
   "metadata": {
    "scrolled": true
   },
   "outputs": [
    {
     "data": {
      "text/html": [
       "<div>\n",
       "<style scoped>\n",
       "    .dataframe tbody tr th:only-of-type {\n",
       "        vertical-align: middle;\n",
       "    }\n",
       "\n",
       "    .dataframe tbody tr th {\n",
       "        vertical-align: top;\n",
       "    }\n",
       "\n",
       "    .dataframe thead th {\n",
       "        text-align: right;\n",
       "    }\n",
       "</style>\n",
       "<table border=\"1\" class=\"dataframe\">\n",
       "  <thead>\n",
       "    <tr style=\"text-align: right;\">\n",
       "      <th></th>\n",
       "      <th>last_update</th>\n",
       "      <th>location_type</th>\n",
       "      <th>state</th>\n",
       "      <th>county_name</th>\n",
       "      <th>county_name_long</th>\n",
       "      <th>fips_code</th>\n",
       "      <th>lat</th>\n",
       "      <th>lon</th>\n",
       "      <th>NCHS_urbanization</th>\n",
       "      <th>total_population</th>\n",
       "      <th>confirmed</th>\n",
       "      <th>confirmed_per_100000</th>\n",
       "      <th>deaths</th>\n",
       "      <th>deaths_per_100000</th>\n",
       "    </tr>\n",
       "  </thead>\n",
       "  <tbody>\n",
       "    <tr>\n",
       "      <th>0</th>\n",
       "      <td>2020-10-22 02:24:33 UTC</td>\n",
       "      <td>county</td>\n",
       "      <td>Alabama</td>\n",
       "      <td>Autauga</td>\n",
       "      <td>Autauga, Alabama, US</td>\n",
       "      <td>1,001.00</td>\n",
       "      <td>32.54</td>\n",
       "      <td>-86.64</td>\n",
       "      <td>Medium metro</td>\n",
       "      <td>55,200.00</td>\n",
       "      <td>2021</td>\n",
       "      <td>3,661.23</td>\n",
       "      <td>30</td>\n",
       "      <td>54.35</td>\n",
       "    </tr>\n",
       "    <tr>\n",
       "      <th>1</th>\n",
       "      <td>2020-10-22 02:24:33 UTC</td>\n",
       "      <td>county</td>\n",
       "      <td>Alabama</td>\n",
       "      <td>Baldwin</td>\n",
       "      <td>Baldwin, Alabama, US</td>\n",
       "      <td>1,003.00</td>\n",
       "      <td>30.73</td>\n",
       "      <td>-87.72</td>\n",
       "      <td>Small metro</td>\n",
       "      <td>208,107.00</td>\n",
       "      <td>6443</td>\n",
       "      <td>3,096.00</td>\n",
       "      <td>69</td>\n",
       "      <td>33.16</td>\n",
       "    </tr>\n",
       "    <tr>\n",
       "      <th>2</th>\n",
       "      <td>2020-10-22 02:24:33 UTC</td>\n",
       "      <td>county</td>\n",
       "      <td>Alabama</td>\n",
       "      <td>Barbour</td>\n",
       "      <td>Barbour, Alabama, US</td>\n",
       "      <td>1,005.00</td>\n",
       "      <td>31.87</td>\n",
       "      <td>-85.39</td>\n",
       "      <td>Non-core</td>\n",
       "      <td>25,782.00</td>\n",
       "      <td>996</td>\n",
       "      <td>3,863.16</td>\n",
       "      <td>9</td>\n",
       "      <td>34.91</td>\n",
       "    </tr>\n",
       "    <tr>\n",
       "      <th>3</th>\n",
       "      <td>2020-10-22 02:24:33 UTC</td>\n",
       "      <td>county</td>\n",
       "      <td>Alabama</td>\n",
       "      <td>Bibb</td>\n",
       "      <td>Bibb, Alabama, US</td>\n",
       "      <td>1,007.00</td>\n",
       "      <td>33.00</td>\n",
       "      <td>-87.13</td>\n",
       "      <td>Large fringe metro</td>\n",
       "      <td>22,527.00</td>\n",
       "      <td>801</td>\n",
       "      <td>3,555.73</td>\n",
       "      <td>14</td>\n",
       "      <td>62.15</td>\n",
       "    </tr>\n",
       "    <tr>\n",
       "      <th>4</th>\n",
       "      <td>2020-10-22 02:24:33 UTC</td>\n",
       "      <td>county</td>\n",
       "      <td>Alabama</td>\n",
       "      <td>Blount</td>\n",
       "      <td>Blount, Alabama, US</td>\n",
       "      <td>1,009.00</td>\n",
       "      <td>33.98</td>\n",
       "      <td>-86.57</td>\n",
       "      <td>Large fringe metro</td>\n",
       "      <td>57,645.00</td>\n",
       "      <td>1873</td>\n",
       "      <td>3,249.20</td>\n",
       "      <td>25</td>\n",
       "      <td>43.37</td>\n",
       "    </tr>\n",
       "  </tbody>\n",
       "</table>\n",
       "</div>"
      ],
      "text/plain": [
       "               last_update location_type    state county_name  \\\n",
       "0  2020-10-22 02:24:33 UTC        county  Alabama     Autauga   \n",
       "1  2020-10-22 02:24:33 UTC        county  Alabama     Baldwin   \n",
       "2  2020-10-22 02:24:33 UTC        county  Alabama     Barbour   \n",
       "3  2020-10-22 02:24:33 UTC        county  Alabama        Bibb   \n",
       "4  2020-10-22 02:24:33 UTC        county  Alabama      Blount   \n",
       "\n",
       "       county_name_long  fips_code   lat    lon   NCHS_urbanization  \\\n",
       "0  Autauga, Alabama, US   1,001.00 32.54 -86.64        Medium metro   \n",
       "1  Baldwin, Alabama, US   1,003.00 30.73 -87.72         Small metro   \n",
       "2  Barbour, Alabama, US   1,005.00 31.87 -85.39            Non-core   \n",
       "3     Bibb, Alabama, US   1,007.00 33.00 -87.13  Large fringe metro   \n",
       "4   Blount, Alabama, US   1,009.00 33.98 -86.57  Large fringe metro   \n",
       "\n",
       "   total_population  confirmed  confirmed_per_100000  deaths  \\\n",
       "0         55,200.00       2021              3,661.23      30   \n",
       "1        208,107.00       6443              3,096.00      69   \n",
       "2         25,782.00        996              3,863.16       9   \n",
       "3         22,527.00        801              3,555.73      14   \n",
       "4         57,645.00       1873              3,249.20      25   \n",
       "\n",
       "   deaths_per_100000  \n",
       "0              54.35  \n",
       "1              33.16  \n",
       "2              34.91  \n",
       "3              62.15  \n",
       "4              43.37  "
      ]
     },
     "execution_count": 790,
     "metadata": {},
     "output_type": "execute_result"
    }
   ],
   "source": [
    "file_one_df = pd.read_csv(file_one, encoding=\"ISO-8859-1\")\n",
    "file_one_df.head()"
   ]
  },
  {
   "cell_type": "code",
   "execution_count": null,
   "metadata": {
    "scrolled": false
   },
   "outputs": [],
   "source": []
  },
  {
   "cell_type": "code",
   "execution_count": 791,
   "metadata": {},
   "outputs": [
    {
     "data": {
      "text/html": [
       "<div>\n",
       "<style scoped>\n",
       "    .dataframe tbody tr th:only-of-type {\n",
       "        vertical-align: middle;\n",
       "    }\n",
       "\n",
       "    .dataframe tbody tr th {\n",
       "        vertical-align: top;\n",
       "    }\n",
       "\n",
       "    .dataframe thead th {\n",
       "        text-align: right;\n",
       "    }\n",
       "</style>\n",
       "<table border=\"1\" class=\"dataframe\">\n",
       "  <thead>\n",
       "    <tr style=\"text-align: right;\">\n",
       "      <th></th>\n",
       "      <th>state</th>\n",
       "      <th>county_name</th>\n",
       "      <th>total_population</th>\n",
       "      <th>confirmed</th>\n",
       "      <th>deaths</th>\n",
       "    </tr>\n",
       "  </thead>\n",
       "  <tbody>\n",
       "    <tr>\n",
       "      <th>0</th>\n",
       "      <td>Alabama</td>\n",
       "      <td>Autauga</td>\n",
       "      <td>55,200.00</td>\n",
       "      <td>2021</td>\n",
       "      <td>30</td>\n",
       "    </tr>\n",
       "    <tr>\n",
       "      <th>1</th>\n",
       "      <td>Alabama</td>\n",
       "      <td>Baldwin</td>\n",
       "      <td>208,107.00</td>\n",
       "      <td>6443</td>\n",
       "      <td>69</td>\n",
       "    </tr>\n",
       "    <tr>\n",
       "      <th>2</th>\n",
       "      <td>Alabama</td>\n",
       "      <td>Barbour</td>\n",
       "      <td>25,782.00</td>\n",
       "      <td>996</td>\n",
       "      <td>9</td>\n",
       "    </tr>\n",
       "    <tr>\n",
       "      <th>3</th>\n",
       "      <td>Alabama</td>\n",
       "      <td>Bibb</td>\n",
       "      <td>22,527.00</td>\n",
       "      <td>801</td>\n",
       "      <td>14</td>\n",
       "    </tr>\n",
       "    <tr>\n",
       "      <th>4</th>\n",
       "      <td>Alabama</td>\n",
       "      <td>Blount</td>\n",
       "      <td>57,645.00</td>\n",
       "      <td>1873</td>\n",
       "      <td>25</td>\n",
       "    </tr>\n",
       "  </tbody>\n",
       "</table>\n",
       "</div>"
      ],
      "text/plain": [
       "     state county_name  total_population  confirmed  deaths\n",
       "0  Alabama     Autauga         55,200.00       2021      30\n",
       "1  Alabama     Baldwin        208,107.00       6443      69\n",
       "2  Alabama     Barbour         25,782.00        996       9\n",
       "3  Alabama        Bibb         22,527.00        801      14\n",
       "4  Alabama      Blount         57,645.00       1873      25"
      ]
     },
     "execution_count": 791,
     "metadata": {},
     "output_type": "execute_result"
    }
   ],
   "source": [
    "# first edit to file one\n",
    "\n",
    "clean_file_one_df = pd.DataFrame(file_one_df, columns= ['state','county_name','total_population','confirmed', 'deaths'])#, index = 1[\"CO\"])\n",
    "clean_file_one_df.head()"
   ]
  },
  {
   "cell_type": "code",
   "execution_count": 792,
   "metadata": {},
   "outputs": [
    {
     "data": {
      "text/html": [
       "<div>\n",
       "<style scoped>\n",
       "    .dataframe tbody tr th:only-of-type {\n",
       "        vertical-align: middle;\n",
       "    }\n",
       "\n",
       "    .dataframe tbody tr th {\n",
       "        vertical-align: top;\n",
       "    }\n",
       "\n",
       "    .dataframe thead th {\n",
       "        text-align: right;\n",
       "    }\n",
       "</style>\n",
       "<table border=\"1\" class=\"dataframe\">\n",
       "  <thead>\n",
       "    <tr style=\"text-align: right;\">\n",
       "      <th></th>\n",
       "      <th>state</th>\n",
       "      <th>county_name</th>\n",
       "      <th>total_population</th>\n",
       "      <th>confirmed</th>\n",
       "      <th>deaths</th>\n",
       "    </tr>\n",
       "  </thead>\n",
       "  <tbody>\n",
       "    <tr>\n",
       "      <th>0</th>\n",
       "      <td></td>\n",
       "      <td></td>\n",
       "      <td></td>\n",
       "      <td></td>\n",
       "      <td></td>\n",
       "    </tr>\n",
       "    <tr>\n",
       "      <th>1</th>\n",
       "      <td>Alabama</td>\n",
       "      <td>Autauga</td>\n",
       "      <td>55,200.00</td>\n",
       "      <td>2021</td>\n",
       "      <td>30</td>\n",
       "    </tr>\n",
       "    <tr>\n",
       "      <th>2</th>\n",
       "      <td>Alabama</td>\n",
       "      <td>Baldwin</td>\n",
       "      <td>208,107.00</td>\n",
       "      <td>6443</td>\n",
       "      <td>69</td>\n",
       "    </tr>\n",
       "    <tr>\n",
       "      <th>3</th>\n",
       "      <td>Alabama</td>\n",
       "      <td>Barbour</td>\n",
       "      <td>25,782.00</td>\n",
       "      <td>996</td>\n",
       "      <td>9</td>\n",
       "    </tr>\n",
       "    <tr>\n",
       "      <th>4</th>\n",
       "      <td>Alabama</td>\n",
       "      <td>Bibb</td>\n",
       "      <td>22,527.00</td>\n",
       "      <td>801</td>\n",
       "      <td>14</td>\n",
       "    </tr>\n",
       "  </tbody>\n",
       "</table>\n",
       "</div>"
      ],
      "text/plain": [
       "     state county_name total_population confirmed deaths\n",
       "0                                                       \n",
       "1  Alabama     Autauga        55,200.00      2021     30\n",
       "2  Alabama     Baldwin       208,107.00      6443     69\n",
       "3  Alabama     Barbour        25,782.00       996      9\n",
       "4  Alabama        Bibb        22,527.00       801     14"
      ]
     },
     "execution_count": 792,
     "metadata": {},
     "output_type": "execute_result"
    }
   ],
   "source": [
    "#add new row to help with future \"join\" of two dataframes #(second data frame has one more row than the first)\n",
    "\n",
    "new_row = pd.DataFrame({'state':'', 'county_name':'', 'total_population':'', \n",
    "                        'confirmed':'', 'deaths':''}, index =[0])\n",
    "new_row_df = pd.concat([new_row, clean_file_one_df[:]]).reset_index(drop = True) \n",
    "new_row_df.head()"
   ]
  },
  {
   "cell_type": "code",
   "execution_count": 800,
   "metadata": {},
   "outputs": [
    {
     "data": {
      "text/html": [
       "<div>\n",
       "<style scoped>\n",
       "    .dataframe tbody tr th:only-of-type {\n",
       "        vertical-align: middle;\n",
       "    }\n",
       "\n",
       "    .dataframe tbody tr th {\n",
       "        vertical-align: top;\n",
       "    }\n",
       "\n",
       "    .dataframe thead th {\n",
       "        text-align: right;\n",
       "    }\n",
       "</style>\n",
       "<table border=\"1\" class=\"dataframe\">\n",
       "  <thead>\n",
       "    <tr style=\"text-align: right;\">\n",
       "      <th></th>\n",
       "      <th>total_population</th>\n",
       "    </tr>\n",
       "    <tr>\n",
       "      <th>state</th>\n",
       "      <th></th>\n",
       "    </tr>\n",
       "  </thead>\n",
       "  <tbody>\n",
       "    <tr>\n",
       "      <th>Alabama</th>\n",
       "      <td>4,864,680.00</td>\n",
       "    </tr>\n",
       "    <tr>\n",
       "      <th>Alaska</th>\n",
       "      <td>736,384.00</td>\n",
       "    </tr>\n",
       "    <tr>\n",
       "      <th>Arizona</th>\n",
       "      <td>6,946,685.00</td>\n",
       "    </tr>\n",
       "    <tr>\n",
       "      <th>Arkansas</th>\n",
       "      <td>2,990,671.00</td>\n",
       "    </tr>\n",
       "    <tr>\n",
       "      <th>California</th>\n",
       "      <td>39,148,760.00</td>\n",
       "    </tr>\n",
       "  </tbody>\n",
       "</table>\n",
       "</div>"
      ],
      "text/plain": [
       "            total_population\n",
       "state                       \n",
       "Alabama         4,864,680.00\n",
       "Alaska            736,384.00\n",
       "Arizona         6,946,685.00\n",
       "Arkansas        2,990,671.00\n",
       "California     39,148,760.00"
      ]
     },
     "execution_count": 800,
     "metadata": {},
     "output_type": "execute_result"
    }
   ],
   "source": [
    "total_pop = file_one_df.groupby([\"state\"]).sum()['total_population']\n",
    "total_pop_df = pd.DataFrame(total_pop, columns=['total_population'])\n",
    "\n",
    "total_pop_df.head()"
   ]
  },
  {
   "cell_type": "code",
   "execution_count": 801,
   "metadata": {},
   "outputs": [
    {
     "data": {
      "text/html": [
       "<div>\n",
       "<style scoped>\n",
       "    .dataframe tbody tr th:only-of-type {\n",
       "        vertical-align: middle;\n",
       "    }\n",
       "\n",
       "    .dataframe tbody tr th {\n",
       "        vertical-align: top;\n",
       "    }\n",
       "\n",
       "    .dataframe thead th {\n",
       "        text-align: right;\n",
       "    }\n",
       "</style>\n",
       "<table border=\"1\" class=\"dataframe\">\n",
       "  <thead>\n",
       "    <tr style=\"text-align: right;\">\n",
       "      <th></th>\n",
       "      <th>confirmed</th>\n",
       "    </tr>\n",
       "    <tr>\n",
       "      <th>state</th>\n",
       "      <th></th>\n",
       "    </tr>\n",
       "  </thead>\n",
       "  <tbody>\n",
       "    <tr>\n",
       "      <th>Alabama</th>\n",
       "      <td>175674</td>\n",
       "    </tr>\n",
       "    <tr>\n",
       "      <th>Alaska</th>\n",
       "      <td>11602</td>\n",
       "    </tr>\n",
       "    <tr>\n",
       "      <th>Arizona</th>\n",
       "      <td>233912</td>\n",
       "    </tr>\n",
       "    <tr>\n",
       "      <th>Arkansas</th>\n",
       "      <td>101596</td>\n",
       "    </tr>\n",
       "    <tr>\n",
       "      <th>California</th>\n",
       "      <td>886939</td>\n",
       "    </tr>\n",
       "  </tbody>\n",
       "</table>\n",
       "</div>"
      ],
      "text/plain": [
       "            confirmed\n",
       "state                \n",
       "Alabama        175674\n",
       "Alaska          11602\n",
       "Arizona        233912\n",
       "Arkansas       101596\n",
       "California     886939"
      ]
     },
     "execution_count": 801,
     "metadata": {},
     "output_type": "execute_result"
    }
   ],
   "source": [
    "# list from csv for each state CONFIRMED\n",
    "\n",
    "confirmed = file_one_df.groupby([\"state\"]).sum()['confirmed']\n",
    "con_df = pd.DataFrame(confirmed,columns=['confirmed'])\n",
    "con_df.head()"
   ]
  },
  {
   "cell_type": "code",
   "execution_count": 802,
   "metadata": {},
   "outputs": [
    {
     "data": {
      "text/html": [
       "<div>\n",
       "<style scoped>\n",
       "    .dataframe tbody tr th:only-of-type {\n",
       "        vertical-align: middle;\n",
       "    }\n",
       "\n",
       "    .dataframe tbody tr th {\n",
       "        vertical-align: top;\n",
       "    }\n",
       "\n",
       "    .dataframe thead th {\n",
       "        text-align: right;\n",
       "    }\n",
       "</style>\n",
       "<table border=\"1\" class=\"dataframe\">\n",
       "  <thead>\n",
       "    <tr style=\"text-align: right;\">\n",
       "      <th></th>\n",
       "      <th>total_population</th>\n",
       "      <th>confirmed</th>\n",
       "    </tr>\n",
       "    <tr>\n",
       "      <th>state</th>\n",
       "      <th></th>\n",
       "      <th></th>\n",
       "    </tr>\n",
       "  </thead>\n",
       "  <tbody>\n",
       "    <tr>\n",
       "      <th>Alabama</th>\n",
       "      <td>4,864,680.00</td>\n",
       "      <td>175674</td>\n",
       "    </tr>\n",
       "    <tr>\n",
       "      <th>Alaska</th>\n",
       "      <td>736,384.00</td>\n",
       "      <td>11602</td>\n",
       "    </tr>\n",
       "    <tr>\n",
       "      <th>Arizona</th>\n",
       "      <td>6,946,685.00</td>\n",
       "      <td>233912</td>\n",
       "    </tr>\n",
       "    <tr>\n",
       "      <th>Arkansas</th>\n",
       "      <td>2,990,671.00</td>\n",
       "      <td>101596</td>\n",
       "    </tr>\n",
       "    <tr>\n",
       "      <th>California</th>\n",
       "      <td>39,148,760.00</td>\n",
       "      <td>886939</td>\n",
       "    </tr>\n",
       "  </tbody>\n",
       "</table>\n",
       "</div>"
      ],
      "text/plain": [
       "            total_population  confirmed\n",
       "state                                  \n",
       "Alabama         4,864,680.00     175674\n",
       "Alaska            736,384.00      11602\n",
       "Arizona         6,946,685.00     233912\n",
       "Arkansas        2,990,671.00     101596\n",
       "California     39,148,760.00     886939"
      ]
     },
     "execution_count": 802,
     "metadata": {},
     "output_type": "execute_result"
    }
   ],
   "source": [
    "comb_totpop_con_df = total_pop_df.join(confirmed_df, lsuffix=\"total_popualtion\") \n",
    "comb_totpop_con_df.head()"
   ]
  },
  {
   "cell_type": "code",
   "execution_count": 803,
   "metadata": {},
   "outputs": [
    {
     "data": {
      "text/html": [
       "<div>\n",
       "<style scoped>\n",
       "    .dataframe tbody tr th:only-of-type {\n",
       "        vertical-align: middle;\n",
       "    }\n",
       "\n",
       "    .dataframe tbody tr th {\n",
       "        vertical-align: top;\n",
       "    }\n",
       "\n",
       "    .dataframe thead th {\n",
       "        text-align: right;\n",
       "    }\n",
       "</style>\n",
       "<table border=\"1\" class=\"dataframe\">\n",
       "  <thead>\n",
       "    <tr style=\"text-align: right;\">\n",
       "      <th></th>\n",
       "      <th>deaths</th>\n",
       "    </tr>\n",
       "    <tr>\n",
       "      <th>state</th>\n",
       "      <th></th>\n",
       "    </tr>\n",
       "  </thead>\n",
       "  <tbody>\n",
       "    <tr>\n",
       "      <th>Alabama</th>\n",
       "      <td>2828</td>\n",
       "    </tr>\n",
       "    <tr>\n",
       "      <th>Alaska</th>\n",
       "      <td>68</td>\n",
       "    </tr>\n",
       "    <tr>\n",
       "      <th>Arizona</th>\n",
       "      <td>5854</td>\n",
       "    </tr>\n",
       "    <tr>\n",
       "      <th>Arkansas</th>\n",
       "      <td>1751</td>\n",
       "    </tr>\n",
       "    <tr>\n",
       "      <th>California</th>\n",
       "      <td>17170</td>\n",
       "    </tr>\n",
       "  </tbody>\n",
       "</table>\n",
       "</div>"
      ],
      "text/plain": [
       "            deaths\n",
       "state             \n",
       "Alabama       2828\n",
       "Alaska          68\n",
       "Arizona       5854\n",
       "Arkansas      1751\n",
       "California   17170"
      ]
     },
     "execution_count": 803,
     "metadata": {},
     "output_type": "execute_result"
    }
   ],
   "source": [
    "# list from csv for each state DEATHS\n",
    "\n",
    "deaths = file_one_df.groupby([\"state\"]).sum()['deaths']\n",
    "deaths_df = pd.DataFrame(deaths,columns=['deaths'])\n",
    "deaths_df.head()"
   ]
  },
  {
   "cell_type": "code",
   "execution_count": 804,
   "metadata": {
    "scrolled": true
   },
   "outputs": [
    {
     "data": {
      "text/html": [
       "<div>\n",
       "<style scoped>\n",
       "    .dataframe tbody tr th:only-of-type {\n",
       "        vertical-align: middle;\n",
       "    }\n",
       "\n",
       "    .dataframe tbody tr th {\n",
       "        vertical-align: top;\n",
       "    }\n",
       "\n",
       "    .dataframe thead th {\n",
       "        text-align: right;\n",
       "    }\n",
       "</style>\n",
       "<table border=\"1\" class=\"dataframe\">\n",
       "  <thead>\n",
       "    <tr style=\"text-align: right;\">\n",
       "      <th></th>\n",
       "      <th>total_population</th>\n",
       "      <th>confirmed</th>\n",
       "      <th>deaths</th>\n",
       "    </tr>\n",
       "    <tr>\n",
       "      <th>state</th>\n",
       "      <th></th>\n",
       "      <th></th>\n",
       "      <th></th>\n",
       "    </tr>\n",
       "  </thead>\n",
       "  <tbody>\n",
       "    <tr>\n",
       "      <th>Alabama</th>\n",
       "      <td>4,864,680.00</td>\n",
       "      <td>175674</td>\n",
       "      <td>2828</td>\n",
       "    </tr>\n",
       "    <tr>\n",
       "      <th>Alaska</th>\n",
       "      <td>736,384.00</td>\n",
       "      <td>11602</td>\n",
       "      <td>68</td>\n",
       "    </tr>\n",
       "    <tr>\n",
       "      <th>Arizona</th>\n",
       "      <td>6,946,685.00</td>\n",
       "      <td>233912</td>\n",
       "      <td>5854</td>\n",
       "    </tr>\n",
       "    <tr>\n",
       "      <th>Arkansas</th>\n",
       "      <td>2,990,671.00</td>\n",
       "      <td>101596</td>\n",
       "      <td>1751</td>\n",
       "    </tr>\n",
       "    <tr>\n",
       "      <th>California</th>\n",
       "      <td>39,148,760.00</td>\n",
       "      <td>886939</td>\n",
       "      <td>17170</td>\n",
       "    </tr>\n",
       "  </tbody>\n",
       "</table>\n",
       "</div>"
      ],
      "text/plain": [
       "            total_population  confirmed  deaths\n",
       "state                                          \n",
       "Alabama         4,864,680.00     175674    2828\n",
       "Alaska            736,384.00      11602      68\n",
       "Arizona         6,946,685.00     233912    5854\n",
       "Arkansas        2,990,671.00     101596    1751\n",
       "California     39,148,760.00     886939   17170"
      ]
     },
     "execution_count": 804,
     "metadata": {},
     "output_type": "execute_result"
    }
   ],
   "source": [
    "# join two dataframes for sum of each state\n",
    "\n",
    "comb_con_deaths_df = comb_totpop_con_df.join(deaths_df, lsuffix=\"confirmed\") \n",
    "comb_con_deaths_df.head()"
   ]
  },
  {
   "cell_type": "code",
   "execution_count": 805,
   "metadata": {
    "scrolled": true
   },
   "outputs": [
    {
     "data": {
      "text/html": [
       "<div>\n",
       "<style scoped>\n",
       "    .dataframe tbody tr th:only-of-type {\n",
       "        vertical-align: middle;\n",
       "    }\n",
       "\n",
       "    .dataframe tbody tr th {\n",
       "        vertical-align: top;\n",
       "    }\n",
       "\n",
       "    .dataframe thead th {\n",
       "        text-align: right;\n",
       "    }\n",
       "</style>\n",
       "<table border=\"1\" class=\"dataframe\">\n",
       "  <thead>\n",
       "    <tr style=\"text-align: right;\">\n",
       "      <th></th>\n",
       "      <th>LACCESS_POP15</th>\n",
       "    </tr>\n",
       "    <tr>\n",
       "      <th>State</th>\n",
       "      <th></th>\n",
       "    </tr>\n",
       "  </thead>\n",
       "  <tbody>\n",
       "    <tr>\n",
       "      <th>Alaska</th>\n",
       "      <td>223,550.11</td>\n",
       "    </tr>\n",
       "    <tr>\n",
       "      <th>Alabama</th>\n",
       "      <td>962,910.89</td>\n",
       "    </tr>\n",
       "    <tr>\n",
       "      <th>Arkansas</th>\n",
       "      <td>587,921.07</td>\n",
       "    </tr>\n",
       "    <tr>\n",
       "      <th>Arizona</th>\n",
       "      <td>1,254,357.80</td>\n",
       "    </tr>\n",
       "    <tr>\n",
       "      <th>California</th>\n",
       "      <td>4,323,349.51</td>\n",
       "    </tr>\n",
       "  </tbody>\n",
       "</table>\n",
       "</div>"
      ],
      "text/plain": [
       "            LACCESS_POP15\n",
       "State                    \n",
       "Alaska         223,550.11\n",
       "Alabama        962,910.89\n",
       "Arkansas       587,921.07\n",
       "Arizona      1,254,357.80\n",
       "California   4,323,349.51"
      ]
     },
     "execution_count": 805,
     "metadata": {},
     "output_type": "execute_result"
    }
   ],
   "source": [
    "# make dataframe for Low Access Population\n",
    "\n",
    "low_access_store_state = df1.groupby([\"State\"]).sum()[\"LACCESS_POP15\"]\n",
    "low_access_store_state_df = pd.DataFrame(low_access_store_state,columns=['LACCESS_POP15'])\n",
    "rename_low_access_df = low_access_store_state_df.rename({\"AK\":\"Alaska\",\"AL\":\"Alabama\",\"AR\":\"Arkansas\",\"AZ\":\"Arizona\",\"CA\":\"California\",\"CO\":\"Colorado\",\"CT\":\"Connecticut\",\"DC\":\"District of Columbia\",\"DE\":\"Delaware\",\"FL\":\"Florida\",\"GA\":\"Georgia\",\"HI\":\"Hawaii\",\"IA\":\"Iowa\",\"ID\":\"Idaho\",\"IL\":\"Illinois\",\"IN\":\"Indiana\",\"KS\":\"Kansas\",\"KY\":\"Kentucky\",\"LA\":\"Louisiana\",\"MA\":\"Massachusetts\",\"MD\":\"Maryland\",\"ME\":\"Maine\",\"MI\":\"Michigan\",\"MN\":\"Minnesota\",\"MO\":\"Missouri\",\"MS\":\"Mississippi\",\"MT\":\"Montana\",\"NV\":\"Nevada\",\"NC\":\"North Carolina\",\"ND\":\"North Dakota\",\"NE\":\"Nebraska\",\"NH\":\"New Hampshire\",\"NY\":\"New York\",\"OH\":\"Ohio\",\"OK\":\"Oklahoma\",\"OR\":\"Oregon\",\"PA\":\"Pennsylvania\",\"RI\":\"Rhode Island\",\"SC\":\"South Carolina\",\"SD\":\"South Dakota\",\"TN\":\"Tennessee\",\"TX\":\"Texas\",\"UT\":\"Utah\",\"VA\":\"Virginia\",\"VT\":\"Vermont\",\"WA\":\"Washington\",\"WI\":\"Wisconsin\",\"WV\":\"West Virginia\",\"WY\":\"Wyoming\",\"NM\":\"New Mexico\",\"NJ\":\"New Jersey\",\"RI\":\"Rhode Island\"})\n",
    "\n",
    "rename_low_access_df.head()"
   ]
  },
  {
   "cell_type": "code",
   "execution_count": 806,
   "metadata": {},
   "outputs": [
    {
     "data": {
      "text/html": [
       "<div>\n",
       "<style scoped>\n",
       "    .dataframe tbody tr th:only-of-type {\n",
       "        vertical-align: middle;\n",
       "    }\n",
       "\n",
       "    .dataframe tbody tr th {\n",
       "        vertical-align: top;\n",
       "    }\n",
       "\n",
       "    .dataframe thead th {\n",
       "        text-align: right;\n",
       "    }\n",
       "</style>\n",
       "<table border=\"1\" class=\"dataframe\">\n",
       "  <thead>\n",
       "    <tr style=\"text-align: right;\">\n",
       "      <th></th>\n",
       "      <th>total_population</th>\n",
       "      <th>confirmed</th>\n",
       "      <th>deaths</th>\n",
       "      <th>Low Access to Store</th>\n",
       "    </tr>\n",
       "    <tr>\n",
       "      <th>state</th>\n",
       "      <th></th>\n",
       "      <th></th>\n",
       "      <th></th>\n",
       "      <th></th>\n",
       "    </tr>\n",
       "  </thead>\n",
       "  <tbody>\n",
       "    <tr>\n",
       "      <th>Alabama</th>\n",
       "      <td>4,864,680.00</td>\n",
       "      <td>175674</td>\n",
       "      <td>2828</td>\n",
       "      <td>962,910.89</td>\n",
       "    </tr>\n",
       "    <tr>\n",
       "      <th>Alaska</th>\n",
       "      <td>736,384.00</td>\n",
       "      <td>11602</td>\n",
       "      <td>68</td>\n",
       "      <td>223,550.11</td>\n",
       "    </tr>\n",
       "    <tr>\n",
       "      <th>Arizona</th>\n",
       "      <td>6,946,685.00</td>\n",
       "      <td>233912</td>\n",
       "      <td>5854</td>\n",
       "      <td>1,254,357.80</td>\n",
       "    </tr>\n",
       "    <tr>\n",
       "      <th>Arkansas</th>\n",
       "      <td>2,990,671.00</td>\n",
       "      <td>101596</td>\n",
       "      <td>1751</td>\n",
       "      <td>587,921.07</td>\n",
       "    </tr>\n",
       "    <tr>\n",
       "      <th>California</th>\n",
       "      <td>39,148,760.00</td>\n",
       "      <td>886939</td>\n",
       "      <td>17170</td>\n",
       "      <td>4,323,349.51</td>\n",
       "    </tr>\n",
       "  </tbody>\n",
       "</table>\n",
       "</div>"
      ],
      "text/plain": [
       "            total_population  confirmed  deaths  Low Access to Store\n",
       "state                                                               \n",
       "Alabama         4,864,680.00     175674    2828           962,910.89\n",
       "Alaska            736,384.00      11602      68           223,550.11\n",
       "Arizona         6,946,685.00     233912    5854         1,254,357.80\n",
       "Arkansas        2,990,671.00     101596    1751           587,921.07\n",
       "California     39,148,760.00     886939   17170         4,323,349.51"
      ]
     },
     "execution_count": 806,
     "metadata": {},
     "output_type": "execute_result"
    }
   ],
   "source": [
    "# join confirmed/deaths and low access\n",
    "\n",
    "comb_condeaths_laccess_df = comb_con_deaths_df.join(rename_low_access_df, lsuffix=\"deaths\") \n",
    "\n",
    "# rename column LACCESS_POP15\n",
    "\n",
    "renamed_comb_condeaths_laccess_df = comb_condeaths_laccess_df.rename(columns={\"LACCESS_POP15\": \"Low Access to Store\"})\n",
    "renamed_comb_condeaths_laccess_df.head()"
   ]
  },
  {
   "cell_type": "code",
   "execution_count": 807,
   "metadata": {},
   "outputs": [
    {
     "data": {
      "text/html": [
       "<div>\n",
       "<style scoped>\n",
       "    .dataframe tbody tr th:only-of-type {\n",
       "        vertical-align: middle;\n",
       "    }\n",
       "\n",
       "    .dataframe tbody tr th {\n",
       "        vertical-align: top;\n",
       "    }\n",
       "\n",
       "    .dataframe thead th {\n",
       "        text-align: right;\n",
       "    }\n",
       "</style>\n",
       "<table border=\"1\" class=\"dataframe\">\n",
       "  <thead>\n",
       "    <tr style=\"text-align: right;\">\n",
       "      <th></th>\n",
       "      <th>LACCESS_LOWI15</th>\n",
       "    </tr>\n",
       "    <tr>\n",
       "      <th>State</th>\n",
       "      <th></th>\n",
       "    </tr>\n",
       "  </thead>\n",
       "  <tbody>\n",
       "    <tr>\n",
       "      <th>Alaska</th>\n",
       "      <td>64,994.54</td>\n",
       "    </tr>\n",
       "    <tr>\n",
       "      <th>Alabama</th>\n",
       "      <td>378,623.20</td>\n",
       "    </tr>\n",
       "    <tr>\n",
       "      <th>Arkansas</th>\n",
       "      <td>254,969.90</td>\n",
       "    </tr>\n",
       "    <tr>\n",
       "      <th>Arizona</th>\n",
       "      <td>482,198.71</td>\n",
       "    </tr>\n",
       "    <tr>\n",
       "      <th>California</th>\n",
       "      <td>1,225,949.44</td>\n",
       "    </tr>\n",
       "  </tbody>\n",
       "</table>\n",
       "</div>"
      ],
      "text/plain": [
       "            LACCESS_LOWI15\n",
       "State                     \n",
       "Alaska           64,994.54\n",
       "Alabama         378,623.20\n",
       "Arkansas        254,969.90\n",
       "Arizona         482,198.71\n",
       "California    1,225,949.44"
      ]
     },
     "execution_count": 807,
     "metadata": {},
     "output_type": "execute_result"
    }
   ],
   "source": [
    "# make dataframe for Low Access Low Income Population\n",
    "low_access_lowi_store_state = df1.groupby([\"State\"]).sum()[\"LACCESS_LOWI15\"]\n",
    "low_access_lowi_store_state_df = pd.DataFrame(low_access_lowi_store_state,columns=['LACCESS_LOWI15'])\n",
    "rename_low_lowi_access_df = low_access_lowi_store_state_df.rename({\"AK\":\"Alaska\",\"AL\":\"Alabama\",\"AR\":\"Arkansas\",\"AZ\":\"Arizona\",\"CA\":\"California\",\"CO\":\"Colorado\",\"CT\":\"Connecticut\",\"DC\":\"District of Columbia\",\"DE\":\"Delaware\",\"FL\":\"Florida\",\"GA\":\"Georgia\",\"HI\":\"Hawaii\",\"IA\":\"Iowa\",\"ID\":\"Idaho\",\"IL\":\"Illinois\",\"IN\":\"Indiana\",\"KS\":\"Kansas\",\"KY\":\"Kentucky\",\"LA\":\"Louisiana\",\"MA\":\"Massachusetts\",\"MD\":\"Maryland\",\"ME\":\"Maine\",\"MI\":\"Michigan\",\"MN\":\"Minnesota\",\"MO\":\"Missouri\",\"MS\":\"Mississippi\",\"MT\":\"Montana\",\"NV\":\"Nevada\",\"NC\":\"North Carolina\",\"ND\":\"North Dakota\",\"NE\":\"Nebraska\",\"NH\":\"New Hampshire\",\"NY\":\"New York\",\"OH\":\"Ohio\",\"OK\":\"Oklahoma\",\"OR\":\"Oregon\",\"PA\":\"Pennsylvania\",\"RI\":\"Rhode Island\",\"SC\":\"South Carolina\",\"SD\":\"South Dakota\",\"TN\":\"Tennessee\",\"TX\":\"Texas\",\"UT\":\"Utah\",\"VA\":\"Virginia\",\"VT\":\"Vermont\",\"WA\":\"Washington\",\"WI\":\"Wisconsin\",\"WV\":\"West Virginia\",\"WY\":\"Wyoming\",\"NM\":\"New Mexico\",\"NJ\":\"New Jersey\",\"RI\":\"Rhode Island\"})\n",
    "\n",
    "rename_low_lowi_access_df.head()"
   ]
  },
  {
   "cell_type": "code",
   "execution_count": 808,
   "metadata": {
    "scrolled": true
   },
   "outputs": [
    {
     "data": {
      "text/html": [
       "<div>\n",
       "<style scoped>\n",
       "    .dataframe tbody tr th:only-of-type {\n",
       "        vertical-align: middle;\n",
       "    }\n",
       "\n",
       "    .dataframe tbody tr th {\n",
       "        vertical-align: top;\n",
       "    }\n",
       "\n",
       "    .dataframe thead th {\n",
       "        text-align: right;\n",
       "    }\n",
       "</style>\n",
       "<table border=\"1\" class=\"dataframe\">\n",
       "  <thead>\n",
       "    <tr style=\"text-align: right;\">\n",
       "      <th></th>\n",
       "      <th>total_population</th>\n",
       "      <th>confirmed</th>\n",
       "      <th>deaths</th>\n",
       "      <th>Low Access to Store</th>\n",
       "      <th>Low Access Low Income to Store</th>\n",
       "    </tr>\n",
       "    <tr>\n",
       "      <th>state</th>\n",
       "      <th></th>\n",
       "      <th></th>\n",
       "      <th></th>\n",
       "      <th></th>\n",
       "      <th></th>\n",
       "    </tr>\n",
       "  </thead>\n",
       "  <tbody>\n",
       "    <tr>\n",
       "      <th>Alabama</th>\n",
       "      <td>4,864,680.00</td>\n",
       "      <td>175674</td>\n",
       "      <td>2828</td>\n",
       "      <td>962,910.89</td>\n",
       "      <td>378,623.20</td>\n",
       "    </tr>\n",
       "    <tr>\n",
       "      <th>Alaska</th>\n",
       "      <td>736,384.00</td>\n",
       "      <td>11602</td>\n",
       "      <td>68</td>\n",
       "      <td>223,550.11</td>\n",
       "      <td>64,994.54</td>\n",
       "    </tr>\n",
       "    <tr>\n",
       "      <th>Arizona</th>\n",
       "      <td>6,946,685.00</td>\n",
       "      <td>233912</td>\n",
       "      <td>5854</td>\n",
       "      <td>1,254,357.80</td>\n",
       "      <td>482,198.71</td>\n",
       "    </tr>\n",
       "    <tr>\n",
       "      <th>Arkansas</th>\n",
       "      <td>2,990,671.00</td>\n",
       "      <td>101596</td>\n",
       "      <td>1751</td>\n",
       "      <td>587,921.07</td>\n",
       "      <td>254,969.90</td>\n",
       "    </tr>\n",
       "    <tr>\n",
       "      <th>California</th>\n",
       "      <td>39,148,760.00</td>\n",
       "      <td>886939</td>\n",
       "      <td>17170</td>\n",
       "      <td>4,323,349.51</td>\n",
       "      <td>1,225,949.44</td>\n",
       "    </tr>\n",
       "  </tbody>\n",
       "</table>\n",
       "</div>"
      ],
      "text/plain": [
       "            total_population  confirmed  deaths  Low Access to Store  \\\n",
       "state                                                                  \n",
       "Alabama         4,864,680.00     175674    2828           962,910.89   \n",
       "Alaska            736,384.00      11602      68           223,550.11   \n",
       "Arizona         6,946,685.00     233912    5854         1,254,357.80   \n",
       "Arkansas        2,990,671.00     101596    1751           587,921.07   \n",
       "California     39,148,760.00     886939   17170         4,323,349.51   \n",
       "\n",
       "            Low Access Low Income to Store  \n",
       "state                                       \n",
       "Alabama                         378,623.20  \n",
       "Alaska                           64,994.54  \n",
       "Arizona                         482,198.71  \n",
       "Arkansas                        254,969.90  \n",
       "California                    1,225,949.44  "
      ]
     },
     "execution_count": 808,
     "metadata": {},
     "output_type": "execute_result"
    }
   ],
   "source": [
    "# join confirmed/deaths and low access\n",
    "\n",
    "comb_condeaths_laccesslowi_df = renamed_comb_condeaths_laccess_df.join(rename_low_lowi_access_df, lsuffix=\"Low Access Store\") \n",
    "\n",
    "# rename column LACCESS_LOWI15\n",
    "\n",
    "renamed_comb_condeaths_laccesslowi_df = comb_condeaths_laccesslowi_df.rename(columns={\"LACCESS_LOWI15\": \"Low Access Low Income to Store\"})\n",
    "renamed_comb_condeaths_laccesslowi_df.head()"
   ]
  },
  {
   "cell_type": "code",
   "execution_count": 809,
   "metadata": {
    "scrolled": true
   },
   "outputs": [
    {
     "data": {
      "text/html": [
       "<div>\n",
       "<style scoped>\n",
       "    .dataframe tbody tr th:only-of-type {\n",
       "        vertical-align: middle;\n",
       "    }\n",
       "\n",
       "    .dataframe tbody tr th {\n",
       "        vertical-align: top;\n",
       "    }\n",
       "\n",
       "    .dataframe thead th {\n",
       "        text-align: right;\n",
       "    }\n",
       "</style>\n",
       "<table border=\"1\" class=\"dataframe\">\n",
       "  <thead>\n",
       "    <tr style=\"text-align: right;\">\n",
       "      <th></th>\n",
       "      <th># of Convenience Stores</th>\n",
       "      <th>% Convenience Stores</th>\n",
       "    </tr>\n",
       "    <tr>\n",
       "      <th>State</th>\n",
       "      <th></th>\n",
       "      <th></th>\n",
       "    </tr>\n",
       "  </thead>\n",
       "  <tbody>\n",
       "    <tr>\n",
       "      <th>Alaska</th>\n",
       "      <td>173</td>\n",
       "      <td></td>\n",
       "    </tr>\n",
       "    <tr>\n",
       "      <th>Alabama</th>\n",
       "      <td>3237</td>\n",
       "      <td></td>\n",
       "    </tr>\n",
       "    <tr>\n",
       "      <th>Arkansas</th>\n",
       "      <td>1512</td>\n",
       "      <td></td>\n",
       "    </tr>\n",
       "    <tr>\n",
       "      <th>Arizona</th>\n",
       "      <td>1903</td>\n",
       "      <td></td>\n",
       "    </tr>\n",
       "    <tr>\n",
       "      <th>California</th>\n",
       "      <td>8949</td>\n",
       "      <td></td>\n",
       "    </tr>\n",
       "  </tbody>\n",
       "</table>\n",
       "</div>"
      ],
      "text/plain": [
       "            # of Convenience Stores % Convenience Stores\n",
       "State                                                   \n",
       "Alaska                          173                     \n",
       "Alabama                        3237                     \n",
       "Arkansas                       1512                     \n",
       "Arizona                        1903                     \n",
       "California                     8949                     "
      ]
     },
     "execution_count": 809,
     "metadata": {},
     "output_type": "execute_result"
    }
   ],
   "source": [
    "# make dataframe for Low Access Low Income Population\n",
    "conv_store_state = renamed_df_STORES.groupby([\"State\"]).sum()[\"# of Convenience Stores\"]\n",
    "conv_store_state_df = pd.DataFrame(conv_store_state,columns=['# of Convenience Stores'])\n",
    "conv_store_state_df[\"% Convenience Stores\"]=\"\"\n",
    "rename_conv_store_state_df = conv_store_state_df.rename({\"AK\":\"Alaska\",\"AL\":\"Alabama\",\"AR\":\"Arkansas\",\"AZ\":\"Arizona\",\"CA\":\"California\",\"CO\":\"Colorado\",\"CT\":\"Connecticut\",\"DC\":\"District of Columbia\",\"DE\":\"Delaware\",\"FL\":\"Florida\",\"GA\":\"Georgia\",\"HI\":\"Hawaii\",\"IA\":\"Iowa\",\"ID\":\"Idaho\",\"IL\":\"Illinois\",\"IN\":\"Indiana\",\"KS\":\"Kansas\",\"KY\":\"Kentucky\",\"LA\":\"Louisiana\",\"MA\":\"Massachusetts\",\"MD\":\"Maryland\",\"ME\":\"Maine\",\"MI\":\"Michigan\",\"MN\":\"Minnesota\",\"MO\":\"Missouri\",\"MS\":\"Mississippi\",\"MT\":\"Montana\",\"NV\":\"Nevada\",\"NC\":\"North Carolina\",\"ND\":\"North Dakota\",\"NE\":\"Nebraska\",\"NH\":\"New Hampshire\",\"NY\":\"New York\",\"OH\":\"Ohio\",\"OK\":\"Oklahoma\",\"OR\":\"Oregon\",\"PA\":\"Pennsylvania\",\"RI\":\"Rhode Island\",\"SC\":\"South Carolina\",\"SD\":\"South Dakota\",\"TN\":\"Tennessee\",\"TX\":\"Texas\",\"UT\":\"Utah\",\"VA\":\"Virginia\",\"VT\":\"Vermont\",\"WA\":\"Washington\",\"WI\":\"Wisconsin\",\"WV\":\"West Virginia\",\"WY\":\"Wyoming\",\"NM\":\"New Mexico\",\"NJ\":\"New Jersey\",\"RI\":\"Rhode Island\"})\n",
    "\n",
    "rename_conv_store_state_df.head()"
   ]
  },
  {
   "cell_type": "code",
   "execution_count": 810,
   "metadata": {},
   "outputs": [
    {
     "data": {
      "text/html": [
       "<div>\n",
       "<style scoped>\n",
       "    .dataframe tbody tr th:only-of-type {\n",
       "        vertical-align: middle;\n",
       "    }\n",
       "\n",
       "    .dataframe tbody tr th {\n",
       "        vertical-align: top;\n",
       "    }\n",
       "\n",
       "    .dataframe thead th {\n",
       "        text-align: right;\n",
       "    }\n",
       "</style>\n",
       "<table border=\"1\" class=\"dataframe\">\n",
       "  <thead>\n",
       "    <tr style=\"text-align: right;\">\n",
       "      <th></th>\n",
       "      <th># of Grocery Stores</th>\n",
       "      <th>% Grocery Stores</th>\n",
       "    </tr>\n",
       "    <tr>\n",
       "      <th>State</th>\n",
       "      <th></th>\n",
       "      <th></th>\n",
       "    </tr>\n",
       "  </thead>\n",
       "  <tbody>\n",
       "    <tr>\n",
       "      <th>Alaska</th>\n",
       "      <td>215</td>\n",
       "      <td></td>\n",
       "    </tr>\n",
       "    <tr>\n",
       "      <th>Alabama</th>\n",
       "      <td>757</td>\n",
       "      <td></td>\n",
       "    </tr>\n",
       "    <tr>\n",
       "      <th>Arkansas</th>\n",
       "      <td>480</td>\n",
       "      <td></td>\n",
       "    </tr>\n",
       "    <tr>\n",
       "      <th>Arizona</th>\n",
       "      <td>786</td>\n",
       "      <td></td>\n",
       "    </tr>\n",
       "    <tr>\n",
       "      <th>California</th>\n",
       "      <td>7874</td>\n",
       "      <td></td>\n",
       "    </tr>\n",
       "  </tbody>\n",
       "</table>\n",
       "</div>"
      ],
      "text/plain": [
       "            # of Grocery Stores % Grocery Stores\n",
       "State                                           \n",
       "Alaska                      215                 \n",
       "Alabama                     757                 \n",
       "Arkansas                    480                 \n",
       "Arizona                     786                 \n",
       "California                 7874                 "
      ]
     },
     "execution_count": 810,
     "metadata": {},
     "output_type": "execute_result"
    }
   ],
   "source": [
    "# make dataframe for Low Access Low Income Population\n",
    "grocery_store_state = renamed_df_STORES.groupby([\"State\"]).sum()[\"# of Grocery Stores\"]\n",
    "grocery_store_state_df = pd.DataFrame(grocery_store_state,columns=['# of Grocery Stores'])\n",
    "grocery_store_state_df[\"% Grocery Stores\"]=\"\"\n",
    "rename_grocery_store_state_df = grocery_store_state_df.rename({\"AK\":\"Alaska\",\"AL\":\"Alabama\",\"AR\":\"Arkansas\",\"AZ\":\"Arizona\",\"CA\":\"California\",\"CO\":\"Colorado\",\"CT\":\"Connecticut\",\"DC\":\"District of Columbia\",\"DE\":\"Delaware\",\"FL\":\"Florida\",\"GA\":\"Georgia\",\"HI\":\"Hawaii\",\"IA\":\"Iowa\",\"ID\":\"Idaho\",\"IL\":\"Illinois\",\"IN\":\"Indiana\",\"KS\":\"Kansas\",\"KY\":\"Kentucky\",\"LA\":\"Louisiana\",\"MA\":\"Massachusetts\",\"MD\":\"Maryland\",\"ME\":\"Maine\",\"MI\":\"Michigan\",\"MN\":\"Minnesota\",\"MO\":\"Missouri\",\"MS\":\"Mississippi\",\"MT\":\"Montana\",\"NV\":\"Nevada\",\"NC\":\"North Carolina\",\"ND\":\"North Dakota\",\"NE\":\"Nebraska\",\"NH\":\"New Hampshire\",\"NY\":\"New York\",\"OH\":\"Ohio\",\"OK\":\"Oklahoma\",\"OR\":\"Oregon\",\"PA\":\"Pennsylvania\",\"RI\":\"Rhode Island\",\"SC\":\"South Carolina\",\"SD\":\"South Dakota\",\"TN\":\"Tennessee\",\"TX\":\"Texas\",\"UT\":\"Utah\",\"VA\":\"Virginia\",\"VT\":\"Vermont\",\"WA\":\"Washington\",\"WI\":\"Wisconsin\",\"WV\":\"West Virginia\",\"WY\":\"Wyoming\",\"NM\":\"New Mexico\",\"NJ\":\"New Jersey\",\"RI\":\"Rhode Island\"})\n",
    "\n",
    "rename_grocery_store_state_df.head()"
   ]
  },
  {
   "cell_type": "code",
   "execution_count": 811,
   "metadata": {},
   "outputs": [
    {
     "data": {
      "text/html": [
       "<div>\n",
       "<style scoped>\n",
       "    .dataframe tbody tr th:only-of-type {\n",
       "        vertical-align: middle;\n",
       "    }\n",
       "\n",
       "    .dataframe tbody tr th {\n",
       "        vertical-align: top;\n",
       "    }\n",
       "\n",
       "    .dataframe thead th {\n",
       "        text-align: right;\n",
       "    }\n",
       "</style>\n",
       "<table border=\"1\" class=\"dataframe\">\n",
       "  <thead>\n",
       "    <tr style=\"text-align: right;\">\n",
       "      <th></th>\n",
       "      <th># of Grocery Stores</th>\n",
       "      <th>% Grocery Stores</th>\n",
       "      <th># of Convenience Stores</th>\n",
       "      <th>% Convenience Stores</th>\n",
       "    </tr>\n",
       "    <tr>\n",
       "      <th>State</th>\n",
       "      <th></th>\n",
       "      <th></th>\n",
       "      <th></th>\n",
       "      <th></th>\n",
       "    </tr>\n",
       "  </thead>\n",
       "  <tbody>\n",
       "    <tr>\n",
       "      <th>Alaska</th>\n",
       "      <td>215</td>\n",
       "      <td>0.55</td>\n",
       "      <td>173</td>\n",
       "      <td>0.45</td>\n",
       "    </tr>\n",
       "    <tr>\n",
       "      <th>Alabama</th>\n",
       "      <td>757</td>\n",
       "      <td>0.19</td>\n",
       "      <td>3237</td>\n",
       "      <td>0.81</td>\n",
       "    </tr>\n",
       "    <tr>\n",
       "      <th>Arkansas</th>\n",
       "      <td>480</td>\n",
       "      <td>0.24</td>\n",
       "      <td>1512</td>\n",
       "      <td>0.76</td>\n",
       "    </tr>\n",
       "    <tr>\n",
       "      <th>Arizona</th>\n",
       "      <td>786</td>\n",
       "      <td>0.29</td>\n",
       "      <td>1903</td>\n",
       "      <td>0.71</td>\n",
       "    </tr>\n",
       "    <tr>\n",
       "      <th>California</th>\n",
       "      <td>7874</td>\n",
       "      <td>0.47</td>\n",
       "      <td>8949</td>\n",
       "      <td>0.53</td>\n",
       "    </tr>\n",
       "  </tbody>\n",
       "</table>\n",
       "</div>"
      ],
      "text/plain": [
       "            # of Grocery Stores  % Grocery Stores  # of Convenience Stores  \\\n",
       "State                                                                        \n",
       "Alaska                      215              0.55                      173   \n",
       "Alabama                     757              0.19                     3237   \n",
       "Arkansas                    480              0.24                     1512   \n",
       "Arizona                     786              0.29                     1903   \n",
       "California                 7874              0.47                     8949   \n",
       "\n",
       "            % Convenience Stores  \n",
       "State                             \n",
       "Alaska                      0.45  \n",
       "Alabama                     0.81  \n",
       "Arkansas                    0.76  \n",
       "Arizona                     0.71  \n",
       "California                  0.53  "
      ]
     },
     "execution_count": 811,
     "metadata": {},
     "output_type": "execute_result"
    }
   ],
   "source": [
    "# join dataframes with empty columns\n",
    "comb_STORES_state_df = rename_grocery_store_state_df.join(rename_conv_store_state_df, lsuffix=\"% Grocery Stores\")\n",
    "\n",
    "#divide to find %'s \n",
    "comb_STORES_state_df[\"% Grocery Stores\"]=comb_STORES_state_df['# of Grocery Stores']/(comb_STORES_state_df['# of Grocery Stores'] + comb_STORES_state_df['# of Convenience Stores'])\n",
    "comb_STORES_state_df[\"% Convenience Stores\"]=comb_STORES_state_df['# of Convenience Stores']/(comb_STORES_state_df['# of Grocery Stores'] + comb_STORES_state_df['# of Convenience Stores'])\n",
    "\n",
    "comb_STORES_state_df.head()\n"
   ]
  },
  {
   "cell_type": "code",
   "execution_count": 812,
   "metadata": {},
   "outputs": [
    {
     "data": {
      "text/html": [
       "<div>\n",
       "<style scoped>\n",
       "    .dataframe tbody tr th:only-of-type {\n",
       "        vertical-align: middle;\n",
       "    }\n",
       "\n",
       "    .dataframe tbody tr th {\n",
       "        vertical-align: top;\n",
       "    }\n",
       "\n",
       "    .dataframe thead th {\n",
       "        text-align: right;\n",
       "    }\n",
       "</style>\n",
       "<table border=\"1\" class=\"dataframe\">\n",
       "  <thead>\n",
       "    <tr style=\"text-align: right;\">\n",
       "      <th></th>\n",
       "      <th>total_population</th>\n",
       "      <th>confirmed</th>\n",
       "      <th>deaths</th>\n",
       "      <th>Low Access to Store</th>\n",
       "      <th>Low Access Low Income to Store</th>\n",
       "      <th># of Grocery Stores</th>\n",
       "      <th>% Grocery Stores</th>\n",
       "      <th># of Convenience Stores</th>\n",
       "      <th>% Convenience Stores</th>\n",
       "    </tr>\n",
       "    <tr>\n",
       "      <th>state</th>\n",
       "      <th></th>\n",
       "      <th></th>\n",
       "      <th></th>\n",
       "      <th></th>\n",
       "      <th></th>\n",
       "      <th></th>\n",
       "      <th></th>\n",
       "      <th></th>\n",
       "      <th></th>\n",
       "    </tr>\n",
       "  </thead>\n",
       "  <tbody>\n",
       "    <tr>\n",
       "      <th>Alabama</th>\n",
       "      <td>4,864,680.00</td>\n",
       "      <td>175674</td>\n",
       "      <td>2828</td>\n",
       "      <td>962,910.89</td>\n",
       "      <td>378,623.20</td>\n",
       "      <td>757.00</td>\n",
       "      <td>0.19</td>\n",
       "      <td>3,237.00</td>\n",
       "      <td>0.81</td>\n",
       "    </tr>\n",
       "    <tr>\n",
       "      <th>Alaska</th>\n",
       "      <td>736,384.00</td>\n",
       "      <td>11602</td>\n",
       "      <td>68</td>\n",
       "      <td>223,550.11</td>\n",
       "      <td>64,994.54</td>\n",
       "      <td>215.00</td>\n",
       "      <td>0.55</td>\n",
       "      <td>173.00</td>\n",
       "      <td>0.45</td>\n",
       "    </tr>\n",
       "    <tr>\n",
       "      <th>Arizona</th>\n",
       "      <td>6,946,685.00</td>\n",
       "      <td>233912</td>\n",
       "      <td>5854</td>\n",
       "      <td>1,254,357.80</td>\n",
       "      <td>482,198.71</td>\n",
       "      <td>786.00</td>\n",
       "      <td>0.29</td>\n",
       "      <td>1,903.00</td>\n",
       "      <td>0.71</td>\n",
       "    </tr>\n",
       "    <tr>\n",
       "      <th>Arkansas</th>\n",
       "      <td>2,990,671.00</td>\n",
       "      <td>101596</td>\n",
       "      <td>1751</td>\n",
       "      <td>587,921.07</td>\n",
       "      <td>254,969.90</td>\n",
       "      <td>480.00</td>\n",
       "      <td>0.24</td>\n",
       "      <td>1,512.00</td>\n",
       "      <td>0.76</td>\n",
       "    </tr>\n",
       "    <tr>\n",
       "      <th>California</th>\n",
       "      <td>39,148,760.00</td>\n",
       "      <td>886939</td>\n",
       "      <td>17170</td>\n",
       "      <td>4,323,349.51</td>\n",
       "      <td>1,225,949.44</td>\n",
       "      <td>7,874.00</td>\n",
       "      <td>0.47</td>\n",
       "      <td>8,949.00</td>\n",
       "      <td>0.53</td>\n",
       "    </tr>\n",
       "  </tbody>\n",
       "</table>\n",
       "</div>"
      ],
      "text/plain": [
       "            total_population  confirmed  deaths  Low Access to Store  \\\n",
       "state                                                                  \n",
       "Alabama         4,864,680.00     175674    2828           962,910.89   \n",
       "Alaska            736,384.00      11602      68           223,550.11   \n",
       "Arizona         6,946,685.00     233912    5854         1,254,357.80   \n",
       "Arkansas        2,990,671.00     101596    1751           587,921.07   \n",
       "California     39,148,760.00     886939   17170         4,323,349.51   \n",
       "\n",
       "            Low Access Low Income to Store  # of Grocery Stores  \\\n",
       "state                                                             \n",
       "Alabama                         378,623.20               757.00   \n",
       "Alaska                           64,994.54               215.00   \n",
       "Arizona                         482,198.71               786.00   \n",
       "Arkansas                        254,969.90               480.00   \n",
       "California                    1,225,949.44             7,874.00   \n",
       "\n",
       "            % Grocery Stores  # of Convenience Stores  % Convenience Stores  \n",
       "state                                                                        \n",
       "Alabama                 0.19                 3,237.00                  0.81  \n",
       "Alaska                  0.55                   173.00                  0.45  \n",
       "Arizona                 0.29                 1,903.00                  0.71  \n",
       "Arkansas                0.24                 1,512.00                  0.76  \n",
       "California              0.47                 8,949.00                  0.53  "
      ]
     },
     "execution_count": 812,
     "metadata": {},
     "output_type": "execute_result"
    }
   ],
   "source": [
    "# join confirmed/deaths and store info\n",
    "\n",
    "comb_condeaths_stores_df = renamed_comb_condeaths_laccesslowi_df.join(comb_STORES_state_df, lsuffix=\"Low Access Low Income to Store\") \n",
    "comb_condeaths_stores_df.head()"
   ]
  },
  {
   "cell_type": "code",
   "execution_count": 813,
   "metadata": {
    "scrolled": true
   },
   "outputs": [
    {
     "data": {
      "text/html": [
       "<div>\n",
       "<style scoped>\n",
       "    .dataframe tbody tr th:only-of-type {\n",
       "        vertical-align: middle;\n",
       "    }\n",
       "\n",
       "    .dataframe tbody tr th {\n",
       "        vertical-align: top;\n",
       "    }\n",
       "\n",
       "    .dataframe thead th {\n",
       "        text-align: right;\n",
       "    }\n",
       "</style>\n",
       "<table border=\"1\" class=\"dataframe\">\n",
       "  <thead>\n",
       "    <tr style=\"text-align: right;\">\n",
       "      <th></th>\n",
       "      <th>PCT_OBESE_ADULTS17</th>\n",
       "      <th>Total Obese Adults Per State</th>\n",
       "    </tr>\n",
       "    <tr>\n",
       "      <th>State</th>\n",
       "      <th></th>\n",
       "      <th></th>\n",
       "    </tr>\n",
       "  </thead>\n",
       "  <tbody>\n",
       "    <tr>\n",
       "      <th>Alaska</th>\n",
       "      <td>34.20</td>\n",
       "      <td></td>\n",
       "    </tr>\n",
       "    <tr>\n",
       "      <th>Alabama</th>\n",
       "      <td>36.30</td>\n",
       "      <td></td>\n",
       "    </tr>\n",
       "    <tr>\n",
       "      <th>Arkansas</th>\n",
       "      <td>35.00</td>\n",
       "      <td></td>\n",
       "    </tr>\n",
       "    <tr>\n",
       "      <th>Arizona</th>\n",
       "      <td>29.50</td>\n",
       "      <td></td>\n",
       "    </tr>\n",
       "    <tr>\n",
       "      <th>California</th>\n",
       "      <td>25.10</td>\n",
       "      <td></td>\n",
       "    </tr>\n",
       "  </tbody>\n",
       "</table>\n",
       "</div>"
      ],
      "text/plain": [
       "            PCT_OBESE_ADULTS17 Total Obese Adults Per State\n",
       "State                                                      \n",
       "Alaska                   34.20                             \n",
       "Alabama                  36.30                             \n",
       "Arkansas                 35.00                             \n",
       "Arizona                  29.50                             \n",
       "California               25.10                             "
      ]
     },
     "execution_count": 813,
     "metadata": {},
     "output_type": "execute_result"
    }
   ],
   "source": [
    "# make dataframe for Low Access obesity Population\n",
    "obesity_state = df1_HEALTH.groupby([\"State\"]).mean()[\"PCT_OBESE_ADULTS17\"]\n",
    "obesity_state_df = pd.DataFrame(obesity_state,columns=['PCT_OBESE_ADULTS17'])\n",
    "obesity_state_df[\"Total Obese Adults Per State\"]=\"\"\n",
    "rename_obesity_state_df = obesity_state_df.rename({\"AK\":\"Alaska\",\"AL\":\"Alabama\",\"AR\":\"Arkansas\",\"AZ\":\"Arizona\",\"CA\":\"California\",\"CO\":\"Colorado\",\"CT\":\"Connecticut\",\"DC\":\"District of Columbia\",\"DE\":\"Delaware\",\"FL\":\"Florida\",\"GA\":\"Georgia\",\"HI\":\"Hawaii\",\"IA\":\"Iowa\",\"ID\":\"Idaho\",\"IL\":\"Illinois\",\"IN\":\"Indiana\",\"KS\":\"Kansas\",\"KY\":\"Kentucky\",\"LA\":\"Louisiana\",\"MA\":\"Massachusetts\",\"MD\":\"Maryland\",\"ME\":\"Maine\",\"MI\":\"Michigan\",\"MN\":\"Minnesota\",\"MO\":\"Missouri\",\"MS\":\"Mississippi\",\"MT\":\"Montana\",\"NV\":\"Nevada\",\"NC\":\"North Carolina\",\"ND\":\"North Dakota\",\"NE\":\"Nebraska\",\"NH\":\"New Hampshire\",\"NY\":\"New York\",\"OH\":\"Ohio\",\"OK\":\"Oklahoma\",\"OR\":\"Oregon\",\"PA\":\"Pennsylvania\",\"RI\":\"Rhode Island\",\"SC\":\"South Carolina\",\"SD\":\"South Dakota\",\"TN\":\"Tennessee\",\"TX\":\"Texas\",\"UT\":\"Utah\",\"VA\":\"Virginia\",\"VT\":\"Vermont\",\"WA\":\"Washington\",\"WI\":\"Wisconsin\",\"WV\":\"West Virginia\",\"WY\":\"Wyoming\",\"NM\":\"New Mexico\",\"NJ\":\"New Jersey\",\"RI\":\"Rhode Island\"})\n",
    "\n",
    "rename_obesity_state_df.head()"
   ]
  },
  {
   "cell_type": "code",
   "execution_count": 814,
   "metadata": {
    "scrolled": true
   },
   "outputs": [
    {
     "data": {
      "text/html": [
       "<div>\n",
       "<style scoped>\n",
       "    .dataframe tbody tr th:only-of-type {\n",
       "        vertical-align: middle;\n",
       "    }\n",
       "\n",
       "    .dataframe tbody tr th {\n",
       "        vertical-align: top;\n",
       "    }\n",
       "\n",
       "    .dataframe thead th {\n",
       "        text-align: right;\n",
       "    }\n",
       "</style>\n",
       "<table border=\"1\" class=\"dataframe\">\n",
       "  <thead>\n",
       "    <tr style=\"text-align: right;\">\n",
       "      <th></th>\n",
       "      <th>Total Population</th>\n",
       "      <th>Confirmed</th>\n",
       "      <th>Deaths</th>\n",
       "      <th>Low Access to Store</th>\n",
       "      <th>% of Low Access to Store (Total Population)</th>\n",
       "      <th>Low Access Low Income to Store</th>\n",
       "      <th>% of Low Access Low Income to Store (Total Population)</th>\n",
       "      <th># of Grocery Stores</th>\n",
       "      <th>% Grocery Stores</th>\n",
       "      <th># of Convenience Stores</th>\n",
       "      <th>% Convenience Stores</th>\n",
       "      <th>Total Obese Adults Per State</th>\n",
       "      <th>% of Obese Adults</th>\n",
       "    </tr>\n",
       "    <tr>\n",
       "      <th>State</th>\n",
       "      <th></th>\n",
       "      <th></th>\n",
       "      <th></th>\n",
       "      <th></th>\n",
       "      <th></th>\n",
       "      <th></th>\n",
       "      <th></th>\n",
       "      <th></th>\n",
       "      <th></th>\n",
       "      <th></th>\n",
       "      <th></th>\n",
       "      <th></th>\n",
       "      <th></th>\n",
       "    </tr>\n",
       "  </thead>\n",
       "  <tbody>\n",
       "    <tr>\n",
       "      <th>Alaska</th>\n",
       "      <td>736,384.00</td>\n",
       "      <td>11602</td>\n",
       "      <td>68</td>\n",
       "      <td>223,550.11</td>\n",
       "      <td>0.30</td>\n",
       "      <td>64,994.54</td>\n",
       "      <td>0.09</td>\n",
       "      <td>215.00</td>\n",
       "      <td>0.55</td>\n",
       "      <td>173.00</td>\n",
       "      <td>0.45</td>\n",
       "      <td>251,843.33</td>\n",
       "      <td>34.20</td>\n",
       "    </tr>\n",
       "    <tr>\n",
       "      <th>Alabama</th>\n",
       "      <td>4,864,680.00</td>\n",
       "      <td>175674</td>\n",
       "      <td>2828</td>\n",
       "      <td>962,910.89</td>\n",
       "      <td>0.20</td>\n",
       "      <td>378,623.20</td>\n",
       "      <td>0.08</td>\n",
       "      <td>757.00</td>\n",
       "      <td>0.19</td>\n",
       "      <td>3,237.00</td>\n",
       "      <td>0.81</td>\n",
       "      <td>1,765,878.84</td>\n",
       "      <td>36.30</td>\n",
       "    </tr>\n",
       "    <tr>\n",
       "      <th>Arkansas</th>\n",
       "      <td>2,990,671.00</td>\n",
       "      <td>101596</td>\n",
       "      <td>1751</td>\n",
       "      <td>587,921.07</td>\n",
       "      <td>0.20</td>\n",
       "      <td>254,969.90</td>\n",
       "      <td>0.09</td>\n",
       "      <td>480.00</td>\n",
       "      <td>0.24</td>\n",
       "      <td>1,512.00</td>\n",
       "      <td>0.76</td>\n",
       "      <td>1,046,734.85</td>\n",
       "      <td>35.00</td>\n",
       "    </tr>\n",
       "    <tr>\n",
       "      <th>Arizona</th>\n",
       "      <td>6,946,685.00</td>\n",
       "      <td>233912</td>\n",
       "      <td>5854</td>\n",
       "      <td>1,254,357.80</td>\n",
       "      <td>0.18</td>\n",
       "      <td>482,198.71</td>\n",
       "      <td>0.07</td>\n",
       "      <td>786.00</td>\n",
       "      <td>0.29</td>\n",
       "      <td>1,903.00</td>\n",
       "      <td>0.71</td>\n",
       "      <td>2,049,272.08</td>\n",
       "      <td>29.50</td>\n",
       "    </tr>\n",
       "    <tr>\n",
       "      <th>California</th>\n",
       "      <td>39,148,760.00</td>\n",
       "      <td>886939</td>\n",
       "      <td>17170</td>\n",
       "      <td>4,323,349.51</td>\n",
       "      <td>0.11</td>\n",
       "      <td>1,225,949.44</td>\n",
       "      <td>0.03</td>\n",
       "      <td>7,874.00</td>\n",
       "      <td>0.47</td>\n",
       "      <td>8,949.00</td>\n",
       "      <td>0.53</td>\n",
       "      <td>9,826,338.76</td>\n",
       "      <td>25.10</td>\n",
       "    </tr>\n",
       "  </tbody>\n",
       "</table>\n",
       "</div>"
      ],
      "text/plain": [
       "            Total Population  Confirmed  Deaths  Low Access to Store  \\\n",
       "State                                                                  \n",
       "Alaska            736,384.00      11602      68           223,550.11   \n",
       "Alabama         4,864,680.00     175674    2828           962,910.89   \n",
       "Arkansas        2,990,671.00     101596    1751           587,921.07   \n",
       "Arizona         6,946,685.00     233912    5854         1,254,357.80   \n",
       "California     39,148,760.00     886939   17170         4,323,349.51   \n",
       "\n",
       "            % of Low Access to Store (Total Population)  \\\n",
       "State                                                     \n",
       "Alaska                                             0.30   \n",
       "Alabama                                            0.20   \n",
       "Arkansas                                           0.20   \n",
       "Arizona                                            0.18   \n",
       "California                                         0.11   \n",
       "\n",
       "            Low Access Low Income to Store  \\\n",
       "State                                        \n",
       "Alaska                           64,994.54   \n",
       "Alabama                         378,623.20   \n",
       "Arkansas                        254,969.90   \n",
       "Arizona                         482,198.71   \n",
       "California                    1,225,949.44   \n",
       "\n",
       "            % of Low Access Low Income to Store (Total Population)  \\\n",
       "State                                                                \n",
       "Alaska                                                   0.09        \n",
       "Alabama                                                  0.08        \n",
       "Arkansas                                                 0.09        \n",
       "Arizona                                                  0.07        \n",
       "California                                               0.03        \n",
       "\n",
       "            # of Grocery Stores  % Grocery Stores  # of Convenience Stores  \\\n",
       "State                                                                        \n",
       "Alaska                   215.00              0.55                   173.00   \n",
       "Alabama                  757.00              0.19                 3,237.00   \n",
       "Arkansas                 480.00              0.24                 1,512.00   \n",
       "Arizona                  786.00              0.29                 1,903.00   \n",
       "California             7,874.00              0.47                 8,949.00   \n",
       "\n",
       "            % Convenience Stores  Total Obese Adults Per State  \\\n",
       "State                                                            \n",
       "Alaska                      0.45                    251,843.33   \n",
       "Alabama                     0.81                  1,765,878.84   \n",
       "Arkansas                    0.76                  1,046,734.85   \n",
       "Arizona                     0.71                  2,049,272.08   \n",
       "California                  0.53                  9,826,338.76   \n",
       "\n",
       "            % of Obese Adults  \n",
       "State                          \n",
       "Alaska                  34.20  \n",
       "Alabama                 36.30  \n",
       "Arkansas                35.00  \n",
       "Arizona                 29.50  \n",
       "California              25.10  "
      ]
     },
     "execution_count": 814,
     "metadata": {},
     "output_type": "execute_result"
    }
   ],
   "source": [
    "# join confirmed/deaths and obesity rates\n",
    "\n",
    "comb_condeaths_all_df = rename_obesity_state_df.join(comb_condeaths_stores_df,lsuffix=\"% Convenience Stores\")\n",
    "\n",
    "# create two new columns for % low access to store ([\"Low Access to Store\"]/[\"total_population\"]) & \n",
    "\n",
    "comb_condeaths_all_df[\"% of Low Access to Store (Total Population)\"]=''\n",
    "comb_condeaths_all_df[\"% of Low Access Low Income to Store (Total Population)\"]=''\n",
    "\n",
    "# move rows to match colorado df\n",
    "\n",
    "comb_condeaths_all_df = comb_condeaths_all_df[['total_population','confirmed', 'deaths', 'Low Access to Store','% of Low Access to Store (Total Population)', 'Low Access Low Income to Store','% of Low Access Low Income to Store (Total Population)',\"# of Grocery Stores\",\"% Grocery Stores\",\"# of Convenience Stores\",\"% Convenience Stores\",\"Total Obese Adults Per State\",\"PCT_OBESE_ADULTS17\"]]\n",
    "\n",
    "# fill in empty columns with equations of big data set\n",
    "\n",
    "comb_condeaths_all_df[\"Total Obese Adults Per State\"]=comb_condeaths_all_df['PCT_OBESE_ADULTS17']*(comb_condeaths_all_df['total_population']/100)\n",
    "comb_condeaths_all_df[\"% of Low Access to Store (Total Population)\"]=comb_condeaths_all_df[\"Low Access to Store\"]/comb_condeaths_all_df[\"total_population\"]\n",
    "comb_condeaths_all_df[\"% of Low Access Low Income to Store (Total Population)\"]=comb_condeaths_all_df[\"Low Access Low Income to Store\"]/comb_condeaths_all_df[\"total_population\"]\n",
    "\n",
    "# rename columns\n",
    "\n",
    "comb_condeaths_all_df = comb_condeaths_all_df.rename(columns={\"total_population\":\"Total Population\"})\n",
    "comb_condeaths_all_df = comb_condeaths_all_df.rename(columns={\"confirmed\":\"Confirmed\"})\n",
    "comb_condeaths_all_df = comb_condeaths_all_df.rename(columns={\"deaths\":\"Deaths\"})\n",
    "comb_condeaths_all_df = comb_condeaths_all_df.rename(columns={\"PCT_OBESE_ADULTS17\":\"% of Obese Adults\"})\n",
    "comb_condeaths_all_df.head()"
   ]
  },
  {
   "cell_type": "code",
   "execution_count": null,
   "metadata": {},
   "outputs": [],
   "source": []
  },
  {
   "cell_type": "code",
   "execution_count": 815,
   "metadata": {},
   "outputs": [],
   "source": [
    "def create_scatter(x_values, y_values, title, xlabel, ylabel, alpha):\n",
    "    plt.scatter(x_values, y_values, alpha=alpha)\n",
    "    plt.title(title)\n",
    "    plt.xlabel(xlabel)\n",
    "    plt.ylabel(ylabel)\n",
    "    slope, intercept, r_value, p_value, std_err = sts.linregress(x_values, y_values)\n",
    "    plt.plot(x_values, x_values * slope + intercept)\n",
    "    print(f\"r-squared: {round(r_value ** 2, 3)}\")"
   ]
  },
  {
   "cell_type": "code",
   "execution_count": 816,
   "metadata": {},
   "outputs": [
    {
     "name": "stdout",
     "output_type": "stream",
     "text": [
      "r-squared: 0.05\n"
     ]
    },
    {
     "data": {
      "image/png": "[encoded data removed]",
      "text/plain": [
       "<Figure size 432x288 with 1 Axes>"
      ]
     },
     "metadata": {
      "needs_background": "light"
     },
     "output_type": "display_data"
    }
   ],
   "source": [
    "#low access deaths\n",
    "\n",
    "scatter_deaths_perclowacc = create_scatter(comb_condeaths_all_df['Deaths'], comb_condeaths_all_df['% of Low Access to Store (Total Population)'], '% of Low Access to Stores Compared to Deaths for each State', 'Deaths, total', 'Low Access to Stores, % of total population', 0.75)"
   ]
  },
  {
   "cell_type": "code",
   "execution_count": 817,
   "metadata": {},
   "outputs": [
    {
     "name": "stdout",
     "output_type": "stream",
     "text": [
      "r-squared: 0.049\n"
     ]
    },
    {
     "data": {
      "image/png": "[encoded data removed]",
      "text/plain": [
       "<Figure size 432x288 with 1 Axes>"
      ]
     },
     "metadata": {
      "needs_background": "light"
     },
     "output_type": "display_data"
    }
   ],
   "source": [
    "#low access confirmed\n",
    "\n",
    "scatter_confirmed_perclowacc1 = create_scatter(comb_condeaths_all_df['Confirmed'], comb_condeaths_all_df['% of Low Access to Store (Total Population)'], '% of Low Access to Stores Compared to Confirmed for each State', 'Confirmed, total', 'Low Access to Stores, % of total population', 0.75)"
   ]
  },
  {
   "cell_type": "code",
   "execution_count": 818,
   "metadata": {},
   "outputs": [
    {
     "name": "stdout",
     "output_type": "stream",
     "text": [
      "r-squared: 0.073\n"
     ]
    },
    {
     "data": {
      "image/png": "[encoded data removed]",
      "text/plain": [
       "<Figure size 432x288 with 1 Axes>"
      ]
     },
     "metadata": {
      "needs_background": "light"
     },
     "output_type": "display_data"
    }
   ],
   "source": [
    "#low access low income deaths\n",
    "\n",
    "scatter_deaths_perclowacc1 = create_scatter(comb_condeaths_all_df['Deaths'], comb_condeaths_all_df['% of Low Access Low Income to Store (Total Population)'], '% of Low Access Low Income to Stores Compared to Deaths for each State', 'Deaths, total', 'Low Access Low Income to Stores, total population', 0.75)"
   ]
  },
  {
   "cell_type": "code",
   "execution_count": 819,
   "metadata": {
    "scrolled": false
   },
   "outputs": [
    {
     "name": "stdout",
     "output_type": "stream",
     "text": [
      "r-squared: 0.604\n"
     ]
    },
    {
     "data": {
      "image/png": "[encoded data removed]",
      "text/plain": [
       "<Figure size 432x288 with 1 Axes>"
      ]
     },
     "metadata": {
      "needs_background": "light"
     },
     "output_type": "display_data"
    }
   ],
   "source": [
    "#low access low income confirmed\n",
    "\n",
    "scatter_deaths_obese = create_scatter(comb_condeaths_all_df['Deaths'], comb_condeaths_all_df['Total Obese Adults Per State'], '% of Obese Adults Compared to Deaths for each State', 'Deaths, total', 'Obese Adults, %', 0.75)"
   ]
  },
  {
   "cell_type": "code",
   "execution_count": 820,
   "metadata": {},
   "outputs": [
    {
     "name": "stdout",
     "output_type": "stream",
     "text": [
      "r-squared: 0.604\n"
     ]
    },
    {
     "data": {
      "image/png": "[encoded data removed]",
      "text/plain": [
       "<Figure size 432x288 with 1 Axes>"
      ]
     },
     "metadata": {
      "needs_background": "light"
     },
     "output_type": "display_data"
    }
   ],
   "source": [
    "# total # obese adults compared to deaths\n",
    "\n",
    "scatter_deaths_obese = create_scatter(comb_condeaths_all_df['Deaths'], comb_condeaths_all_df['Total Obese Adults Per State'], '# of Obese Adults Compared to Deaths for each State', 'Confirmed, total', 'Obese Adults, #', 0.75)"
   ]
  },
  {
   "cell_type": "code",
   "execution_count": 821,
   "metadata": {
    "scrolled": true
   },
   "outputs": [
    {
     "name": "stdout",
     "output_type": "stream",
     "text": [
      "r-squared: 0.917\n"
     ]
    },
    {
     "data": {
      "image/png": "[encoded data removed]",
      "text/plain": [
       "<Figure size 432x288 with 1 Axes>"
      ]
     },
     "metadata": {
      "needs_background": "light"
     },
     "output_type": "display_data"
    }
   ],
   "source": [
    "# total # obese adults compared to confirmed\n",
    "\n",
    "scatter_confirmed_obese = create_scatter(comb_condeaths_all_df['Confirmed'], comb_condeaths_all_df['Total Obese Adults Per State'], '# of Obese Adults Compared to Confirmed for each State', 'Confirmed, total', 'Obese Adults, #', 0.75)"
   ]
  },
  {
   "cell_type": "code",
   "execution_count": 822,
   "metadata": {
    "scrolled": true
   },
   "outputs": [
    {
     "name": "stdout",
     "output_type": "stream",
     "text": [
      "r-squared: 0.564\n"
     ]
    },
    {
     "data": {
      "image/png": "[encoded data removed]",
      "text/plain": [
       "<Figure size 432x288 with 1 Axes>"
      ]
     },
     "metadata": {
      "needs_background": "light"
     },
     "output_type": "display_data"
    }
   ],
   "source": [
    "# total # obese adults compared to deaths\n",
    "\n",
    "scatter_deaths_conv = create_scatter(comb_condeaths_all_df['Deaths'], comb_condeaths_all_df['# of Convenience Stores'], '# of Convenience Stores Compared to Deaths for each State', '# of Convenience Stores, total', 'Deaths, total', 0.75)"
   ]
  },
  {
   "cell_type": "code",
   "execution_count": 823,
   "metadata": {
    "scrolled": false
   },
   "outputs": [
    {
     "name": "stdout",
     "output_type": "stream",
     "text": [
      "r-squared: 0.895\n"
     ]
    },
    {
     "data": {
      "image/png": "[encoded data removed]",
      "text/plain": [
       "<Figure size 432x288 with 1 Axes>"
      ]
     },
     "metadata": {
      "needs_background": "light"
     },
     "output_type": "display_data"
    }
   ],
   "source": [
    "# convenience stores vs confirmed\n",
    "\n",
    "scatter_confirmed_conv = create_scatter(comb_condeaths_all_df['Confirmed'], comb_condeaths_all_df['# of Convenience Stores'], '# of Convenience Stores Compared to Confirmed for each State', '# of Convenience Stores, total', 'Confirmed, total', 0.75)"
   ]
  },
  {
   "cell_type": "code",
   "execution_count": 824,
   "metadata": {},
   "outputs": [
    {
     "name": "stdout",
     "output_type": "stream",
     "text": [
      "r-squared: 0.564\n"
     ]
    },
    {
     "data": {
      "image/png": "[encoded data removed]",
      "text/plain": [
       "<Figure size 432x288 with 1 Axes>"
      ]
     },
     "metadata": {
      "needs_background": "light"
     },
     "output_type": "display_data"
    }
   ],
   "source": [
    "# convenience stores vs confirmed\n",
    "\n",
    "scatter_confirmed_conv = create_scatter(comb_condeaths_all_df['Deaths'], comb_condeaths_all_df['# of Convenience Stores'], '# of Convenience Stores Compared to Deaths for each State', '# of Convenience Stores, total', 'Deaths, total', 0.75)"
   ]
  },
  {
   "cell_type": "code",
   "execution_count": 825,
   "metadata": {
    "scrolled": true
   },
   "outputs": [
    {
     "name": "stdout",
     "output_type": "stream",
     "text": [
      "r-squared: 0.852\n"
     ]
    },
    {
     "data": {
      "image/png": "[encoded data removed]",
      "text/plain": [
       "<Figure size 432x288 with 1 Axes>"
      ]
     },
     "metadata": {
      "needs_background": "light"
     },
     "output_type": "display_data"
    }
   ],
   "source": [
    "# grocery stores vs deaths\n",
    "\n",
    "scatter_deaths_grocery = create_scatter(comb_condeaths_all_df['Deaths'], comb_condeaths_all_df['# of Grocery Stores'], '# of Grocery Stores Compared to Deaths for each State', '# of Grocery Stores, total', 'Deaths, total', 0.75)"
   ]
  },
  {
   "cell_type": "code",
   "execution_count": 826,
   "metadata": {},
   "outputs": [
    {
     "name": "stdout",
     "output_type": "stream",
     "text": [
      "r-squared: 0.593\n"
     ]
    },
    {
     "data": {
      "image/png": "[encoded data removed]",
      "text/plain": [
       "<Figure size 432x288 with 1 Axes>"
      ]
     },
     "metadata": {
      "needs_background": "light"
     },
     "output_type": "display_data"
    }
   ],
   "source": [
    "# confirmed vs grocery stores\n",
    "\n",
    "scatter_confirmed_grocery = create_scatter(comb_condeaths_all_df['Confirmed'], comb_condeaths_all_df['# of Grocery Stores'], '# of Grocery Stores Compared to Confirmed for each State', '# of Grocery Stores, total', 'Confirmed, total', 0.75)"
   ]
  },
  {
   "cell_type": "code",
   "execution_count": 827,
   "metadata": {},
   "outputs": [],
   "source": [
    "# Question 1: How does each variable related to food deserts or obesity nationwide?\n",
    "# Conclusion: Each variable tends to have a positive correlation to the confirmed cases and deaths across the USA. As well, each scatter plot comes with a relatively high Rsquared value which signifies a high correlation between the two variables. This tells me that overall health is extremely important in terms of how deadly COVID-19 is. Poor health has been positively linked to a higher death rate by scientists so this wasn't extremely shocking to me. What did interest me initially was the extremely high correlation between the amount of convenience stores and the number of confirmed cases (r-squared of 0.895). I later realized this might have to do more with the fact that a greater number of convenience stores means a higher population in said state, meaning a greater percentage of confirmed and deaths. \n",
    "# What's next?: Due to the last realization that more convenience stores = more confirmed cases / deaths due to population size or density, I decided to look at each variable in per capita to see if this would result in less of a bias towards a state's population."
   ]
  },
  {
   "cell_type": "code",
   "execution_count": 828,
   "metadata": {
    "scrolled": true
   },
   "outputs": [
    {
     "data": {
      "text/html": [
       "<div>\n",
       "<style scoped>\n",
       "    .dataframe tbody tr th:only-of-type {\n",
       "        vertical-align: middle;\n",
       "    }\n",
       "\n",
       "    .dataframe tbody tr th {\n",
       "        vertical-align: top;\n",
       "    }\n",
       "\n",
       "    .dataframe thead th {\n",
       "        text-align: right;\n",
       "    }\n",
       "</style>\n",
       "<table border=\"1\" class=\"dataframe\">\n",
       "  <thead>\n",
       "    <tr style=\"text-align: right;\">\n",
       "      <th></th>\n",
       "      <th>Low Access to Store</th>\n",
       "      <th>Low Access to Store (Per Capita)</th>\n",
       "      <th>Low Access Low Income to Store</th>\n",
       "      <th>Low Access Low Income to Store (Per Capita)</th>\n",
       "      <th># of Grocery Stores</th>\n",
       "      <th># of Grocery Stores (Per Capita)</th>\n",
       "      <th># of Convenience Stores</th>\n",
       "      <th># of Convenience Stores (Per Capita)</th>\n",
       "      <th>Total Obese Adults Per State</th>\n",
       "      <th>Obese Adults (Per Capita)</th>\n",
       "    </tr>\n",
       "    <tr>\n",
       "      <th>State</th>\n",
       "      <th></th>\n",
       "      <th></th>\n",
       "      <th></th>\n",
       "      <th></th>\n",
       "      <th></th>\n",
       "      <th></th>\n",
       "      <th></th>\n",
       "      <th></th>\n",
       "      <th></th>\n",
       "      <th></th>\n",
       "    </tr>\n",
       "  </thead>\n",
       "  <tbody>\n",
       "    <tr>\n",
       "      <th>Alaska</th>\n",
       "      <td>223,550.11</td>\n",
       "      <td></td>\n",
       "      <td>64,994.54</td>\n",
       "      <td></td>\n",
       "      <td>215.00</td>\n",
       "      <td></td>\n",
       "      <td>173.00</td>\n",
       "      <td></td>\n",
       "      <td>251,843.33</td>\n",
       "      <td></td>\n",
       "    </tr>\n",
       "    <tr>\n",
       "      <th>Alabama</th>\n",
       "      <td>962,910.89</td>\n",
       "      <td></td>\n",
       "      <td>378,623.20</td>\n",
       "      <td></td>\n",
       "      <td>757.00</td>\n",
       "      <td></td>\n",
       "      <td>3,237.00</td>\n",
       "      <td></td>\n",
       "      <td>1,765,878.84</td>\n",
       "      <td></td>\n",
       "    </tr>\n",
       "    <tr>\n",
       "      <th>Arkansas</th>\n",
       "      <td>587,921.07</td>\n",
       "      <td></td>\n",
       "      <td>254,969.90</td>\n",
       "      <td></td>\n",
       "      <td>480.00</td>\n",
       "      <td></td>\n",
       "      <td>1,512.00</td>\n",
       "      <td></td>\n",
       "      <td>1,046,734.85</td>\n",
       "      <td></td>\n",
       "    </tr>\n",
       "    <tr>\n",
       "      <th>Arizona</th>\n",
       "      <td>1,254,357.80</td>\n",
       "      <td></td>\n",
       "      <td>482,198.71</td>\n",
       "      <td></td>\n",
       "      <td>786.00</td>\n",
       "      <td></td>\n",
       "      <td>1,903.00</td>\n",
       "      <td></td>\n",
       "      <td>2,049,272.08</td>\n",
       "      <td></td>\n",
       "    </tr>\n",
       "    <tr>\n",
       "      <th>California</th>\n",
       "      <td>4,323,349.51</td>\n",
       "      <td></td>\n",
       "      <td>1,225,949.44</td>\n",
       "      <td></td>\n",
       "      <td>7,874.00</td>\n",
       "      <td></td>\n",
       "      <td>8,949.00</td>\n",
       "      <td></td>\n",
       "      <td>9,826,338.76</td>\n",
       "      <td></td>\n",
       "    </tr>\n",
       "  </tbody>\n",
       "</table>\n",
       "</div>"
      ],
      "text/plain": [
       "            Low Access to Store Low Access to Store (Per Capita)  \\\n",
       "State                                                              \n",
       "Alaska               223,550.11                                    \n",
       "Alabama              962,910.89                                    \n",
       "Arkansas             587,921.07                                    \n",
       "Arizona            1,254,357.80                                    \n",
       "California         4,323,349.51                                    \n",
       "\n",
       "            Low Access Low Income to Store  \\\n",
       "State                                        \n",
       "Alaska                           64,994.54   \n",
       "Alabama                         378,623.20   \n",
       "Arkansas                        254,969.90   \n",
       "Arizona                         482,198.71   \n",
       "California                    1,225,949.44   \n",
       "\n",
       "           Low Access Low Income to Store (Per Capita)  # of Grocery Stores  \\\n",
       "State                                                                         \n",
       "Alaska                                                               215.00   \n",
       "Alabama                                                              757.00   \n",
       "Arkansas                                                             480.00   \n",
       "Arizona                                                              786.00   \n",
       "California                                                         7,874.00   \n",
       "\n",
       "           # of Grocery Stores (Per Capita)  # of Convenience Stores  \\\n",
       "State                                                                  \n",
       "Alaska                                                        173.00   \n",
       "Alabama                                                     3,237.00   \n",
       "Arkansas                                                    1,512.00   \n",
       "Arizona                                                     1,903.00   \n",
       "California                                                  8,949.00   \n",
       "\n",
       "           # of Convenience Stores (Per Capita)  Total Obese Adults Per State  \\\n",
       "State                                                                           \n",
       "Alaska                                                             251,843.33   \n",
       "Alabama                                                          1,765,878.84   \n",
       "Arkansas                                                         1,046,734.85   \n",
       "Arizona                                                          2,049,272.08   \n",
       "California                                                       9,826,338.76   \n",
       "\n",
       "           Obese Adults (Per Capita)  \n",
       "State                                 \n",
       "Alaska                                \n",
       "Alabama                               \n",
       "Arkansas                              \n",
       "Arizona                               \n",
       "California                            "
      ]
     },
     "execution_count": 828,
     "metadata": {},
     "output_type": "execute_result"
    }
   ],
   "source": [
    "renew_comb_condeaths_all_df = comb_condeaths_all_df.drop(columns=[\"Total Population\",\"Confirmed\",\"Deaths\",\"% of Low Access to Store (Total Population)\",\"% of Low Access Low Income to Store (Total Population)\",\"% Grocery Stores\",\"% Convenience Stores\",\"% of Obese Adults\"])\n",
    "renew_comb_condeaths_all_df[\"Low Access to Store (Per Capita)\"]=\"\"\n",
    "renew_comb_condeaths_all_df[\"Low Access Low Income to Store (Per Capita)\"]=\"\"\n",
    "renew_comb_condeaths_all_df[\"# of Grocery Stores (Per Capita)\"]=\"\"\n",
    "renew_comb_condeaths_all_df[\"# of Convenience Stores (Per Capita)\"]=\"\"\n",
    "renew_comb_condeaths_all_df[\"Obese Adults (Per Capita)\"]=\"\"\n",
    "\n",
    "renew_comb_condeaths_all_df = renew_comb_condeaths_all_df[['Low Access to Store',\"Low Access to Store (Per Capita)\",\"Low Access Low Income to Store\",\"Low Access Low Income to Store (Per Capita)\",\"# of Grocery Stores\",\"# of Grocery Stores (Per Capita)\",\"# of Convenience Stores\",\"# of Convenience Stores (Per Capita)\",\"Total Obese Adults Per State\",\"Obese Adults (Per Capita)\"]]\n",
    "renew_comb_condeaths_all_df.head()"
   ]
  },
  {
   "cell_type": "code",
   "execution_count": 829,
   "metadata": {},
   "outputs": [
    {
     "data": {
      "text/html": [
       "<div>\n",
       "<style scoped>\n",
       "    .dataframe tbody tr th:only-of-type {\n",
       "        vertical-align: middle;\n",
       "    }\n",
       "\n",
       "    .dataframe tbody tr th {\n",
       "        vertical-align: top;\n",
       "    }\n",
       "\n",
       "    .dataframe thead th {\n",
       "        text-align: right;\n",
       "    }\n",
       "</style>\n",
       "<table border=\"1\" class=\"dataframe\">\n",
       "  <thead>\n",
       "    <tr style=\"text-align: right;\">\n",
       "      <th></th>\n",
       "      <th>state</th>\n",
       "      <th>county_name</th>\n",
       "      <th>total_population</th>\n",
       "      <th>confirmed_per_100000</th>\n",
       "      <th>deaths_per_100000</th>\n",
       "    </tr>\n",
       "  </thead>\n",
       "  <tbody>\n",
       "    <tr>\n",
       "      <th>0</th>\n",
       "      <td>Alabama</td>\n",
       "      <td>Autauga</td>\n",
       "      <td>55,200.00</td>\n",
       "      <td>3,661.23</td>\n",
       "      <td>54.35</td>\n",
       "    </tr>\n",
       "    <tr>\n",
       "      <th>1</th>\n",
       "      <td>Alabama</td>\n",
       "      <td>Baldwin</td>\n",
       "      <td>208,107.00</td>\n",
       "      <td>3,096.00</td>\n",
       "      <td>33.16</td>\n",
       "    </tr>\n",
       "    <tr>\n",
       "      <th>2</th>\n",
       "      <td>Alabama</td>\n",
       "      <td>Barbour</td>\n",
       "      <td>25,782.00</td>\n",
       "      <td>3,863.16</td>\n",
       "      <td>34.91</td>\n",
       "    </tr>\n",
       "    <tr>\n",
       "      <th>3</th>\n",
       "      <td>Alabama</td>\n",
       "      <td>Bibb</td>\n",
       "      <td>22,527.00</td>\n",
       "      <td>3,555.73</td>\n",
       "      <td>62.15</td>\n",
       "    </tr>\n",
       "    <tr>\n",
       "      <th>4</th>\n",
       "      <td>Alabama</td>\n",
       "      <td>Blount</td>\n",
       "      <td>57,645.00</td>\n",
       "      <td>3,249.20</td>\n",
       "      <td>43.37</td>\n",
       "    </tr>\n",
       "  </tbody>\n",
       "</table>\n",
       "</div>"
      ],
      "text/plain": [
       "     state county_name  total_population  confirmed_per_100000  \\\n",
       "0  Alabama     Autauga         55,200.00              3,661.23   \n",
       "1  Alabama     Baldwin        208,107.00              3,096.00   \n",
       "2  Alabama     Barbour         25,782.00              3,863.16   \n",
       "3  Alabama        Bibb         22,527.00              3,555.73   \n",
       "4  Alabama      Blount         57,645.00              3,249.20   \n",
       "\n",
       "   deaths_per_100000  \n",
       "0              54.35  \n",
       "1              33.16  \n",
       "2              34.91  \n",
       "3              62.15  \n",
       "4              43.37  "
      ]
     },
     "execution_count": 829,
     "metadata": {},
     "output_type": "execute_result"
    }
   ],
   "source": [
    "pc_file_one_df = pd.DataFrame(file_one_df, columns= ['state','county_name','total_population','confirmed_per_100000', 'deaths_per_100000'])\n",
    "pc_file_one_df.head()"
   ]
  },
  {
   "cell_type": "code",
   "execution_count": 830,
   "metadata": {},
   "outputs": [
    {
     "data": {
      "text/html": [
       "<div>\n",
       "<style scoped>\n",
       "    .dataframe tbody tr th:only-of-type {\n",
       "        vertical-align: middle;\n",
       "    }\n",
       "\n",
       "    .dataframe tbody tr th {\n",
       "        vertical-align: top;\n",
       "    }\n",
       "\n",
       "    .dataframe thead th {\n",
       "        text-align: right;\n",
       "    }\n",
       "</style>\n",
       "<table border=\"1\" class=\"dataframe\">\n",
       "  <thead>\n",
       "    <tr style=\"text-align: right;\">\n",
       "      <th></th>\n",
       "      <th>confirmed_per_100000</th>\n",
       "    </tr>\n",
       "    <tr>\n",
       "      <th>state</th>\n",
       "      <th></th>\n",
       "    </tr>\n",
       "  </thead>\n",
       "  <tbody>\n",
       "    <tr>\n",
       "      <th>Alabama</th>\n",
       "      <td>260,181.88</td>\n",
       "    </tr>\n",
       "    <tr>\n",
       "      <th>Alaska</th>\n",
       "      <td>30,588.54</td>\n",
       "    </tr>\n",
       "    <tr>\n",
       "      <th>Arizona</th>\n",
       "      <td>51,056.09</td>\n",
       "    </tr>\n",
       "    <tr>\n",
       "      <th>Arkansas</th>\n",
       "      <td>255,135.29</td>\n",
       "    </tr>\n",
       "    <tr>\n",
       "      <th>California</th>\n",
       "      <td>103,530.53</td>\n",
       "    </tr>\n",
       "  </tbody>\n",
       "</table>\n",
       "</div>"
      ],
      "text/plain": [
       "            confirmed_per_100000\n",
       "state                           \n",
       "Alabama               260,181.88\n",
       "Alaska                 30,588.54\n",
       "Arizona                51,056.09\n",
       "Arkansas              255,135.29\n",
       "California            103,530.53"
      ]
     },
     "execution_count": 830,
     "metadata": {},
     "output_type": "execute_result"
    }
   ],
   "source": [
    "pc_confirmed = pc_file_one_df.groupby([\"state\"]).sum()[\"confirmed_per_100000\"]\n",
    "pc_confirmed_df = pd.DataFrame(pc_confirmed,columns=['confirmed_per_100000'])\n",
    "\n",
    "pc_confirmed_df.head()"
   ]
  },
  {
   "cell_type": "code",
   "execution_count": 831,
   "metadata": {
    "scrolled": true
   },
   "outputs": [
    {
     "data": {
      "text/html": [
       "<div>\n",
       "<style scoped>\n",
       "    .dataframe tbody tr th:only-of-type {\n",
       "        vertical-align: middle;\n",
       "    }\n",
       "\n",
       "    .dataframe tbody tr th {\n",
       "        vertical-align: top;\n",
       "    }\n",
       "\n",
       "    .dataframe thead th {\n",
       "        text-align: right;\n",
       "    }\n",
       "</style>\n",
       "<table border=\"1\" class=\"dataframe\">\n",
       "  <thead>\n",
       "    <tr style=\"text-align: right;\">\n",
       "      <th></th>\n",
       "      <th>deaths_per_100000</th>\n",
       "    </tr>\n",
       "    <tr>\n",
       "      <th>state</th>\n",
       "      <th></th>\n",
       "    </tr>\n",
       "  </thead>\n",
       "  <tbody>\n",
       "    <tr>\n",
       "      <th>Alabama</th>\n",
       "      <td>5,209.30</td>\n",
       "    </tr>\n",
       "    <tr>\n",
       "      <th>Alaska</th>\n",
       "      <td>127.53</td>\n",
       "    </tr>\n",
       "    <tr>\n",
       "      <th>Arizona</th>\n",
       "      <td>1,554.06</td>\n",
       "    </tr>\n",
       "    <tr>\n",
       "      <th>Arkansas</th>\n",
       "      <td>5,138.08</td>\n",
       "    </tr>\n",
       "    <tr>\n",
       "      <th>California</th>\n",
       "      <td>1,649.72</td>\n",
       "    </tr>\n",
       "  </tbody>\n",
       "</table>\n",
       "</div>"
      ],
      "text/plain": [
       "            deaths_per_100000\n",
       "state                        \n",
       "Alabama              5,209.30\n",
       "Alaska                 127.53\n",
       "Arizona              1,554.06\n",
       "Arkansas             5,138.08\n",
       "California           1,649.72"
      ]
     },
     "execution_count": 831,
     "metadata": {},
     "output_type": "execute_result"
    }
   ],
   "source": [
    "pc_deaths = pc_file_one_df.groupby([\"state\"]).sum()[\"deaths_per_100000\"]\n",
    "pc_deaths_df = pd.DataFrame(pc_deaths,columns=['deaths_per_100000'])\n",
    "pc_deaths_df.head()"
   ]
  },
  {
   "cell_type": "code",
   "execution_count": 832,
   "metadata": {},
   "outputs": [
    {
     "data": {
      "text/html": [
       "<div>\n",
       "<style scoped>\n",
       "    .dataframe tbody tr th:only-of-type {\n",
       "        vertical-align: middle;\n",
       "    }\n",
       "\n",
       "    .dataframe tbody tr th {\n",
       "        vertical-align: top;\n",
       "    }\n",
       "\n",
       "    .dataframe thead th {\n",
       "        text-align: right;\n",
       "    }\n",
       "</style>\n",
       "<table border=\"1\" class=\"dataframe\">\n",
       "  <thead>\n",
       "    <tr style=\"text-align: right;\">\n",
       "      <th></th>\n",
       "      <th>confirmed_per_100000</th>\n",
       "      <th>deaths_per_100000</th>\n",
       "    </tr>\n",
       "    <tr>\n",
       "      <th>state</th>\n",
       "      <th></th>\n",
       "      <th></th>\n",
       "    </tr>\n",
       "  </thead>\n",
       "  <tbody>\n",
       "    <tr>\n",
       "      <th>Alabama</th>\n",
       "      <td>260,181.88</td>\n",
       "      <td>5,209.30</td>\n",
       "    </tr>\n",
       "    <tr>\n",
       "      <th>Alaska</th>\n",
       "      <td>30,588.54</td>\n",
       "      <td>127.53</td>\n",
       "    </tr>\n",
       "    <tr>\n",
       "      <th>Arizona</th>\n",
       "      <td>51,056.09</td>\n",
       "      <td>1,554.06</td>\n",
       "    </tr>\n",
       "    <tr>\n",
       "      <th>Arkansas</th>\n",
       "      <td>255,135.29</td>\n",
       "      <td>5,138.08</td>\n",
       "    </tr>\n",
       "    <tr>\n",
       "      <th>California</th>\n",
       "      <td>103,530.53</td>\n",
       "      <td>1,649.72</td>\n",
       "    </tr>\n",
       "  </tbody>\n",
       "</table>\n",
       "</div>"
      ],
      "text/plain": [
       "            confirmed_per_100000  deaths_per_100000\n",
       "state                                              \n",
       "Alabama               260,181.88           5,209.30\n",
       "Alaska                 30,588.54             127.53\n",
       "Arizona                51,056.09           1,554.06\n",
       "Arkansas              255,135.29           5,138.08\n",
       "California            103,530.53           1,649.72"
      ]
     },
     "execution_count": 832,
     "metadata": {},
     "output_type": "execute_result"
    }
   ],
   "source": [
    "comb_pc_df = pc_confirmed_df.join(pc_deaths_df,lsuffix=\"confirmed_per_100000\")\n",
    "comb_pc_df.head()"
   ]
  },
  {
   "cell_type": "code",
   "execution_count": 833,
   "metadata": {},
   "outputs": [
    {
     "data": {
      "text/html": [
       "<div>\n",
       "<style scoped>\n",
       "    .dataframe tbody tr th:only-of-type {\n",
       "        vertical-align: middle;\n",
       "    }\n",
       "\n",
       "    .dataframe tbody tr th {\n",
       "        vertical-align: top;\n",
       "    }\n",
       "\n",
       "    .dataframe thead th {\n",
       "        text-align: right;\n",
       "    }\n",
       "</style>\n",
       "<table border=\"1\" class=\"dataframe\">\n",
       "  <thead>\n",
       "    <tr style=\"text-align: right;\">\n",
       "      <th></th>\n",
       "      <th>confirmed_per_100000</th>\n",
       "      <th>deaths_per_100000</th>\n",
       "      <th>total_population</th>\n",
       "    </tr>\n",
       "    <tr>\n",
       "      <th>state</th>\n",
       "      <th></th>\n",
       "      <th></th>\n",
       "      <th></th>\n",
       "    </tr>\n",
       "  </thead>\n",
       "  <tbody>\n",
       "    <tr>\n",
       "      <th>Alabama</th>\n",
       "      <td>260,181.88</td>\n",
       "      <td>5,209.30</td>\n",
       "      <td>4,864,680.00</td>\n",
       "    </tr>\n",
       "    <tr>\n",
       "      <th>Alaska</th>\n",
       "      <td>30,588.54</td>\n",
       "      <td>127.53</td>\n",
       "      <td>736,384.00</td>\n",
       "    </tr>\n",
       "    <tr>\n",
       "      <th>Arizona</th>\n",
       "      <td>51,056.09</td>\n",
       "      <td>1,554.06</td>\n",
       "      <td>6,946,685.00</td>\n",
       "    </tr>\n",
       "    <tr>\n",
       "      <th>Arkansas</th>\n",
       "      <td>255,135.29</td>\n",
       "      <td>5,138.08</td>\n",
       "      <td>2,990,671.00</td>\n",
       "    </tr>\n",
       "    <tr>\n",
       "      <th>California</th>\n",
       "      <td>103,530.53</td>\n",
       "      <td>1,649.72</td>\n",
       "      <td>39,148,760.00</td>\n",
       "    </tr>\n",
       "  </tbody>\n",
       "</table>\n",
       "</div>"
      ],
      "text/plain": [
       "            confirmed_per_100000  deaths_per_100000  total_population\n",
       "state                                                                \n",
       "Alabama               260,181.88           5,209.30      4,864,680.00\n",
       "Alaska                 30,588.54             127.53        736,384.00\n",
       "Arizona                51,056.09           1,554.06      6,946,685.00\n",
       "Arkansas              255,135.29           5,138.08      2,990,671.00\n",
       "California            103,530.53           1,649.72     39,148,760.00"
      ]
     },
     "execution_count": 833,
     "metadata": {},
     "output_type": "execute_result"
    }
   ],
   "source": [
    "pc_totpop = pc_file_one_df.groupby([\"state\"]).sum()[\"total_population\"]\n",
    "pc_totpop_df = pd.DataFrame(pc_totpop,columns=['total_population'])\n",
    "pc_totpop_df.head()\n",
    "\n",
    "comb_pctotpop_df = comb_pc_df.join(pc_totpop_df,lsuffix=\"deaths_per_100000\")\n",
    "comb_pctotpop_df.head()"
   ]
  },
  {
   "cell_type": "code",
   "execution_count": 834,
   "metadata": {
    "scrolled": true
   },
   "outputs": [
    {
     "data": {
      "text/html": [
       "<div>\n",
       "<style scoped>\n",
       "    .dataframe tbody tr th:only-of-type {\n",
       "        vertical-align: middle;\n",
       "    }\n",
       "\n",
       "    .dataframe tbody tr th {\n",
       "        vertical-align: top;\n",
       "    }\n",
       "\n",
       "    .dataframe thead th {\n",
       "        text-align: right;\n",
       "    }\n",
       "</style>\n",
       "<table border=\"1\" class=\"dataframe\">\n",
       "  <thead>\n",
       "    <tr style=\"text-align: right;\">\n",
       "      <th></th>\n",
       "      <th>total_population</th>\n",
       "      <th>confirmed_per_100000</th>\n",
       "      <th>deaths_per_100000</th>\n",
       "      <th>Low Access to Store (Per Capita)</th>\n",
       "      <th>Low Access Low Income to Store (Per Capita)</th>\n",
       "      <th># of Grocery Stores (Per Capita)</th>\n",
       "      <th># of Convenience Stores (Per Capita)</th>\n",
       "      <th>Obese Adults (Per Capita)</th>\n",
       "    </tr>\n",
       "    <tr>\n",
       "      <th>state</th>\n",
       "      <th></th>\n",
       "      <th></th>\n",
       "      <th></th>\n",
       "      <th></th>\n",
       "      <th></th>\n",
       "      <th></th>\n",
       "      <th></th>\n",
       "      <th></th>\n",
       "    </tr>\n",
       "  </thead>\n",
       "  <tbody>\n",
       "    <tr>\n",
       "      <th>Alabama</th>\n",
       "      <td>4,864,680.00</td>\n",
       "      <td>260,181.88</td>\n",
       "      <td>5,209.30</td>\n",
       "      <td>19,793.92</td>\n",
       "      <td>7,783.11</td>\n",
       "      <td>15.56</td>\n",
       "      <td>66.54</td>\n",
       "      <td>36,300.00</td>\n",
       "    </tr>\n",
       "    <tr>\n",
       "      <th>Alaska</th>\n",
       "      <td>736,384.00</td>\n",
       "      <td>30,588.54</td>\n",
       "      <td>127.53</td>\n",
       "      <td>30,357.82</td>\n",
       "      <td>8,826.18</td>\n",
       "      <td>29.20</td>\n",
       "      <td>23.49</td>\n",
       "      <td>34,200.00</td>\n",
       "    </tr>\n",
       "    <tr>\n",
       "      <th>Arizona</th>\n",
       "      <td>6,946,685.00</td>\n",
       "      <td>51,056.09</td>\n",
       "      <td>1,554.06</td>\n",
       "      <td>18,056.93</td>\n",
       "      <td>6,941.42</td>\n",
       "      <td>11.31</td>\n",
       "      <td>27.39</td>\n",
       "      <td>29,500.00</td>\n",
       "    </tr>\n",
       "    <tr>\n",
       "      <th>Arkansas</th>\n",
       "      <td>2,990,671.00</td>\n",
       "      <td>255,135.29</td>\n",
       "      <td>5,138.08</td>\n",
       "      <td>19,658.50</td>\n",
       "      <td>8,525.51</td>\n",
       "      <td>16.05</td>\n",
       "      <td>50.56</td>\n",
       "      <td>35,000.00</td>\n",
       "    </tr>\n",
       "    <tr>\n",
       "      <th>California</th>\n",
       "      <td>39,148,760.00</td>\n",
       "      <td>103,530.53</td>\n",
       "      <td>1,649.72</td>\n",
       "      <td>11,043.39</td>\n",
       "      <td>3,131.52</td>\n",
       "      <td>20.11</td>\n",
       "      <td>22.86</td>\n",
       "      <td>25,100.00</td>\n",
       "    </tr>\n",
       "  </tbody>\n",
       "</table>\n",
       "</div>"
      ],
      "text/plain": [
       "            total_population  confirmed_per_100000  deaths_per_100000  \\\n",
       "state                                                                   \n",
       "Alabama         4,864,680.00            260,181.88           5,209.30   \n",
       "Alaska            736,384.00             30,588.54             127.53   \n",
       "Arizona         6,946,685.00             51,056.09           1,554.06   \n",
       "Arkansas        2,990,671.00            255,135.29           5,138.08   \n",
       "California     39,148,760.00            103,530.53           1,649.72   \n",
       "\n",
       "            Low Access to Store (Per Capita)  \\\n",
       "state                                          \n",
       "Alabama                            19,793.92   \n",
       "Alaska                             30,357.82   \n",
       "Arizona                            18,056.93   \n",
       "Arkansas                           19,658.50   \n",
       "California                         11,043.39   \n",
       "\n",
       "            Low Access Low Income to Store (Per Capita)  \\\n",
       "state                                                     \n",
       "Alabama                                        7,783.11   \n",
       "Alaska                                         8,826.18   \n",
       "Arizona                                        6,941.42   \n",
       "Arkansas                                       8,525.51   \n",
       "California                                     3,131.52   \n",
       "\n",
       "            # of Grocery Stores (Per Capita)  \\\n",
       "state                                          \n",
       "Alabama                                15.56   \n",
       "Alaska                                 29.20   \n",
       "Arizona                                11.31   \n",
       "Arkansas                               16.05   \n",
       "California                             20.11   \n",
       "\n",
       "            # of Convenience Stores (Per Capita)  Obese Adults (Per Capita)  \n",
       "state                                                                        \n",
       "Alabama                                    66.54                  36,300.00  \n",
       "Alaska                                     23.49                  34,200.00  \n",
       "Arizona                                    27.39                  29,500.00  \n",
       "Arkansas                                   50.56                  35,000.00  \n",
       "California                                 22.86                  25,100.00  "
      ]
     },
     "execution_count": 834,
     "metadata": {},
     "output_type": "execute_result"
    }
   ],
   "source": [
    "comb_pc_all_df = comb_pctotpop_df.join(renew_comb_condeaths_all_df,lsuffix=\"total_population\")\n",
    "comb_pc_all_df[\"Low Access to Store (Per Capita)\"]=(comb_pc_all_df[\"Low Access to Store\"]/comb_pc_all_df[\"total_population\"])*100000\n",
    "comb_pc_all_df[\"Low Access Low Income to Store (Per Capita)\"]=(comb_pc_all_df[\"Low Access Low Income to Store\"]/comb_pc_all_df[\"total_population\"])*100000\n",
    "comb_pc_all_df[\"# of Grocery Stores (Per Capita)\"]=(comb_pc_all_df[\"# of Grocery Stores\"]/comb_pc_all_df[\"total_population\"])*100000\n",
    "comb_pc_all_df[\"# of Convenience Stores (Per Capita)\"]=(comb_pc_all_df[\"# of Convenience Stores\"]/comb_pc_all_df[\"total_population\"])*100000\n",
    "comb_pc_all_df[\"Obese Adults (Per Capita)\"]=(comb_pc_all_df[\"Total Obese Adults Per State\"]/comb_pc_all_df[\"total_population\"])*100000\n",
    "\n",
    "comb_pc_all_df = comb_pc_all_df[['total_population','confirmed_per_100000','deaths_per_100000','Low Access to Store (Per Capita)',\"Low Access Low Income to Store (Per Capita)\",\"# of Grocery Stores (Per Capita)\",\"# of Convenience Stores (Per Capita)\",\"Obese Adults (Per Capita)\"]]\n",
    "comb_pc_all_df.head()"
   ]
  },
  {
   "cell_type": "code",
   "execution_count": null,
   "metadata": {},
   "outputs": [],
   "source": []
  },
  {
   "cell_type": "code",
   "execution_count": 835,
   "metadata": {},
   "outputs": [],
   "source": [
    "def create_scatter(x_values, y_values, title, xlabel, ylabel, alpha):\n",
    "    plt.scatter(x_values, y_values, alpha=alpha)\n",
    "    plt.title(title)\n",
    "    plt.xlabel(xlabel)\n",
    "    plt.ylabel(ylabel)\n",
    "    slope, intercept, r_value, p_value, std_err = sts.linregress(x_values, y_values)\n",
    "    plt.plot(x_values, x_values * slope + intercept)\n",
    "    print(f\"r-squared: {round(r_value ** 2, 3)}\")"
   ]
  },
  {
   "cell_type": "code",
   "execution_count": 836,
   "metadata": {},
   "outputs": [
    {
     "name": "stdout",
     "output_type": "stream",
     "text": [
      "r-squared: nan\n"
     ]
    },
    {
     "data": {
      "image/png": "[encoded data removed]",
      "text/plain": [
       "<Figure size 432x288 with 1 Axes>"
      ]
     },
     "metadata": {
      "needs_background": "light"
     },
     "output_type": "display_data"
    }
   ],
   "source": [
    "scatter_pc_confirmed_la = create_scatter(comb_pc_all_df['confirmed_per_100000'], comb_pc_all_df['Low Access to Store (Per Capita)'], 'Low Access to Store Compared to Confirmed (Per Capita)', 'Low Access to Stores, per 100,000', 'Confirmed, per 100,000', 0.75)"
   ]
  },
  {
   "cell_type": "code",
   "execution_count": 837,
   "metadata": {},
   "outputs": [
    {
     "name": "stdout",
     "output_type": "stream",
     "text": [
      "r-squared: nan\n"
     ]
    },
    {
     "data": {
      "image/png": "[encoded data removed]",
      "text/plain": [
       "<Figure size 432x288 with 1 Axes>"
      ]
     },
     "metadata": {
      "needs_background": "light"
     },
     "output_type": "display_data"
    }
   ],
   "source": [
    "scatter_pc_deaths_la = create_scatter(comb_pc_all_df['deaths_per_100000'], comb_pc_all_df['Low Access to Store (Per Capita)'], 'Low Access to Store Compared to Deaths (Per Capita)', 'Low Access to Stores, per 100,000', 'Deaths, per 100,000', 0.75)"
   ]
  },
  {
   "cell_type": "code",
   "execution_count": 838,
   "metadata": {},
   "outputs": [
    {
     "name": "stdout",
     "output_type": "stream",
     "text": [
      "r-squared: nan\n"
     ]
    },
    {
     "data": {
      "image/png": "[encoded data removed]",
      "text/plain": [
       "<Figure size 432x288 with 1 Axes>"
      ]
     },
     "metadata": {
      "needs_background": "light"
     },
     "output_type": "display_data"
    }
   ],
   "source": [
    "scatter_pc_confirmed_lilw = create_scatter(comb_pc_all_df['confirmed_per_100000'], comb_pc_all_df['Low Access Low Income to Store (Per Capita)'], 'Low Access Low Income to Stores Compared to Confirmed (Per Capita)', 'Confirmed, per 100,000', 'Low Income Low Access to Stores, per 100,000', 0.75)"
   ]
  },
  {
   "cell_type": "code",
   "execution_count": 839,
   "metadata": {
    "scrolled": true
   },
   "outputs": [
    {
     "name": "stdout",
     "output_type": "stream",
     "text": [
      "r-squared: nan\n"
     ]
    },
    {
     "data": {
      "image/png": "[encoded data removed]",
      "text/plain": [
       "<Figure size 432x288 with 1 Axes>"
      ]
     },
     "metadata": {
      "needs_background": "light"
     },
     "output_type": "display_data"
    }
   ],
   "source": [
    "scatter_pc_deaths_lilw = create_scatter(comb_pc_all_df['deaths_per_100000'], comb_pc_all_df['Low Access Low Income to Store (Per Capita)'], 'Low Access Low Income to Stores Compared to Deaths (Per Capita)', 'Deaths, per 100,000', 'Low Income Low Access to Stores, per 100,000', 0.75)"
   ]
  },
  {
   "cell_type": "code",
   "execution_count": 840,
   "metadata": {},
   "outputs": [
    {
     "name": "stdout",
     "output_type": "stream",
     "text": [
      "r-squared: nan\n"
     ]
    },
    {
     "data": {
      "image/png": "[encoded data removed]",
      "text/plain": [
       "<Figure size 432x288 with 1 Axes>"
      ]
     },
     "metadata": {
      "needs_background": "light"
     },
     "output_type": "display_data"
    }
   ],
   "source": [
    "scatter_pc_confirmed_grocery = create_scatter(comb_pc_all_df['confirmed_per_100000'], comb_pc_all_df['# of Grocery Stores (Per Capita)'], '# of Grocery Stores Compared to Confirmed (Per Capita)', 'Confirmed, per 100,000', '# of Grocery Stores, per 100,000', 0.75)"
   ]
  },
  {
   "cell_type": "code",
   "execution_count": 841,
   "metadata": {},
   "outputs": [
    {
     "name": "stdout",
     "output_type": "stream",
     "text": [
      "r-squared: nan\n"
     ]
    },
    {
     "data": {
      "image/png": "[encoded data removed]",
      "text/plain": [
       "<Figure size 432x288 with 1 Axes>"
      ]
     },
     "metadata": {
      "needs_background": "light"
     },
     "output_type": "display_data"
    }
   ],
   "source": [
    "scatter_pc_deaths_grocery = create_scatter(comb_pc_all_df['deaths_per_100000'], comb_pc_all_df['# of Grocery Stores (Per Capita)'], '# of Grocery Stores Compared to Deaths (Per Capita)', 'Deaths, per 100,000', '# of Grocery Stores, per 100,000', 0.75)"
   ]
  },
  {
   "cell_type": "code",
   "execution_count": 842,
   "metadata": {},
   "outputs": [
    {
     "name": "stdout",
     "output_type": "stream",
     "text": [
      "r-squared: nan\n"
     ]
    },
    {
     "data": {
      "image/png": "[encoded data removed]",
      "text/plain": [
       "<Figure size 432x288 with 1 Axes>"
      ]
     },
     "metadata": {
      "needs_background": "light"
     },
     "output_type": "display_data"
    }
   ],
   "source": [
    "scatter_pc_confirmed_convenience = create_scatter(comb_pc_all_df['confirmed_per_100000'], comb_pc_all_df['# of Convenience Stores (Per Capita)'], '# of Convenience Stores Compared to Confirmed (Per Capita)', 'Confirmed, per 100,000', '# of Convenience Stores, per 100,000', 0.75)"
   ]
  },
  {
   "cell_type": "code",
   "execution_count": 843,
   "metadata": {
    "scrolled": true
   },
   "outputs": [
    {
     "name": "stdout",
     "output_type": "stream",
     "text": [
      "r-squared: nan\n"
     ]
    },
    {
     "data": {
      "image/png": "[encoded data removed]",
      "text/plain": [
       "<Figure size 432x288 with 1 Axes>"
      ]
     },
     "metadata": {
      "needs_background": "light"
     },
     "output_type": "display_data"
    }
   ],
   "source": [
    "scatter_pc_deaths_convenience = create_scatter(comb_pc_all_df['deaths_per_100000'], comb_pc_all_df['# of Convenience Stores (Per Capita)'], '# of Convenience Stores Compared to Deaths (Per Capita)', 'Deaths, per 100,000', '# of Convenience Stores, per 100,000', 0.75)"
   ]
  },
  {
   "cell_type": "code",
   "execution_count": 844,
   "metadata": {},
   "outputs": [
    {
     "name": "stdout",
     "output_type": "stream",
     "text": [
      "r-squared: nan\n"
     ]
    },
    {
     "data": {
      "image/png": "[encoded data removed]",
      "text/plain": [
       "<Figure size 432x288 with 1 Axes>"
      ]
     },
     "metadata": {
      "needs_background": "light"
     },
     "output_type": "display_data"
    }
   ],
   "source": [
    "scatter_pc_confirmed_obese = create_scatter(comb_pc_all_df['confirmed_per_100000'], comb_pc_all_df['Obese Adults (Per Capita)'], 'Obese Adults Compared to Confirmed (Per Capita)', 'Confirmed, per 100,000', 'Obese Adults, per 100,000', 0.75)"
   ]
  },
  {
   "cell_type": "code",
   "execution_count": 845,
   "metadata": {
    "scrolled": true
   },
   "outputs": [
    {
     "name": "stdout",
     "output_type": "stream",
     "text": [
      "r-squared: nan\n"
     ]
    },
    {
     "data": {
      "text/plain": [
       "<function matplotlib.pyplot.savefig(*args, **kwargs)>"
      ]
     },
     "execution_count": 845,
     "metadata": {},
     "output_type": "execute_result"
    },
    {
     "data": {
      "image/png": "[encoded data removed]",
      "text/plain": [
       "<Figure size 432x288 with 1 Axes>"
      ]
     },
     "metadata": {
      "needs_background": "light"
     },
     "output_type": "display_data"
    }
   ],
   "source": [
    "scatter_pc_deaths_obese = create_scatter(comb_pc_all_df['deaths_per_100000'], comb_pc_all_df['Obese Adults (Per Capita)'], 'Obese Adults Compared to Deaths (Per Capita)', 'Deaths, per 100,000', 'Obese Adults, per 100,000', 0.75)\n",
    "plt.savefig"
   ]
  },
  {
   "cell_type": "code",
   "execution_count": null,
   "metadata": {},
   "outputs": [],
   "source": []
  },
  {
   "cell_type": "code",
   "execution_count": null,
   "metadata": {},
   "outputs": [],
   "source": []
  },
  {
   "cell_type": "code",
   "execution_count": 846,
   "metadata": {},
   "outputs": [
    {
     "data": {
      "text/html": [
       "<div>\n",
       "<style scoped>\n",
       "    .dataframe tbody tr th:only-of-type {\n",
       "        vertical-align: middle;\n",
       "    }\n",
       "\n",
       "    .dataframe tbody tr th {\n",
       "        vertical-align: top;\n",
       "    }\n",
       "\n",
       "    .dataframe thead th {\n",
       "        text-align: right;\n",
       "    }\n",
       "</style>\n",
       "<table border=\"1\" class=\"dataframe\">\n",
       "  <thead>\n",
       "    <tr style=\"text-align: right;\">\n",
       "      <th></th>\n",
       "      <th>total_population</th>\n",
       "      <th>confirmed_per_100000</th>\n",
       "      <th>deaths_per_100000</th>\n",
       "      <th>Low Access to Store (Per Capita)</th>\n",
       "      <th>Low Access Low Income to Store (Per Capita)</th>\n",
       "      <th># of Grocery Stores (Per Capita)</th>\n",
       "      <th># of Convenience Stores (Per Capita)</th>\n",
       "      <th>Obese Adults (Per Capita)</th>\n",
       "    </tr>\n",
       "    <tr>\n",
       "      <th>state</th>\n",
       "      <th></th>\n",
       "      <th></th>\n",
       "      <th></th>\n",
       "      <th></th>\n",
       "      <th></th>\n",
       "      <th></th>\n",
       "      <th></th>\n",
       "      <th></th>\n",
       "    </tr>\n",
       "  </thead>\n",
       "  <tbody>\n",
       "    <tr>\n",
       "      <th>Texas</th>\n",
       "      <td>27,885,195.00</td>\n",
       "      <td>653,218.96</td>\n",
       "      <td>18,003.33</td>\n",
       "      <td>20,537.53</td>\n",
       "      <td>7,819.27</td>\n",
       "      <td>12.40</td>\n",
       "      <td>45.26</td>\n",
       "      <td>33,000.00</td>\n",
       "    </tr>\n",
       "    <tr>\n",
       "      <th>Georgia</th>\n",
       "      <td>10,297,484.00</td>\n",
       "      <td>556,697.15</td>\n",
       "      <td>17,050.05</td>\n",
       "      <td>23,139.25</td>\n",
       "      <td>8,508.86</td>\n",
       "      <td>17.04</td>\n",
       "      <td>58.86</td>\n",
       "      <td>31,600.00</td>\n",
       "    </tr>\n",
       "    <tr>\n",
       "      <th>Tennessee</th>\n",
       "      <td>6,651,089.00</td>\n",
       "      <td>364,099.28</td>\n",
       "      <td>4,918.28</td>\n",
       "      <td>22,433.58</td>\n",
       "      <td>8,072.36</td>\n",
       "      <td>16.12</td>\n",
       "      <td>54.71</td>\n",
       "      <td>32,800.00</td>\n",
       "    </tr>\n",
       "    <tr>\n",
       "      <th>Mississippi</th>\n",
       "      <td>2,988,762.00</td>\n",
       "      <td>345,514.24</td>\n",
       "      <td>11,194.21</td>\n",
       "      <td>22,067.41</td>\n",
       "      <td>10,582.85</td>\n",
       "      <td>14.62</td>\n",
       "      <td>69.23</td>\n",
       "      <td>37,300.00</td>\n",
       "    </tr>\n",
       "    <tr>\n",
       "      <th>Iowa</th>\n",
       "      <td>3,132,499.00</td>\n",
       "      <td>316,247.39</td>\n",
       "      <td>4,614.24</td>\n",
       "      <td>18,074.59</td>\n",
       "      <td>5,426.09</td>\n",
       "      <td>19.12</td>\n",
       "      <td>50.50</td>\n",
       "      <td>36,400.00</td>\n",
       "    </tr>\n",
       "  </tbody>\n",
       "</table>\n",
       "</div>"
      ],
      "text/plain": [
       "             total_population  confirmed_per_100000  deaths_per_100000  \\\n",
       "state                                                                    \n",
       "Texas           27,885,195.00            653,218.96          18,003.33   \n",
       "Georgia         10,297,484.00            556,697.15          17,050.05   \n",
       "Tennessee        6,651,089.00            364,099.28           4,918.28   \n",
       "Mississippi      2,988,762.00            345,514.24          11,194.21   \n",
       "Iowa             3,132,499.00            316,247.39           4,614.24   \n",
       "\n",
       "             Low Access to Store (Per Capita)  \\\n",
       "state                                           \n",
       "Texas                               20,537.53   \n",
       "Georgia                             23,139.25   \n",
       "Tennessee                           22,433.58   \n",
       "Mississippi                         22,067.41   \n",
       "Iowa                                18,074.59   \n",
       "\n",
       "             Low Access Low Income to Store (Per Capita)  \\\n",
       "state                                                      \n",
       "Texas                                           7,819.27   \n",
       "Georgia                                         8,508.86   \n",
       "Tennessee                                       8,072.36   \n",
       "Mississippi                                    10,582.85   \n",
       "Iowa                                            5,426.09   \n",
       "\n",
       "             # of Grocery Stores (Per Capita)  \\\n",
       "state                                           \n",
       "Texas                                   12.40   \n",
       "Georgia                                 17.04   \n",
       "Tennessee                               16.12   \n",
       "Mississippi                             14.62   \n",
       "Iowa                                    19.12   \n",
       "\n",
       "             # of Convenience Stores (Per Capita)  Obese Adults (Per Capita)  \n",
       "state                                                                         \n",
       "Texas                                       45.26                  33,000.00  \n",
       "Georgia                                     58.86                  31,600.00  \n",
       "Tennessee                                   54.71                  32,800.00  \n",
       "Mississippi                                 69.23                  37,300.00  \n",
       "Iowa                                        50.50                  36,400.00  "
      ]
     },
     "execution_count": 846,
     "metadata": {},
     "output_type": "execute_result"
    }
   ],
   "source": [
    "comb_pc_conf_dfc1 = comb_pc_all_df.sort_values(['confirmed_per_100000'], ascending=False)\n",
    "comb_pc_conf_dfc1.head()"
   ]
  },
  {
   "cell_type": "code",
   "execution_count": 847,
   "metadata": {
    "scrolled": false
   },
   "outputs": [
    {
     "data": {
      "text/plain": [
       "state\n",
       "Texas         653,218.96\n",
       "Georgia       556,697.15\n",
       "Tennessee     364,099.28\n",
       "Mississippi   345,514.24\n",
       "Iowa          316,247.39\n",
       "Name: confirmed_per_100000, dtype: float64"
      ]
     },
     "execution_count": 847,
     "metadata": {},
     "output_type": "execute_result"
    }
   ],
   "source": [
    "comb_pc_conf_dfc1 = comb_pc_all_df.sort_values(['confirmed_per_100000'], ascending=False)\n",
    "bar_pc_df= comb_pc_conf_dfc1.iloc[0:5,1]\n",
    "bar_pc_df"
   ]
  },
  {
   "cell_type": "code",
   "execution_count": 848,
   "metadata": {},
   "outputs": [
    {
     "data": {
      "text/plain": [
       "Text(0, 0.5, 'Confirmed (per capita)')"
      ]
     },
     "execution_count": 848,
     "metadata": {},
     "output_type": "execute_result"
    },
    {
     "data": {
      "image/png": "[encoded data removed]",
      "text/plain": [
       "<Figure size 1080x720 with 1 Axes>"
      ]
     },
     "metadata": {
      "needs_background": "light"
     },
     "output_type": "display_data"
    }
   ],
   "source": [
    "# top 5 states for confirmed\n",
    "\n",
    "ax = bar_pc_df.plot(kind='bar', title =\"Top 5 States for Confirmed Cases (per capita)\",figsize=(15,10),legend=True, fontsize=12)\n",
    "ax.set_xlabel(\"State\",fontsize=12)\n",
    "ax.set_ylabel(\"Confirmed (per capita)\",fontsize=12)"
   ]
  },
  {
   "cell_type": "code",
   "execution_count": 849,
   "metadata": {},
   "outputs": [
    {
     "data": {
      "text/plain": [
       "state\n",
       "Texas         18,003.33\n",
       "Georgia       17,050.05\n",
       "Mississippi   11,194.21\n",
       "Louisiana      8,125.76\n",
       "Virginia       6,713.41\n",
       "Name: deaths_per_100000, dtype: float64"
      ]
     },
     "execution_count": 849,
     "metadata": {},
     "output_type": "execute_result"
    }
   ],
   "source": [
    "comb_pc_deaths_dfc1 = comb_pc_all_df.sort_values(by=['deaths_per_100000'], ascending=False)\n",
    "bar_pc2_df= comb_pc_deaths_dfc1.iloc[0:5,2]\n",
    "bar_pc2_df"
   ]
  },
  {
   "cell_type": "code",
   "execution_count": 850,
   "metadata": {},
   "outputs": [
    {
     "data": {
      "text/plain": [
       "Text(0, 0.5, 'Confirmed (per capita)')"
      ]
     },
     "execution_count": 850,
     "metadata": {},
     "output_type": "execute_result"
    },
    {
     "data": {
      "image/png": "[encoded data removed]",
      "text/plain": [
       "<Figure size 1080x720 with 1 Axes>"
      ]
     },
     "metadata": {
      "needs_background": "light"
     },
     "output_type": "display_data"
    }
   ],
   "source": [
    "# top 5 states for deaths\n",
    "\n",
    "ax = bar_pc2_df.plot(kind='bar', title =\"Top 5 States for Deaths (per capita)\",figsize=(15,10),legend=True, fontsize=12)\n",
    "ax.set_xlabel(\"State\",fontsize=12)\n",
    "ax.set_ylabel(\"Confirmed (per capita)\",fontsize=12)"
   ]
  },
  {
   "cell_type": "code",
   "execution_count": 851,
   "metadata": {},
   "outputs": [
    {
     "data": {
      "text/plain": [
       "Text(0, 0.5, 'Confirmed (per capita)')"
      ]
     },
     "execution_count": 851,
     "metadata": {},
     "output_type": "execute_result"
    },
    {
     "data": {
      "image/png": "[encoded data removed]",
      "text/plain": [
       "<Figure size 1080x720 with 1 Axes>"
      ]
     },
     "metadata": {
      "needs_background": "light"
     },
     "output_type": "display_data"
    }
   ],
   "source": [
    "# most obese states vs deaths \n",
    "\n",
    "bar_pc3_df= comb_pc_deaths_dfc1.iloc[0:5,[2,7]]\n",
    "\n",
    "ax = bar_pc3_df.plot(kind='bar', title =\"Top 5 States for Confirmed Cases (per capita)\",figsize=(15,10),legend=True, fontsize=12)\n",
    "ax.set_xlabel(\"State\",fontsize=12)\n",
    "ax.set_ylabel(\"Confirmed (per capita)\",fontsize=12)"
   ]
  },
  {
   "cell_type": "code",
   "execution_count": 852,
   "metadata": {},
   "outputs": [
    {
     "data": {
      "text/plain": [
       "Text(0, 0.5, 'Confirmed (per capita)')"
      ]
     },
     "execution_count": 852,
     "metadata": {},
     "output_type": "execute_result"
    },
    {
     "data": {
      "image/png": "[encoded data removed]",
      "text/plain": [
       "<Figure size 1080x720 with 1 Axes>"
      ]
     },
     "metadata": {
      "needs_background": "light"
     },
     "output_type": "display_data"
    }
   ],
   "source": [
    "bar_pc3_df= comb_pc_deaths_dfc1.iloc[46:51,[2,7]]\n",
    "\n",
    "ax = bar_pc3_df.plot(kind='bar', title =\"Top 5 States for Confirmed Cases (per capita)\",figsize=(15,10),legend=True, fontsize=12)\n",
    "ax.set_xlabel(\"State\",fontsize=12)\n",
    "ax.set_ylabel(\"Confirmed (per capita)\",fontsize=12)"
   ]
  },
  {
   "cell_type": "code",
   "execution_count": 853,
   "metadata": {},
   "outputs": [
    {
     "data": {
      "text/plain": [
       "<matplotlib.legend.Legend at 0x276fd8237c0>"
      ]
     },
     "execution_count": 853,
     "metadata": {},
     "output_type": "execute_result"
    },
    {
     "data": {
      "image/png": "[encoded data removed]",
      "text/plain": [
       "<Figure size 432x288 with 2 Axes>"
      ]
     },
     "metadata": {
      "needs_background": "light"
     },
     "output_type": "display_data"
    }
   ],
   "source": [
    "axes = bar_pc3_df.plot.bar(rot=1, subplots=True)\n",
    "axes[1].legend(loc=2)  "
   ]
  },
  {
   "cell_type": "code",
   "execution_count": null,
   "metadata": {},
   "outputs": [],
   "source": [
    "# Question 1: How does each variable related to food deserts or obesity nationwide when converted into per capita statistics?\n",
    "# Conclusion: Again, each variable tends to have a positive correlation to the confirmed cases and deaths across the USA. Without the r-squared value, I am unable to see exactly how the variables correlate to each other and if they relate closely. Overall, I feel as if I was unable to come to a firm conclusion for the per capita stats. Given time, I do think there will be a general positive correlation between the variables.\n",
    "# What's next?: Due to time constraints, I wasn't able to see my idea to its full potential. Given more time, I would want to compare confirmed cases and deaths to convenience store locations around the nation and in specific states (top 5, bottom 5 for confirmed cases/deaths) using a heatmap or similar visual. I believe this would prove fruitful as it would give an indication has to what populations are contracting / dying from COVID-19 at a higher rate and their general location in relation to convenience stores or grocery stores."
   ]
  },
  {
   "cell_type": "code",
   "execution_count": null,
   "metadata": {},
   "outputs": [],
   "source": []
  }
 ],
 "metadata": {
  "kernelspec": {
   "display_name": "Python 3",
   "language": "python",
   "name": "python3"
  },
  "language_info": {
   "codemirror_mode": {
    "name": "ipython",
    "version": 3
   },
   "file_extension": ".py",
   "mimetype": "text/x-python",
   "name": "python",
   "nbconvert_exporter": "python",
   "pygments_lexer": "ipython3",
   "version": "3.8.5"
  }
 },
 "nbformat": 4,
 "nbformat_minor": 4
}
