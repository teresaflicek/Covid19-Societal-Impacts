{
 "metadata": {
  "language_info": {
   "codemirror_mode": {
    "name": "ipython",
    "version": 3
   },
   "file_extension": ".py",
   "mimetype": "text/x-python",
   "name": "python",
   "nbconvert_exporter": "python",
   "pygments_lexer": "ipython3",
   "version": "3.8.3-final"
  },
  "orig_nbformat": 2,
  "kernelspec": {
   "name": "Python 3.8.3 64-bit ('base': conda)",
   "display_name": "Python 3.8.3 64-bit ('base': conda)",
   "metadata": {
    "interpreter": {
     "hash": "7f84b47ab47900d71b34325cfd92901aeebcd982374c644ce885998c8bc4e9fc"
    }
   }
  }
 },
 "nbformat": 4,
 "nbformat_minor": 2,
 "cells": [
  {
   "cell_type": "code",
   "execution_count": 11,
   "metadata": {},
   "outputs": [],
   "source": [
    "import matplotlib.pyplot as plt\n",
    "import pandas as pd\n",
    "import scipy.stats as st\n",
    "import numpy as np\n",
    "import csv\n",
    "import requests\n",
    "from pprint import pprint \n",
    "\n",
    "covid_count = pd.read_csv(\"resources/Covid/3_cases_and_deaths_by_state_timeseries.csv\")\n",
    "state_covid = pd.read_csv(\"resources/Covid/CDPHE_COVID19_Daily_State_Statistics.csv\")\n",
    "demo_co = pd.read_csv(\"resources/Covid/covid19_cases_demographics_tests_2020-10-23.csv\")\n",
    "demo_usa = pd.read_csv(\"resources/Covid/covid_confirmed_usafacts.csv\")"
   ]
  },
  {
   "cell_type": "code",
   "execution_count": 35,
   "metadata": {},
   "outputs": [
    {
     "output_type": "stream",
     "name": "stdout",
     "text": [
      "<Response [404]>\n"
     ]
    }
   ],
   "source": [
    "base_url = \"https://api.covidtracking.com/v1/states/\"\n",
    "response = requests.get(f'{base_url}[state]')\n",
    "pprint(response)\n"
   ]
  },
  {
   "cell_type": "code",
   "execution_count": 44,
   "metadata": {},
   "outputs": [
    {
     "output_type": "stream",
     "name": "stdout",
     "text": [
      "{'error': True,\n 'message': 'Data not found. Note that state codes in URLs should be lower '\n            'case, for example, /api/v1/states/ca/info.json instead of '\n            '/api/v1/states/CA/info.json.'}\n"
     ]
    }
   ],
   "source": [
    "states = ['co', 'ca', 'tx', 'ny', 'fl', 'ct', 'nc', 'ga']\n",
    "\n",
    "for state in states:\n",
    "    url = f'{base_url}[states]'\n",
    "    response = requests.get(f'{url}[state]')\n",
    "    state_data = response.json()\n",
    "\n",
    "pprint(state_data)"
   ]
  },
  {
   "cell_type": "code",
   "execution_count": null,
   "metadata": {},
   "outputs": [],
   "source": []
  }
 ]
}