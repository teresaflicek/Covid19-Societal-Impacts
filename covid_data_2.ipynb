{
 "cells": [
  {
   "cell_type": "code",
   "execution_count": 204,
   "metadata": {},
   "outputs": [],
   "source": [
    "import matplotlib.pyplot as plt\n",
    "import pandas as pd\n",
    "import scipy.stats as st\n",
    "import numpy as np\n",
    "import csv\n",
    "from scipy.stats import linregress\n",
    "from sklearn import datasets\n",
    "\n",
    "\n",
    "covid_states = pd.read_csv(\"resources/Covid/10-24-2020.csv\")\n",
    "state_median_income =  pd.read_csv(\"resources/Covid/raw_data.csv\")\n",
    "\n"
   ]
  },
  {
   "cell_type": "code",
   "execution_count": 205,
   "metadata": {},
   "outputs": [],
   "source": [
    "covid_states = pd.DataFrame(covid_states)\n",
    "state_median_income = pd.DataFrame(state_median_income)\n"
   ]
  },
  {
   "cell_type": "code",
   "execution_count": 206,
   "metadata": {},
   "outputs": [
    {
     "data": {
      "text/html": [
       "<div>\n",
       "<style scoped>\n",
       "    .dataframe tbody tr th:only-of-type {\n",
       "        vertical-align: middle;\n",
       "    }\n",
       "\n",
       "    .dataframe tbody tr th {\n",
       "        vertical-align: top;\n",
       "    }\n",
       "\n",
       "    .dataframe thead th {\n",
       "        text-align: right;\n",
       "    }\n",
       "</style>\n",
       "<table border=\"1\" class=\"dataframe\">\n",
       "  <thead>\n",
       "    <tr style=\"text-align: right;\">\n",
       "      <th></th>\n",
       "      <th>Country_Region</th>\n",
       "      <th>Last_Update</th>\n",
       "      <th>Lat</th>\n",
       "      <th>Long_</th>\n",
       "      <th>Confirmed</th>\n",
       "      <th>Deaths</th>\n",
       "      <th>Recovered</th>\n",
       "      <th>Active</th>\n",
       "      <th>FIPS</th>\n",
       "      <th>Incident_Rate</th>\n",
       "      <th>People_Tested</th>\n",
       "      <th>People_Hospitalized</th>\n",
       "      <th>Mortality_Rate</th>\n",
       "      <th>UID</th>\n",
       "      <th>ISO3</th>\n",
       "      <th>Testing_Rate</th>\n",
       "      <th>Hospitalization_Rate</th>\n",
       "    </tr>\n",
       "    <tr>\n",
       "      <th>Province_State</th>\n",
       "      <th></th>\n",
       "      <th></th>\n",
       "      <th></th>\n",
       "      <th></th>\n",
       "      <th></th>\n",
       "      <th></th>\n",
       "      <th></th>\n",
       "      <th></th>\n",
       "      <th></th>\n",
       "      <th></th>\n",
       "      <th></th>\n",
       "      <th></th>\n",
       "      <th></th>\n",
       "      <th></th>\n",
       "      <th></th>\n",
       "      <th></th>\n",
       "      <th></th>\n",
       "    </tr>\n",
       "  </thead>\n",
       "  <tbody>\n",
       "    <tr>\n",
       "      <th>Alabama</th>\n",
       "      <td>US</td>\n",
       "      <td>2020-10-25 04:30:24</td>\n",
       "      <td>32.3182</td>\n",
       "      <td>-86.9023</td>\n",
       "      <td>183276</td>\n",
       "      <td>2866</td>\n",
       "      <td>74439.0</td>\n",
       "      <td>105971.0</td>\n",
       "      <td>1.0</td>\n",
       "      <td>3737.896898</td>\n",
       "      <td>1295868.0</td>\n",
       "      <td>NaN</td>\n",
       "      <td>1.563762</td>\n",
       "      <td>84000001</td>\n",
       "      <td>USA</td>\n",
       "      <td>26429.106795</td>\n",
       "      <td>NaN</td>\n",
       "    </tr>\n",
       "    <tr>\n",
       "      <th>Alaska</th>\n",
       "      <td>US</td>\n",
       "      <td>2020-10-25 04:30:24</td>\n",
       "      <td>61.3707</td>\n",
       "      <td>-152.4044</td>\n",
       "      <td>12485</td>\n",
       "      <td>68</td>\n",
       "      <td>6939.0</td>\n",
       "      <td>5478.0</td>\n",
       "      <td>2.0</td>\n",
       "      <td>1706.661928</td>\n",
       "      <td>552746.0</td>\n",
       "      <td>NaN</td>\n",
       "      <td>0.544654</td>\n",
       "      <td>84000002</td>\n",
       "      <td>USA</td>\n",
       "      <td>75558.714775</td>\n",
       "      <td>NaN</td>\n",
       "    </tr>\n",
       "    <tr>\n",
       "      <th>Arizona</th>\n",
       "      <td>US</td>\n",
       "      <td>2020-10-25 04:30:24</td>\n",
       "      <td>33.7298</td>\n",
       "      <td>-111.4312</td>\n",
       "      <td>236772</td>\n",
       "      <td>5869</td>\n",
       "      <td>39525.0</td>\n",
       "      <td>191378.0</td>\n",
       "      <td>4.0</td>\n",
       "      <td>3252.935923</td>\n",
       "      <td>1693549.0</td>\n",
       "      <td>NaN</td>\n",
       "      <td>2.478756</td>\n",
       "      <td>84000004</td>\n",
       "      <td>USA</td>\n",
       "      <td>23267.136227</td>\n",
       "      <td>NaN</td>\n",
       "    </tr>\n",
       "    <tr>\n",
       "      <th>Arkansas</th>\n",
       "      <td>US</td>\n",
       "      <td>2020-10-25 04:30:24</td>\n",
       "      <td>34.9697</td>\n",
       "      <td>-92.3731</td>\n",
       "      <td>105318</td>\n",
       "      <td>1797</td>\n",
       "      <td>93977.0</td>\n",
       "      <td>9544.0</td>\n",
       "      <td>5.0</td>\n",
       "      <td>3489.888674</td>\n",
       "      <td>1280018.0</td>\n",
       "      <td>NaN</td>\n",
       "      <td>1.706261</td>\n",
       "      <td>84000005</td>\n",
       "      <td>USA</td>\n",
       "      <td>42415.544548</td>\n",
       "      <td>NaN</td>\n",
       "    </tr>\n",
       "    <tr>\n",
       "      <th>California</th>\n",
       "      <td>US</td>\n",
       "      <td>2020-10-25 04:30:24</td>\n",
       "      <td>36.1162</td>\n",
       "      <td>-119.6816</td>\n",
       "      <td>903684</td>\n",
       "      <td>17343</td>\n",
       "      <td>NaN</td>\n",
       "      <td>886341.0</td>\n",
       "      <td>6.0</td>\n",
       "      <td>2287.099868</td>\n",
       "      <td>17609179.0</td>\n",
       "      <td>NaN</td>\n",
       "      <td>1.919144</td>\n",
       "      <td>84000006</td>\n",
       "      <td>USA</td>\n",
       "      <td>44566.409235</td>\n",
       "      <td>NaN</td>\n",
       "    </tr>\n",
       "  </tbody>\n",
       "</table>\n",
       "</div>"
      ],
      "text/plain": [
       "               Country_Region          Last_Update      Lat     Long_  \\\n",
       "Province_State                                                          \n",
       "Alabama                    US  2020-10-25 04:30:24  32.3182  -86.9023   \n",
       "Alaska                     US  2020-10-25 04:30:24  61.3707 -152.4044   \n",
       "Arizona                    US  2020-10-25 04:30:24  33.7298 -111.4312   \n",
       "Arkansas                   US  2020-10-25 04:30:24  34.9697  -92.3731   \n",
       "California                 US  2020-10-25 04:30:24  36.1162 -119.6816   \n",
       "\n",
       "                Confirmed  Deaths  Recovered    Active  FIPS  Incident_Rate  \\\n",
       "Province_State                                                                \n",
       "Alabama            183276    2866    74439.0  105971.0   1.0    3737.896898   \n",
       "Alaska              12485      68     6939.0    5478.0   2.0    1706.661928   \n",
       "Arizona            236772    5869    39525.0  191378.0   4.0    3252.935923   \n",
       "Arkansas           105318    1797    93977.0    9544.0   5.0    3489.888674   \n",
       "California         903684   17343        NaN  886341.0   6.0    2287.099868   \n",
       "\n",
       "                People_Tested  People_Hospitalized  Mortality_Rate       UID  \\\n",
       "Province_State                                                                 \n",
       "Alabama             1295868.0                  NaN        1.563762  84000001   \n",
       "Alaska               552746.0                  NaN        0.544654  84000002   \n",
       "Arizona             1693549.0                  NaN        2.478756  84000004   \n",
       "Arkansas            1280018.0                  NaN        1.706261  84000005   \n",
       "California         17609179.0                  NaN        1.919144  84000006   \n",
       "\n",
       "               ISO3  Testing_Rate  Hospitalization_Rate  \n",
       "Province_State                                           \n",
       "Alabama         USA  26429.106795                   NaN  \n",
       "Alaska          USA  75558.714775                   NaN  \n",
       "Arizona         USA  23267.136227                   NaN  \n",
       "Arkansas        USA  42415.544548                   NaN  \n",
       "California      USA  44566.409235                   NaN  "
      ]
     },
     "execution_count": 206,
     "metadata": {},
     "output_type": "execute_result"
    }
   ],
   "source": [
    "covid_states.head()\n",
    "covid_52 = covid_states.drop(axis=0, index=[2, 9, 13, 14, 39, 52])\n",
    "covid = covid_52.set_index(['Province_State'])\n",
    "covid.head()\n"
   ]
  },
  {
   "cell_type": "code",
   "execution_count": 207,
   "metadata": {
    "jupyter": {
     "source_hidden": true
    }
   },
   "outputs": [
    {
     "data": {
      "text/plain": [
       "Index(['Country_Region', 'Last_Update', 'Lat', 'Long_', 'Confirmed', 'Deaths',\n",
       "       'Recovered', 'Active', 'FIPS', 'Incident_Rate', 'People_Tested',\n",
       "       'People_Hospitalized', 'Mortality_Rate', 'UID', 'ISO3', 'Testing_Rate',\n",
       "       'Hospitalization_Rate'],\n",
       "      dtype='object')"
      ]
     },
     "execution_count": 207,
     "metadata": {},
     "output_type": "execute_result"
    }
   ],
   "source": [
    "\n",
    "covid.columns\n"
   ]
  },
  {
   "cell_type": "code",
   "execution_count": 268,
   "metadata": {},
   "outputs": [
    {
     "data": {
      "text/html": [
       "<div>\n",
       "<style scoped>\n",
       "    .dataframe tbody tr th:only-of-type {\n",
       "        vertical-align: middle;\n",
       "    }\n",
       "\n",
       "    .dataframe tbody tr th {\n",
       "        vertical-align: top;\n",
       "    }\n",
       "\n",
       "    .dataframe thead th {\n",
       "        text-align: right;\n",
       "    }\n",
       "</style>\n",
       "<table border=\"1\" class=\"dataframe\">\n",
       "  <thead>\n",
       "    <tr style=\"text-align: right;\">\n",
       "      <th></th>\n",
       "      <th>Incident_Rate</th>\n",
       "      <th>Testing_Rate</th>\n",
       "      <th>Mortality_Rate</th>\n",
       "      <th>Confirmed</th>\n",
       "      <th>Deaths</th>\n",
       "      <th>People_Tested</th>\n",
       "    </tr>\n",
       "    <tr>\n",
       "      <th>Province_State</th>\n",
       "      <th></th>\n",
       "      <th></th>\n",
       "      <th></th>\n",
       "      <th></th>\n",
       "      <th></th>\n",
       "      <th></th>\n",
       "    </tr>\n",
       "  </thead>\n",
       "  <tbody>\n",
       "    <tr>\n",
       "      <th>Alabama</th>\n",
       "      <td>3737.896898</td>\n",
       "      <td>26429.106795</td>\n",
       "      <td>1.563762</td>\n",
       "      <td>183276</td>\n",
       "      <td>2866</td>\n",
       "      <td>1295868.0</td>\n",
       "    </tr>\n",
       "    <tr>\n",
       "      <th>Alaska</th>\n",
       "      <td>1706.661928</td>\n",
       "      <td>75558.714775</td>\n",
       "      <td>0.544654</td>\n",
       "      <td>12485</td>\n",
       "      <td>68</td>\n",
       "      <td>552746.0</td>\n",
       "    </tr>\n",
       "    <tr>\n",
       "      <th>Arizona</th>\n",
       "      <td>3252.935923</td>\n",
       "      <td>23267.136227</td>\n",
       "      <td>2.478756</td>\n",
       "      <td>236772</td>\n",
       "      <td>5869</td>\n",
       "      <td>1693549.0</td>\n",
       "    </tr>\n",
       "    <tr>\n",
       "      <th>Arkansas</th>\n",
       "      <td>3489.888674</td>\n",
       "      <td>42415.544548</td>\n",
       "      <td>1.706261</td>\n",
       "      <td>105318</td>\n",
       "      <td>1797</td>\n",
       "      <td>1280018.0</td>\n",
       "    </tr>\n",
       "    <tr>\n",
       "      <th>California</th>\n",
       "      <td>2287.099868</td>\n",
       "      <td>44566.409235</td>\n",
       "      <td>1.919144</td>\n",
       "      <td>903684</td>\n",
       "      <td>17343</td>\n",
       "      <td>17609179.0</td>\n",
       "    </tr>\n",
       "  </tbody>\n",
       "</table>\n",
       "</div>"
      ],
      "text/plain": [
       "                Incident_Rate  Testing_Rate  Mortality_Rate  Confirmed  \\\n",
       "Province_State                                                           \n",
       "Alabama           3737.896898  26429.106795        1.563762     183276   \n",
       "Alaska            1706.661928  75558.714775        0.544654      12485   \n",
       "Arizona           3252.935923  23267.136227        2.478756     236772   \n",
       "Arkansas          3489.888674  42415.544548        1.706261     105318   \n",
       "California        2287.099868  44566.409235        1.919144     903684   \n",
       "\n",
       "                Deaths  People_Tested  \n",
       "Province_State                         \n",
       "Alabama           2866      1295868.0  \n",
       "Alaska              68       552746.0  \n",
       "Arizona           5869      1693549.0  \n",
       "Arkansas          1797      1280018.0  \n",
       "California       17343     17609179.0  "
      ]
     },
     "execution_count": 268,
     "metadata": {},
     "output_type": "execute_result"
    }
   ],
   "source": [
    "states_data = covid[['Incident_Rate', 'Testing_Rate', 'Mortality_Rate', 'Confirmed', 'Deaths', 'People_Tested']]\n",
    "states_data.head()\n"
   ]
  },
  {
   "cell_type": "code",
   "execution_count": 269,
   "metadata": {},
   "outputs": [
    {
     "data": {
      "text/plain": [
       "Index(['Title: Median Annual Household Income | KFF', 'Unnamed: 1'], dtype='object')"
      ]
     },
     "execution_count": 269,
     "metadata": {},
     "output_type": "execute_result"
    }
   ],
   "source": [
    "state_median_income.head(52)\n",
    "state_52 = state_median_income.drop(index=[0, 2, 55, 56, 57, 58, 59, 60, 61, 62])\n",
    "state_52.columns"
   ]
  },
  {
   "cell_type": "code",
   "execution_count": 270,
   "metadata": {},
   "outputs": [
    {
     "data": {
      "text/plain": [
       "Index(['Unnamed: 1'], dtype='object')"
      ]
     },
     "execution_count": 270,
     "metadata": {},
     "output_type": "execute_result"
    }
   ],
   "source": [
    "state_income = state_52.set_index(['Title: Median Annual Household Income | KFF'])\n",
    "state_income.columns"
   ]
  },
  {
   "cell_type": "code",
   "execution_count": 271,
   "metadata": {},
   "outputs": [],
   "source": [
    "covid_states = pd.merge(state_income, states_data, right_index=True, left_index=True)\n"
   ]
  },
  {
   "cell_type": "code",
   "execution_count": 303,
   "metadata": {},
   "outputs": [
    {
     "data": {
      "text/plain": [
       "Median Household Income     object\n",
       "Incident Rate              float64\n",
       "Testing Rate               float64\n",
       "Mortality Rate             float64\n",
       "Confirmed                    int64\n",
       "Deaths                       int64\n",
       "People Tested              float64\n",
       "dtype: object"
      ]
     },
     "execution_count": 303,
     "metadata": {},
     "output_type": "execute_result"
    }
   ],
   "source": [
    "combined = covid_states.rename(columns={'Unnamed: 1':'Median Household Income', 'Incident_Rate': 'Incident Rate', \n",
    "                                        'Testing_Rate': 'Testing Rate', 'Mortality_Rate': 'Mortality Rate', 'People_Tested': 'People Tested'})\n",
    "combined.head()\n",
    "combined.dtypes\n",
    "\n"
   ]
  },
  {
   "cell_type": "code",
   "execution_count": 226,
   "metadata": {},
   "outputs": [
    {
     "data": {
      "text/html": [
       "<div>\n",
       "<style scoped>\n",
       "    .dataframe tbody tr th:only-of-type {\n",
       "        vertical-align: middle;\n",
       "    }\n",
       "\n",
       "    .dataframe tbody tr th {\n",
       "        vertical-align: top;\n",
       "    }\n",
       "\n",
       "    .dataframe thead th {\n",
       "        text-align: right;\n",
       "    }\n",
       "</style>\n",
       "<table border=\"1\" class=\"dataframe\">\n",
       "  <thead>\n",
       "    <tr style=\"text-align: right;\">\n",
       "      <th></th>\n",
       "      <th>Median Household Income</th>\n",
       "    </tr>\n",
       "  </thead>\n",
       "  <tbody>\n",
       "    <tr>\n",
       "      <th>Alabama</th>\n",
       "      <td>48123.00</td>\n",
       "    </tr>\n",
       "    <tr>\n",
       "      <th>Alaska</th>\n",
       "      <td>73181.00</td>\n",
       "    </tr>\n",
       "    <tr>\n",
       "      <th>Arizona</th>\n",
       "      <td>56581.00</td>\n",
       "    </tr>\n",
       "    <tr>\n",
       "      <th>Arkansas</th>\n",
       "      <td>45869.00</td>\n",
       "    </tr>\n",
       "    <tr>\n",
       "      <th>California</th>\n",
       "      <td>71805.00</td>\n",
       "    </tr>\n",
       "  </tbody>\n",
       "</table>\n",
       "</div>"
      ],
      "text/plain": [
       "           Median Household Income\n",
       "Alabama                   48123.00\n",
       "Alaska                    73181.00\n",
       "Arizona                   56581.00\n",
       "Arkansas                  45869.00\n",
       "California                71805.00"
      ]
     },
     "execution_count": 226,
     "metadata": {},
     "output_type": "execute_result"
    }
   ],
   "source": [
    "combined_bar = combined[['Median Household Income']]\n",
    "combined_bar.head()"
   ]
  },
  {
   "cell_type": "code",
   "execution_count": 227,
   "metadata": {},
   "outputs": [
    {
     "data": {
      "text/plain": [
       "Median Household Income    int32\n",
       "dtype: object"
      ]
     },
     "execution_count": 227,
     "metadata": {},
     "output_type": "execute_result"
    }
   ],
   "source": [
    "bar_data.dtypes\n",
    "bar_data['Median Household Income'] = pd.to_numeric(bar_data['Median Household Income'], downcast=\"integer\")\n",
    "bar_data.dtypes"
   ]
  },
  {
   "cell_type": "code",
   "execution_count": 228,
   "metadata": {},
   "outputs": [
    {
     "data": {
      "image/png": "[encoded data removed]",
      "text/plain": [
       "<Figure size 2160x360 with 1 Axes>"
      ]
     },
     "metadata": {
      "needs_background": "light"
     },
     "output_type": "display_data"
    },
    {
     "data": {
      "text/plain": [
       "<Figure size 432x288 with 0 Axes>"
      ]
     },
     "metadata": {},
     "output_type": "display_data"
    }
   ],
   "source": [
    "\n",
    "bar_data.plot(kind='bar', figsize=(30,5))\n",
    "plt.title(\"Median Houshold Income by State ($)\")\n",
    "plt.show()\n",
    "plt.tight_layout()"
   ]
  },
  {
   "cell_type": "code",
   "execution_count": 366,
   "metadata": {},
   "outputs": [
    {
     "data": {
      "text/html": [
       "<div>\n",
       "<style scoped>\n",
       "    .dataframe tbody tr th:only-of-type {\n",
       "        vertical-align: middle;\n",
       "    }\n",
       "\n",
       "    .dataframe tbody tr th {\n",
       "        vertical-align: top;\n",
       "    }\n",
       "\n",
       "    .dataframe thead th {\n",
       "        text-align: right;\n",
       "    }\n",
       "</style>\n",
       "<table border=\"1\" class=\"dataframe\">\n",
       "  <thead>\n",
       "    <tr style=\"text-align: right;\">\n",
       "      <th></th>\n",
       "      <th>Median Household Income</th>\n",
       "      <th>Incident Rate</th>\n",
       "      <th>Testing Rate</th>\n",
       "      <th>Mortality Rate</th>\n",
       "      <th>Confirmed</th>\n",
       "      <th>Deaths</th>\n",
       "      <th>People Tested</th>\n",
       "    </tr>\n",
       "  </thead>\n",
       "  <tbody>\n",
       "    <tr>\n",
       "      <th>Alabama</th>\n",
       "      <td>48123</td>\n",
       "      <td>3737.896898</td>\n",
       "      <td>26429.106795</td>\n",
       "      <td>1.563762</td>\n",
       "      <td>183276</td>\n",
       "      <td>2866</td>\n",
       "      <td>1295868</td>\n",
       "    </tr>\n",
       "    <tr>\n",
       "      <th>Alaska</th>\n",
       "      <td>73181</td>\n",
       "      <td>1706.661928</td>\n",
       "      <td>75558.714775</td>\n",
       "      <td>0.544654</td>\n",
       "      <td>12485</td>\n",
       "      <td>68</td>\n",
       "      <td>552746</td>\n",
       "    </tr>\n",
       "    <tr>\n",
       "      <th>Arizona</th>\n",
       "      <td>56581</td>\n",
       "      <td>3252.935923</td>\n",
       "      <td>23267.136227</td>\n",
       "      <td>2.478756</td>\n",
       "      <td>236772</td>\n",
       "      <td>5869</td>\n",
       "      <td>1693549</td>\n",
       "    </tr>\n",
       "    <tr>\n",
       "      <th>Arkansas</th>\n",
       "      <td>45869</td>\n",
       "      <td>3489.888674</td>\n",
       "      <td>42415.544548</td>\n",
       "      <td>1.706261</td>\n",
       "      <td>105318</td>\n",
       "      <td>1797</td>\n",
       "      <td>1280018</td>\n",
       "    </tr>\n",
       "    <tr>\n",
       "      <th>California</th>\n",
       "      <td>71805</td>\n",
       "      <td>2287.099868</td>\n",
       "      <td>44566.409235</td>\n",
       "      <td>1.919144</td>\n",
       "      <td>903684</td>\n",
       "      <td>17343</td>\n",
       "      <td>17609179</td>\n",
       "    </tr>\n",
       "  </tbody>\n",
       "</table>\n",
       "</div>"
      ],
      "text/plain": [
       "            Median Household Income  Incident Rate  Testing Rate  \\\n",
       "Alabama                       48123    3737.896898  26429.106795   \n",
       "Alaska                        73181    1706.661928  75558.714775   \n",
       "Arizona                       56581    3252.935923  23267.136227   \n",
       "Arkansas                      45869    3489.888674  42415.544548   \n",
       "California                    71805    2287.099868  44566.409235   \n",
       "\n",
       "            Mortality Rate  Confirmed  Deaths  People Tested  \n",
       "Alabama           1.563762     183276    2866        1295868  \n",
       "Alaska            0.544654      12485      68         552746  \n",
       "Arizona           2.478756     236772    5869        1693549  \n",
       "Arkansas          1.706261     105318    1797        1280018  \n",
       "California        1.919144     903684   17343       17609179  "
      ]
     },
     "execution_count": 366,
     "metadata": {},
     "output_type": "execute_result"
    }
   ],
   "source": [
    "combined.columns\n",
    "combined.dtypes\n",
    "combined['Median Household Income'] = pd.to_numeric(combined['Median Household Income'], downcast=\"integer\")\n",
    "\n",
    "\n",
    "combined['People Tested'] = pd.to_numeric(combined['People Tested'], downcast=\"integer\")\n",
    "combined.head()"
   ]
  },
  {
   "cell_type": "code",
   "execution_count": null,
   "metadata": {},
   "outputs": [],
   "source": []
  },
  {
   "cell_type": "code",
   "execution_count": null,
   "metadata": {},
   "outputs": [],
   "source": []
  },
  {
   "cell_type": "code",
   "execution_count": null,
   "metadata": {},
   "outputs": [],
   "source": []
  },
  {
   "cell_type": "code",
   "execution_count": 397,
   "metadata": {},
   "outputs": [
    {
     "data": {
      "image/png": "[encoded data removed]",
      "text/plain": [
       "<Figure size 432x288 with 1 Axes>"
      ]
     },
     "metadata": {
      "needs_background": "light"
     },
     "output_type": "display_data"
    }
   ],
   "source": [
    "plt.hist(combined['Incident Rate'])\n",
    "plt.xlabel('Incident Rate')\n",
    "plt.ylabel('Per 100k population')\n",
    "plt.show()\n",
    "mean = combined['Incident Rate'].mean()\n",
    "median = combined['Incident Rate'].median()\n",
    "\n",
    "# print(combined['Incident Rate'].mode())"
   ]
  },
  {
   "cell_type": "code",
   "execution_count": 419,
   "metadata": {},
   "outputs": [
    {
     "name": "stdout",
     "output_type": "stream",
     "text": [
      "The r-squared is: 0.06514254832336244\n",
      "P-value: 0.06783114997298934\n",
      "Mean: 164797.11538461538\n",
      "Median: 110077.0\n",
      "y = -0.02x + 3794.25\n"
     ]
    },
    {
     "data": {
      "image/png": "[encoded data removed]",
      "text/plain": [
       "<Figure size 432x288 with 1 Axes>"
      ]
     },
     "metadata": {
      "needs_background": "light"
     },
     "output_type": "display_data"
    }
   ],
   "source": [
    "y_values = combined['Incident Rate']\n",
    "x_values = combined['Median Household Income']\n",
    "plt.scatter(x_values,y_values)\n",
    "plt.ylabel('Incident Rate')\n",
    "plt.xlabel('Median Household Income')\n",
    "(slope, intercept, rvalue, pvalue, stderr) = linregress(x_values, y_values)\n",
    "regress_values = x_values * slope + intercept\n",
    "line_eq = \"y = \" + str(round(slope,2)) + \"x + \" + str(round(intercept,2))\n",
    "plt.scatter(x_values,y_values)\n",
    "plt.plot(x_values,regress_values,\"r-\")\n",
    "plt.annotate(line_eq,(0,50),fontsize=15,color=\"red\")\n",
    "print(f\"The r-squared is: {rvalue**2}\")\n",
    "print(f'P-value: {pvalue}')\n",
    "print(f'Mean: {mean}')\n",
    "print(f'Median: {median}')\n",
    "print(line_eq)\n",
    "plt.show()\n"
   ]
  },
  {
   "cell_type": "code",
   "execution_count": 420,
   "metadata": {},
   "outputs": [
    {
     "name": "stdout",
     "output_type": "stream",
     "text": [
      "The lower quartile of Incident Rate is: 28196.90229171097\n",
      "The upper quartile of Incident Rate is: 47129.53668825373\n",
      "The interquartile range of Incident Rate is: 18932.63439654276\n",
      "The the median of Incident Rate is: 35909.66228716033 \n",
      "Values below -202.04930310316922 could be outliers.\n",
      "Values above 75528.48828306787 could be outliers.\n"
     ]
    }
   ],
   "source": [
    "incidence_rate = combined['Incident Rate']\n",
    "quartiles = testing_rate.quantile([.25,.5,.75])\n",
    "lowerq = quartiles[0.25]\n",
    "upperq = quartiles[0.75]\n",
    "iqr = upperq-lowerq\n",
    "\n",
    "print(f\"The lower quartile of Incident Rate is: {lowerq}\")\n",
    "print(f\"The upper quartile of Incident Rate is: {upperq}\")\n",
    "print(f\"The interquartile range of Incident Rate is: {iqr}\")\n",
    "print(f\"The the median of Incident Rate is: {quartiles[0.5]} \")\n",
    "\n",
    "lower_bound = lowerq - (1.5*iqr)\n",
    "upper_bound = upperq + (1.5*iqr)\n",
    "print(f\"Values below {lower_bound} could be outliers.\")\n",
    "print(f\"Values above {upper_bound} could be outliers.\")"
   ]
  },
  {
   "cell_type": "code",
   "execution_count": 421,
   "metadata": {},
   "outputs": [
    {
     "data": {
      "image/png": "[encoded data removed]",
      "text/plain": [
       "<Figure size 432x288 with 1 Axes>"
      ]
     },
     "metadata": {
      "needs_background": "light"
     },
     "output_type": "display_data"
    }
   ],
   "source": [
    "fig1, ax1 = plt.subplots()\n",
    "ax1.set_title('Incident Rate by State')\n",
    "ax1.set_ylabel('Incident Rate per 100k people')\n",
    "ax1.boxplot(incidence_rate)\n",
    "plt.show()"
   ]
  },
  {
   "cell_type": "code",
   "execution_count": 422,
   "metadata": {},
   "outputs": [
    {
     "data": {
      "image/png": "[encoded data removed]",
      "text/plain": [
       "<Figure size 432x288 with 1 Axes>"
      ]
     },
     "metadata": {
      "needs_background": "light"
     },
     "output_type": "display_data"
    }
   ],
   "source": [
    "plt.hist(combined['Testing Rate'])\n",
    "plt.xlabel('Testing Rate')\n",
    "plt.ylabel('Per 100k population')\n",
    "plt.show()\n",
    "mean = combined['Testing Rate'].mean()\n",
    "median = combined['Testing Rate'].median()\n",
    "# print(combined['Mortality Rate'].mode())"
   ]
  },
  {
   "cell_type": "code",
   "execution_count": 423,
   "metadata": {},
   "outputs": [
    {
     "name": "stdout",
     "output_type": "stream",
     "text": [
      "The r-squared is: 0.1482122411220732\n",
      "P-value: 0.004829609111746837\n",
      "Mean: 40934.923531719585\n",
      "Median: 35909.66228716033\n",
      "y = 0.63x + 3503.99\n"
     ]
    },
    {
     "data": {
      "image/png": "[encoded data removed]",
      "text/plain": [
       "<Figure size 432x288 with 1 Axes>"
      ]
     },
     "metadata": {
      "needs_background": "light"
     },
     "output_type": "display_data"
    }
   ],
   "source": [
    "y_values = combined['Testing Rate']\n",
    "x_values = combined['Median Household Income']\n",
    "plt.scatter(x_values,y_values)\n",
    "plt.ylabel('Testing Rate')\n",
    "plt.xlabel('Median Household Income')\n",
    "(slope, intercept, rvalue, pvalue, stderr) = linregress(x_values, y_values)\n",
    "regress_values = x_values * slope + intercept\n",
    "line_eq = \"y = \" + str(round(slope,2)) + \"x + \" + str(round(intercept,2))\n",
    "plt.scatter(x_values,y_values)\n",
    "plt.plot(x_values,regress_values,\"r-\")\n",
    "plt.annotate(line_eq,(0,50),fontsize=15,color=\"red\")\n",
    "print(f\"The r-squared is: {rvalue**2}\")\n",
    "print(f'P-value: {pvalue}')\n",
    "print(f'Mean: {mean}')\n",
    "print(f'Median: {median}')\n",
    "print(line_eq)\n",
    "plt.show()\n"
   ]
  },
  {
   "cell_type": "code",
   "execution_count": 424,
   "metadata": {},
   "outputs": [
    {
     "data": {
      "image/png": "[encoded data removed]",
      "text/plain": [
       "<Figure size 432x288 with 1 Axes>"
      ]
     },
     "metadata": {
      "needs_background": "light"
     },
     "output_type": "display_data"
    }
   ],
   "source": [
    "fig1, ax1 = plt.subplots()\n",
    "ax1.set_title('Testing Rate by State')\n",
    "ax1.set_ylabel('Testing rate per 100k people')\n",
    "ax1.boxplot(testing_rate)\n",
    "plt.show()"
   ]
  },
  {
   "cell_type": "code",
   "execution_count": 425,
   "metadata": {},
   "outputs": [
    {
     "name": "stdout",
     "output_type": "stream",
     "text": [
      "The lower quartile of testing rates is: 28196.90229171097\n",
      "The upper quartile of testing rates is: 47129.53668825373\n",
      "The interquartile range of testing rates is: 18932.63439654276\n",
      "The the median of testing rates is: 35909.66228716033 \n",
      "Values below -202.04930310316922 could be outliers.\n",
      "Values above 75528.48828306787 could be outliers.\n"
     ]
    }
   ],
   "source": [
    "testing_rate = combined['Testing Rate']\n",
    "quartiles = testing_rate.quantile([.25,.5,.75])\n",
    "lowerq = quartiles[0.25]\n",
    "upperq = quartiles[0.75]\n",
    "iqr = upperq-lowerq\n",
    "\n",
    "print(f\"The lower quartile of testing rates is: {lowerq}\")\n",
    "print(f\"The upper quartile of testing rates is: {upperq}\")\n",
    "print(f\"The interquartile range of testing rates is: {iqr}\")\n",
    "print(f\"The the median of testing rates is: {quartiles[0.5]} \")\n",
    "\n",
    "lower_bound = lowerq - (1.5*iqr)\n",
    "upper_bound = upperq + (1.5*iqr)\n",
    "print(f\"Values below {lower_bound} could be outliers.\")\n",
    "print(f\"Values above {upper_bound} could be outliers.\")"
   ]
  },
  {
   "cell_type": "code",
   "execution_count": 426,
   "metadata": {},
   "outputs": [
    {
     "name": "stdout",
     "output_type": "stream",
     "text": [
      "The lower quartile of Mortality Rate is: 28196.90229171097\n",
      "The upper quartile of Mortality Rate is: 47129.53668825373\n",
      "The interquartile range of Mortality Rate is: 18932.63439654276\n",
      "The the median of Mortality Rate is: 35909.66228716033 \n",
      "Values below -202.04930310316922 could be outliers.\n",
      "Values above 75528.48828306787 could be outliers.\n"
     ]
    }
   ],
   "source": [
    "mortality_rate = combined['Mortality Rate']\n",
    "quartiles = testing_rate.quantile([.25,.5,.75])\n",
    "lowerq = quartiles[0.25]\n",
    "upperq = quartiles[0.75]\n",
    "iqr = upperq-lowerq\n",
    "\n",
    "print(f\"The lower quartile of Mortality Rate is: {lowerq}\")\n",
    "print(f\"The upper quartile of Mortality Rate is: {upperq}\")\n",
    "print(f\"The interquartile range of Mortality Rate is: {iqr}\")\n",
    "print(f\"The the median of Mortality Rate is: {quartiles[0.5]} \")\n",
    "\n",
    "lower_bound = lowerq - (1.5*iqr)\n",
    "upper_bound = upperq + (1.5*iqr)\n",
    "print(f\"Values below {lower_bound} could be outliers.\")\n",
    "print(f\"Values above {upper_bound} could be outliers.\")"
   ]
  },
  {
   "cell_type": "code",
   "execution_count": 427,
   "metadata": {},
   "outputs": [
    {
     "data": {
      "image/png": "[encoded data removed]",
      "text/plain": [
       "<Figure size 432x288 with 1 Axes>"
      ]
     },
     "metadata": {
      "needs_background": "light"
     },
     "output_type": "display_data"
    }
   ],
   "source": [
    "fig1, ax1 = plt.subplots()\n",
    "ax1.set_title('Mortality rate by State')\n",
    "ax1.set_ylabel('Mortality rate per 100k people')\n",
    "ax1.boxplot(mortality_rate)\n",
    "plt.show()"
   ]
  },
  {
   "cell_type": "code",
   "execution_count": 428,
   "metadata": {},
   "outputs": [
    {
     "data": {
      "image/png": "[encoded data removed]",
      "text/plain": [
       "<Figure size 432x288 with 1 Axes>"
      ]
     },
     "metadata": {
      "needs_background": "light"
     },
     "output_type": "display_data"
    }
   ],
   "source": [
    "plt.hist(combined['Mortality Rate'])\n",
    "plt.xlabel('Mortality Rate')\n",
    "plt.ylabel('Per 100k population')\n",
    "plt.show()\n",
    "mean = combined['Mortality Rate'].mean()\n",
    "median = combined['Mortality Rate'].median()\n",
    "# print(combined['Mortality Rate'].mode())\n"
   ]
  },
  {
   "cell_type": "code",
   "execution_count": 429,
   "metadata": {},
   "outputs": [
    {
     "name": "stdout",
     "output_type": "stream",
     "text": [
      "The r-squared is: 0.15744785283135013\n",
      "P-value: 0.003586813121472258\n",
      "Mean: 2.426584838586157\n",
      "Median: 2.04853390312161\n",
      "y = 0.0x + -0.84\n"
     ]
    },
    {
     "data": {
      "image/png": "[encoded data removed]",
      "text/plain": [
       "<Figure size 432x288 with 1 Axes>"
      ]
     },
     "metadata": {
      "needs_background": "light"
     },
     "output_type": "display_data"
    }
   ],
   "source": [
    "y_values = combined['Mortality Rate']\n",
    "x_values = combined['Median Household Income']\n",
    "plt.scatter(x_values,y_values)\n",
    "plt.ylabel('Mortality Rate')\n",
    "plt.xlabel('Median Household Income')\n",
    "(slope, intercept, rvalue, pvalue, stderr) = linregress(x_values, y_values)\n",
    "regress_values = x_values * slope + intercept\n",
    "line_eq = \"y = \" + str(round(slope,2)) + \"x + \" + str(round(intercept,2))\n",
    "plt.scatter(x_values,y_values)\n",
    "plt.plot(x_values,regress_values,\"r-\")\n",
    "plt.annotate(line_eq,(0,50),fontsize=15,color=\"red\")\n",
    "print(f\"The r-squared is: {rvalue**2}\")\n",
    "print(f'P-value: {pvalue}')\n",
    "print(f'Mean: {mean}')\n",
    "print(f'Median: {median}')\n",
    "print(line_eq)\n",
    "plt.show()"
   ]
  },
  {
   "cell_type": "code",
   "execution_count": 430,
   "metadata": {},
   "outputs": [
    {
     "data": {
      "text/html": [
       "<div>\n",
       "<style scoped>\n",
       "    .dataframe tbody tr th:only-of-type {\n",
       "        vertical-align: middle;\n",
       "    }\n",
       "\n",
       "    .dataframe tbody tr th {\n",
       "        vertical-align: top;\n",
       "    }\n",
       "\n",
       "    .dataframe thead th {\n",
       "        text-align: right;\n",
       "    }\n",
       "</style>\n",
       "<table border=\"1\" class=\"dataframe\">\n",
       "  <thead>\n",
       "    <tr style=\"text-align: right;\">\n",
       "      <th></th>\n",
       "      <th>Median Household Income</th>\n",
       "      <th>Incident Rate</th>\n",
       "      <th>Testing Rate</th>\n",
       "      <th>Mortality Rate</th>\n",
       "      <th>Confirmed</th>\n",
       "      <th>Deaths</th>\n",
       "      <th>People Tested</th>\n",
       "    </tr>\n",
       "  </thead>\n",
       "  <tbody>\n",
       "    <tr>\n",
       "      <th>Alabama</th>\n",
       "      <td>48123</td>\n",
       "      <td>3737.896898</td>\n",
       "      <td>26429.106795</td>\n",
       "      <td>1.563762</td>\n",
       "      <td>183276</td>\n",
       "      <td>2866</td>\n",
       "      <td>1295868</td>\n",
       "    </tr>\n",
       "    <tr>\n",
       "      <th>Alaska</th>\n",
       "      <td>73181</td>\n",
       "      <td>1706.661928</td>\n",
       "      <td>75558.714775</td>\n",
       "      <td>0.544654</td>\n",
       "      <td>12485</td>\n",
       "      <td>68</td>\n",
       "      <td>552746</td>\n",
       "    </tr>\n",
       "    <tr>\n",
       "      <th>Arizona</th>\n",
       "      <td>56581</td>\n",
       "      <td>3252.935923</td>\n",
       "      <td>23267.136227</td>\n",
       "      <td>2.478756</td>\n",
       "      <td>236772</td>\n",
       "      <td>5869</td>\n",
       "      <td>1693549</td>\n",
       "    </tr>\n",
       "    <tr>\n",
       "      <th>Arkansas</th>\n",
       "      <td>45869</td>\n",
       "      <td>3489.888674</td>\n",
       "      <td>42415.544548</td>\n",
       "      <td>1.706261</td>\n",
       "      <td>105318</td>\n",
       "      <td>1797</td>\n",
       "      <td>1280018</td>\n",
       "    </tr>\n",
       "    <tr>\n",
       "      <th>California</th>\n",
       "      <td>71805</td>\n",
       "      <td>2287.099868</td>\n",
       "      <td>44566.409235</td>\n",
       "      <td>1.919144</td>\n",
       "      <td>903684</td>\n",
       "      <td>17343</td>\n",
       "      <td>17609179</td>\n",
       "    </tr>\n",
       "  </tbody>\n",
       "</table>\n",
       "</div>"
      ],
      "text/plain": [
       "            Median Household Income  Incident Rate  Testing Rate  \\\n",
       "Alabama                       48123    3737.896898  26429.106795   \n",
       "Alaska                        73181    1706.661928  75558.714775   \n",
       "Arizona                       56581    3252.935923  23267.136227   \n",
       "Arkansas                      45869    3489.888674  42415.544548   \n",
       "California                    71805    2287.099868  44566.409235   \n",
       "\n",
       "            Mortality Rate  Confirmed  Deaths  People Tested  \n",
       "Alabama           1.563762     183276    2866        1295868  \n",
       "Alaska            0.544654      12485      68         552746  \n",
       "Arizona           2.478756     236772    5869        1693549  \n",
       "Arkansas          1.706261     105318    1797        1280018  \n",
       "California        1.919144     903684   17343       17609179  "
      ]
     },
     "execution_count": 430,
     "metadata": {},
     "output_type": "execute_result"
    }
   ],
   "source": [
    "combined.head()"
   ]
  },
  {
   "cell_type": "code",
   "execution_count": 439,
   "metadata": {},
   "outputs": [
    {
     "name": "stdout",
     "output_type": "stream",
     "text": [
      "The lower quartile of confrimed cases is: 40315.25\n",
      "The upper quartile of confrimed cases is: 186092.0\n",
      "The interquartile range of confrimed cases is: 145776.75\n",
      "The the median of confrimed cases is: 110077.0 \n",
      "Values below -178349.875 could be outliers.\n",
      "Values above 404757.125 could be outliers.\n"
     ]
    }
   ],
   "source": [
    "cum_cases = combined['Confirmed']\n",
    "quartiles = cum_cases.quantile([.25,.5,.75])\n",
    "lowerq = quartiles[0.25]\n",
    "upperq = quartiles[0.75]\n",
    "iqr = upperq-lowerq\n",
    "\n",
    "print(f\"The lower quartile of confrimed cases is: {lowerq}\")\n",
    "print(f\"The upper quartile of confrimed cases is: {upperq}\")\n",
    "print(f\"The interquartile range of confrimed cases is: {iqr}\")\n",
    "print(f\"The the median of confrimed cases is: {quartiles[0.5]} \")\n",
    "\n",
    "lower_bound = lowerq - (1.5*iqr)\n",
    "upper_bound = upperq + (1.5*iqr)\n",
    "print(f\"Values below {lower_bound} could be outliers.\")\n",
    "print(f\"Values above {upper_bound} could be outliers.\")"
   ]
  },
  {
   "cell_type": "code",
   "execution_count": 431,
   "metadata": {},
   "outputs": [
    {
     "data": {
      "image/png": "[encoded data removed]",
      "text/plain": [
       "<Figure size 432x288 with 1 Axes>"
      ]
     },
     "metadata": {
      "needs_background": "light"
     },
     "output_type": "display_data"
    },
    {
     "data": {
      "image/png": "[encoded data removed]",
      "text/plain": [
       "<Figure size 432x288 with 1 Axes>"
      ]
     },
     "metadata": {
      "needs_background": "light"
     },
     "output_type": "display_data"
    }
   ],
   "source": [
    "plt.hist(combined['Confirmed'])\n",
    "plt.xlabel('Confirmed')\n",
    "plt.ylabel('Count')\n",
    "plt.xticks(rotation=45)\n",
    "plt.yticks(ticks=(0, 5, 10, 15, 20))\n",
    "plt.show()\n",
    "mean = combined['Confirmed'].mean()\n",
    "median = combined['Confirmed'].median()\n",
    "# print(combined['Incident Rate'].mode())\n",
    "cum_cases = combined['Confirmed']\n",
    "fig1, ax1 = plt.subplots()\n",
    "ax1.set_title('Total Cases Count by State')\n",
    "ax1.set_ylabel('Case Count')\n",
    "ax1.boxplot(cum_cases)\n",
    "plt.show()"
   ]
  },
  {
   "cell_type": "code",
   "execution_count": 432,
   "metadata": {},
   "outputs": [
    {
     "name": "stdout",
     "output_type": "stream",
     "text": [
      "The r-squared is: 0.0008044497277496106\n",
      "P-value: 0.8417969827788341\n",
      "Mean: 164797.11538461538\n",
      "Median: 110077.0\n",
      "y = 0.49x + 135728.0\n"
     ]
    },
    {
     "data": {
      "image/png": "[encoded data removed]",
      "text/plain": [
       "<Figure size 432x288 with 1 Axes>"
      ]
     },
     "metadata": {
      "needs_background": "light"
     },
     "output_type": "display_data"
    }
   ],
   "source": [
    "y_values = combined['Confirmed']\n",
    "x_values = combined['Median Household Income']\n",
    "plt.scatter(x_values,y_values)\n",
    "plt.ylabel('Confirmed')\n",
    "plt.xlabel('Median Household Income')\n",
    "(slope, intercept, rvalue, pvalue, stderr) = linregress(x_values, y_values)\n",
    "regress_values = x_values * slope + intercept\n",
    "line_eq = \"y = \" + str(round(slope,2)) + \"x + \" + str(round(intercept,2))\n",
    "plt.scatter(x_values,y_values)\n",
    "plt.plot(x_values,regress_values,\"r-\")\n",
    "plt.annotate(line_eq,(0,50),fontsize=15,color=\"red\")\n",
    "print(f\"The r-squared is: {rvalue**2}\")\n",
    "print(f'P-value: {pvalue}')\n",
    "print(f'Mean: {mean}')\n",
    "print(f'Median: {median}')\n",
    "print(line_eq)\n",
    "plt.show()"
   ]
  },
  {
   "cell_type": "code",
   "execution_count": 433,
   "metadata": {},
   "outputs": [
    {
     "data": {
      "image/png": "[encoded data removed]",
      "text/plain": [
       "<Figure size 432x288 with 1 Axes>"
      ]
     },
     "metadata": {
      "needs_background": "light"
     },
     "output_type": "display_data"
    },
    {
     "data": {
      "image/png": "[encoded data removed]",
      "text/plain": [
       "<Figure size 432x288 with 1 Axes>"
      ]
     },
     "metadata": {
      "needs_background": "light"
     },
     "output_type": "display_data"
    }
   ],
   "source": [
    "plt.hist(combined['Deaths'])\n",
    "plt.xlabel('Deaths')\n",
    "plt.ylabel('Count')\n",
    "plt.xticks(rotation=45)\n",
    "plt.show()\n",
    "mean = combined['Deaths'].mean()\n",
    "median = combined['Deaths'].median()\n",
    "# print(combined['Incident Rate'].mode())\n",
    "\n",
    "total_death = combined['Deaths']\n",
    "fig1, ax1 = plt.subplots()\n",
    "ax1.set_title('Total Death Count by State')\n",
    "ax1.set_ylabel('Death Count')\n",
    "ax1.boxplot(total_death)\n",
    "plt.show()"
   ]
  },
  {
   "cell_type": "code",
   "execution_count": 440,
   "metadata": {},
   "outputs": [
    {
     "name": "stdout",
     "output_type": "stream",
     "text": [
      "The lower quartile of total death count is: 630.25\n",
      "The upper quartile of total death count is: 4734.25\n",
      "The interquartile range of total death count is: 4104.0\n",
      "The the median of total death count is: 2007.5 \n",
      "Values below -5525.75 could be outliers.\n",
      "Values above 10890.25 could be outliers.\n"
     ]
    }
   ],
   "source": [
    "quartiles = total_death.quantile([.25,.5,.75])\n",
    "lowerq = quartiles[0.25]\n",
    "upperq = quartiles[0.75]\n",
    "iqr = upperq-lowerq\n",
    "\n",
    "print(f\"The lower quartile of total death count is: {lowerq}\")\n",
    "print(f\"The upper quartile of total death count is: {upperq}\")\n",
    "print(f\"The interquartile range of total death count is: {iqr}\")\n",
    "print(f\"The the median of total death count is: {quartiles[0.5]} \")\n",
    "\n",
    "lower_bound = lowerq - (1.5*iqr)\n",
    "upper_bound = upperq + (1.5*iqr)\n",
    "print(f\"Values below {lower_bound} could be outliers.\")\n",
    "print(f\"Values above {upper_bound} could be outliers.\")"
   ]
  },
  {
   "cell_type": "code",
   "execution_count": 434,
   "metadata": {},
   "outputs": [
    {
     "name": "stdout",
     "output_type": "stream",
     "text": [
      "The r-squared is: 0.02883129583893291\n",
      "P-value: 0.22881119213990536\n",
      "Mean: 4322.961538461538\n",
      "Median: 2007.5\n",
      "y = 0.09x + -1050.05\n"
     ]
    },
    {
     "data": {
      "image/png": "[encoded data removed]",
      "text/plain": [
       "<Figure size 432x288 with 1 Axes>"
      ]
     },
     "metadata": {
      "needs_background": "light"
     },
     "output_type": "display_data"
    }
   ],
   "source": [
    "y_values = combined['Deaths']\n",
    "x_values = combined['Median Household Income']\n",
    "plt.scatter(x_values,y_values)\n",
    "plt.ylabel('Deaths')\n",
    "plt.xlabel('Median Household Income')\n",
    "(slope, intercept, rvalue, pvalue, stderr) = linregress(x_values, y_values)\n",
    "regress_values = x_values * slope + intercept\n",
    "line_eq = \"y = \" + str(round(slope,2)) + \"x + \" + str(round(intercept,2))\n",
    "plt.scatter(x_values,y_values)\n",
    "plt.plot(x_values,regress_values,\"r-\")\n",
    "plt.annotate(line_eq,(0,50),fontsize=15,color=\"red\")\n",
    "print(f\"The r-squared is: {rvalue**2}\")\n",
    "print(f'P-value: {pvalue}')\n",
    "print(f'Mean: {mean}')\n",
    "print(f'Median: {median}')\n",
    "print(line_eq)\n",
    "plt.show()"
   ]
  },
  {
   "cell_type": "code",
   "execution_count": 435,
   "metadata": {},
   "outputs": [
    {
     "data": {
      "image/png": "[encoded data removed]",
      "text/plain": [
       "<Figure size 432x288 with 1 Axes>"
      ]
     },
     "metadata": {
      "needs_background": "light"
     },
     "output_type": "display_data"
    },
    {
     "data": {
      "image/png": "[encoded data removed]",
      "text/plain": [
       "<Figure size 432x288 with 1 Axes>"
      ]
     },
     "metadata": {
      "needs_background": "light"
     },
     "output_type": "display_data"
    }
   ],
   "source": [
    "plt.hist(combined['People Tested'])\n",
    "plt.xlabel('People Tested in millions')\n",
    "plt.ylabel('State Count')\n",
    "plt.xticks(rotation=45)\n",
    "plt.show()\n",
    "mean = combined['People Tested'].mean()\n",
    "median = combined['People Tested'].median()\n",
    "# print(combined['Incident Rate'].mode())\n",
    "\n",
    "total_tested = combined['People Tested']\n",
    "fig1, ax1 = plt.subplots()\n",
    "ax1.set_title('Total Test Count by State')\n",
    "ax1.set_ylabel('Test Count in Millions')\n",
    "ax1.boxplot(total_tested)\n",
    "plt.show()\n",
    "\n"
   ]
  },
  {
   "cell_type": "code",
   "execution_count": 441,
   "metadata": {},
   "outputs": [
    {
     "name": "stdout",
     "output_type": "stream",
     "text": [
      "The lower quartile of total test count is: 605777.75\n",
      "The upper quartile of total test count is: 2819468.75\n",
      "The interquartile range of total test count is: 2213691.0\n",
      "The the median of total test count is: 1605896.5 \n",
      "Values below -2714758.75 could be outliers.\n",
      "Values above 6140005.25 could be outliers.\n"
     ]
    }
   ],
   "source": [
    "quartiles = total_tested.quantile([.25,.5,.75])\n",
    "lowerq = quartiles[0.25]\n",
    "upperq = quartiles[0.75]\n",
    "iqr = upperq-lowerq\n",
    "\n",
    "print(f\"The lower quartile of total test count is: {lowerq}\")\n",
    "print(f\"The upper quartile of total test count is: {upperq}\")\n",
    "print(f\"The interquartile range of total test count is: {iqr}\")\n",
    "print(f\"The the median of total test count is: {quartiles[0.5]} \")\n",
    "\n",
    "lower_bound = lowerq - (1.5*iqr)\n",
    "upper_bound = upperq + (1.5*iqr)\n",
    "print(f\"Values below {lower_bound} could be outliers.\")\n",
    "print(f\"Values above {upper_bound} could be outliers.\")"
   ]
  },
  {
   "cell_type": "code",
   "execution_count": 436,
   "metadata": {},
   "outputs": [
    {
     "name": "stdout",
     "output_type": "stream",
     "text": [
      "The r-squared is: 0.041988567499503464\n",
      "P-value: 0.14505325634113686\n",
      "y = 56.71x + -845105.22\n",
      "Mean: 2525983.153846154\n",
      "Median: 1605896.5\n"
     ]
    },
    {
     "data": {
      "image/png": "[encoded data removed]",
      "text/plain": [
       "<Figure size 432x288 with 1 Axes>"
      ]
     },
     "metadata": {
      "needs_background": "light"
     },
     "output_type": "display_data"
    }
   ],
   "source": [
    "y_values = combined['People Tested']\n",
    "x_values = combined['Median Household Income']\n",
    "plt.scatter(x_values,y_values)\n",
    "plt.ylabel('People Tested')\n",
    "plt.xlabel('Median Household Income')\n",
    "(slope, intercept, rvalue, pvalue, stderr) = linregress(x_values, y_values)\n",
    "regress_values = x_values * slope + intercept\n",
    "line_eq = \"y = \" + str(round(slope,2)) + \"x + \" + str(round(intercept,2))\n",
    "plt.scatter(x_values,y_values)\n",
    "plt.plot(x_values,regress_values,\"r-\")\n",
    "plt.annotate(line_eq,(0,50),fontsize=15,color=\"red\")\n",
    "print(f\"The r-squared is: {rvalue**2}\")\n",
    "print(f'P-value: {pvalue}')\n",
    "print(line_eq)\n",
    "print(f'Mean: {mean}')\n",
    "print(f'Median: {median}')\n",
    "plt.show()\n"
   ]
  },
  {
   "cell_type": "code",
   "execution_count": null,
   "metadata": {},
   "outputs": [],
   "source": []
  },
  {
   "cell_type": "code",
   "execution_count": null,
   "metadata": {},
   "outputs": [],
   "source": []
  },
  {
   "cell_type": "code",
   "execution_count": null,
   "metadata": {},
   "outputs": [],
   "source": []
  }
 ],
 "metadata": {
  "kernelspec": {
   "display_name": "Python [conda env:PythonData] *",
   "language": "python",
   "name": "conda-env-PythonData-py"
  },
  "language_info": {
   "codemirror_mode": {
    "name": "ipython",
    "version": 3
   },
   "file_extension": ".py",
   "mimetype": "text/x-python",
   "name": "python",
   "nbconvert_exporter": "python",
   "pygments_lexer": "ipython3",
   "version": "3.6.10"
  }
 },
 "nbformat": 4,
 "nbformat_minor": 4
}
