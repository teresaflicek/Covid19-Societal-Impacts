{
 "cells": [
  {
   "cell_type": "code",
   "execution_count": 5,
   "metadata": {},
   "outputs": [
    {
     "data": {
      "text/html": [
       "<div>\n",
       "<style scoped>\n",
       "    .dataframe tbody tr th:only-of-type {\n",
       "        vertical-align: middle;\n",
       "    }\n",
       "\n",
       "    .dataframe tbody tr th {\n",
       "        vertical-align: top;\n",
       "    }\n",
       "\n",
       "    .dataframe thead th {\n",
       "        text-align: right;\n",
       "    }\n",
       "</style>\n",
       "<table border=\"1\" class=\"dataframe\">\n",
       "  <thead>\n",
       "    <tr style=\"text-align: right;\">\n",
       "      <th></th>\n",
       "      <th>state</th>\n",
       "      <th>county_name</th>\n",
       "      <th>total_population</th>\n",
       "      <th>confirmed</th>\n",
       "      <th>deaths</th>\n",
       "    </tr>\n",
       "  </thead>\n",
       "  <tbody>\n",
       "    <tr>\n",
       "      <th>0</th>\n",
       "      <td>Alabama</td>\n",
       "      <td>Autauga</td>\n",
       "      <td>55200.0</td>\n",
       "      <td>2021</td>\n",
       "      <td>30</td>\n",
       "    </tr>\n",
       "    <tr>\n",
       "      <th>1</th>\n",
       "      <td>Alabama</td>\n",
       "      <td>Baldwin</td>\n",
       "      <td>208107.0</td>\n",
       "      <td>6443</td>\n",
       "      <td>69</td>\n",
       "    </tr>\n",
       "    <tr>\n",
       "      <th>2</th>\n",
       "      <td>Alabama</td>\n",
       "      <td>Barbour</td>\n",
       "      <td>25782.0</td>\n",
       "      <td>996</td>\n",
       "      <td>9</td>\n",
       "    </tr>\n",
       "    <tr>\n",
       "      <th>3</th>\n",
       "      <td>Alabama</td>\n",
       "      <td>Bibb</td>\n",
       "      <td>22527.0</td>\n",
       "      <td>801</td>\n",
       "      <td>14</td>\n",
       "    </tr>\n",
       "    <tr>\n",
       "      <th>4</th>\n",
       "      <td>Alabama</td>\n",
       "      <td>Blount</td>\n",
       "      <td>57645.0</td>\n",
       "      <td>1873</td>\n",
       "      <td>25</td>\n",
       "    </tr>\n",
       "  </tbody>\n",
       "</table>\n",
       "</div>"
      ],
      "text/plain": [
       "     state county_name  total_population  confirmed  deaths\n",
       "0  Alabama     Autauga           55200.0       2021      30\n",
       "1  Alabama     Baldwin          208107.0       6443      69\n",
       "2  Alabama     Barbour           25782.0        996       9\n",
       "3  Alabama        Bibb           22527.0        801      14\n",
       "4  Alabama      Blount           57645.0       1873      25"
      ]
     },
     "execution_count": 5,
     "metadata": {},
     "output_type": "execute_result"
    }
   ],
   "source": [
    "import pandas as pd\n",
    "import numpy as np\n",
    "import matplotlib.pyplot as plt\n",
    "%matplotlib inline\n",
    "file_one = \"Files/1_county_level_confirmed_cases.csv\"\n",
    "file_one_df = pd.read_csv(file_one, encoding=\"ISO-8859-1\")\n",
    "df1 = pd.DataFrame(file_one_df, columns= ['state','county_name','total_population','confirmed', 'deaths'])#, index = 1[\"CO\"])\n",
    "df1.head()"
   ]
  },
  {
   "cell_type": "code",
   "execution_count": null,
   "metadata": {},
   "outputs": [],
   "source": [
    "#pull up each state data for covid confirmed / deaths\n",
    "\n",
    "# state_df = pd.read_csv('https://raw.githubusercontent.com/CSSEGISandData/COVID-19/master/csse_covid_19_data/csse_covid_19_daily_reports_us/08-01-2020.csv')\n",
    "# state_df_drops = state_df.drop(index=[2,9,10,13,14,39,44,52], columns=[\"Country_Region\",\"Last_Update\",\"Lat\",\"Long_\",\"Recovered\",\"Active\",\"FIPS\",\"Incident_Rate\",\"People_Tested\",\"People_Hospitalized\",\"Mortality_Rate\",\"UID\",\"ISO3\",\"Testing_Rate\",\"Hospitalization_Rate\"])\n",
    "# state_df_drops"
   ]
  },
  {
   "cell_type": "code",
   "execution_count": null,
   "metadata": {},
   "outputs": [],
   "source": [
    "# confirmed_df = pd.DataFrame({\"confirmed\":confirmed})\n",
    "# new_confirmed_df = confirmed_df.drop(index=[\"Puerto Rico\"])\n",
    "# new_new_confirmed_df = new_confirmed_df.drop(index=[\"District of Columbia\"])\n",
    "# new_confirmed_df = confirmed_df.reset_index()\n",
    "# new_new_confirmed_df"
   ]
  },
  {
   "cell_type": "code",
   "execution_count": null,
   "metadata": {},
   "outputs": [],
   "source": [
    "import numpy as npimport \n",
    "matplotlib.pyplot as plt\n",
    "# Generate \n",
    "\\thnp.random.seed(100)x = list(range(10))y = x+np.random.rand(10)-0.5\n",
    "# Calculate the slope and y-intercept of the trendline\n",
    "fit = np.polyfit(x,y,1)\n",
    "# Add the trendline\n",
    "yfit = [n*fit[0] for n in x]+fit[1]plt.scatter(x,y)plt.plot(yfit,'black')plt.show()"
   ]
  }
 ],
 "metadata": {
  "kernelspec": {
   "display_name": "Python 3",
   "language": "python",
   "name": "python3"
  },
  "language_info": {
   "codemirror_mode": {
    "name": "ipython",
    "version": 3
   },
   "file_extension": ".py",
   "mimetype": "text/x-python",
   "name": "python",
   "nbconvert_exporter": "python",
   "pygments_lexer": "ipython3",
   "version": "3.8.5"
  }
 },
 "nbformat": 4,
 "nbformat_minor": 4
}
