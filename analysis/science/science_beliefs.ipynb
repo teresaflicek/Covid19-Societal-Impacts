{
 "cells": [
  {
   "cell_type": "code",
   "execution_count": 1,
   "metadata": {},
   "outputs": [],
   "source": [
    "import pandas as pd\n",
    "import pprint as pp\n",
    "import numpy as np\n",
    "import matplotlib.pyplot as plt\n",
    "import scipy.stats as sts"
   ]
  },
  {
   "cell_type": "code",
   "execution_count": 53,
   "metadata": {},
   "outputs": [],
   "source": [
    "data_path = \"../../resources/science-data/\"\n",
    "gw_df = pd.read_csv(data_path + \"global_warming.csv\")\n",
    "gw_meta_df = pd.read_csv(data_path + \"global_warming_meta.csv\")\n",
    "fips_df = pd.read_csv(data_path + \"fips_county.csv\")\n",
    "mask_df = pd.read_csv(data_path + \"mask-use-by-county.csv\")\n",
    "rona_df = pd.read_csv(data_path + \"jh_cases_deaths.csv\")"
   ]
  },
  {
   "cell_type": "code",
   "execution_count": 55,
   "metadata": {},
   "outputs": [],
   "source": [
    "gw_df = gw_df.groupby('GeoType').get_group('County')\n",
    "gw_df = gw_df[['GeoType', 'GEOID', 'happening', 'happeningOppose', 'human', 'humanOppose']]\n",
    "gw_df = gw_df.rename(columns={'happening': 'GW-Happening', 'happeningOppose': 'GW-Not-Happening', 'human': 'GW-Human-Caused', 'humanOppose': 'GW-Not-Human-Caused'})"
   ]
  },
  {
   "cell_type": "code",
   "execution_count": 56,
   "metadata": {
    "scrolled": true
   },
   "outputs": [],
   "source": [
    "mask_df = mask_df.rename(columns={'COUNTYFP': 'County', 'NEVER': 'Mask-Never', 'RARELY': 'Mask-Rarely', 'SOMETIMES': 'Mask-Sometimes', 'FREQUENTLY': 'Mask-Frequent', 'ALWAYS': 'Mask-Always'})"
   ]
  },
  {
   "cell_type": "code",
   "execution_count": 57,
   "metadata": {},
   "outputs": [],
   "source": [
    "rona_df = rona_df[['fips_code', 'total_population', 'confirmed', 'confirmed_per_100000', 'deaths', 'deaths_per_100000']]\n",
    "rona_df = rona_df.rename(columns={'total_population': 'Population', 'confirmed': 'Cases', 'confirmed_per_100000': 'Cases Per 100k', 'deaths': 'Deaths', 'deaths_per_100000': 'Deaths Per 100k' })\n",
    "rona_df = rona_df.dropna(subset=['fips_code', 'Population'])\n",
    "rona_df['fips_code'] = rona_df['fips_code'].astype('int32')\n",
    "rona_df['Population'] = rona_df['Population'].astype('int32')"
   ]
  },
  {
   "cell_type": "code",
   "execution_count": 58,
   "metadata": {},
   "outputs": [],
   "source": [
    "df = fips_df.merge(mask_df, how='inner', left_on='FIPS', right_on='County')\n",
    "df = df.drop(['County'], axis=1)"
   ]
  },
  {
   "cell_type": "code",
   "execution_count": 59,
   "metadata": {
    "scrolled": true
   },
   "outputs": [],
   "source": [
    "df = df.merge(gw_df, how='inner', left_on='FIPS', right_on='GEOID')\n",
    "df = df.drop(['GeoType', 'GEOID'], axis=1)"
   ]
  },
  {
   "cell_type": "code",
   "execution_count": 60,
   "metadata": {
    "scrolled": true
   },
   "outputs": [],
   "source": [
    "df = df.merge(rona_df, how='inner', left_on='FIPS', right_on='fips_code')\n",
    "df = df.drop(['fips_code'], axis=1)"
   ]
  },
  {
   "cell_type": "code",
   "execution_count": 61,
   "metadata": {},
   "outputs": [
    {
     "data": {
      "text/html": [
       "<div>\n",
       "<style scoped>\n",
       "    .dataframe tbody tr th:only-of-type {\n",
       "        vertical-align: middle;\n",
       "    }\n",
       "\n",
       "    .dataframe tbody tr th {\n",
       "        vertical-align: top;\n",
       "    }\n",
       "\n",
       "    .dataframe thead th {\n",
       "        text-align: right;\n",
       "    }\n",
       "</style>\n",
       "<table border=\"1\" class=\"dataframe\">\n",
       "  <thead>\n",
       "    <tr style=\"text-align: right;\">\n",
       "      <th></th>\n",
       "      <th>State Abbr</th>\n",
       "      <th>Population</th>\n",
       "      <th>Cases</th>\n",
       "      <th>Deaths</th>\n",
       "      <th>Mask-Never</th>\n",
       "      <th>Mask-Rarely</th>\n",
       "      <th>Mask-Sometimes</th>\n",
       "      <th>Mask-Frequent</th>\n",
       "      <th>Mask-Always</th>\n",
       "      <th>GW-Happening</th>\n",
       "      <th>GW-Not-Happening</th>\n",
       "      <th>GW-Human-Caused</th>\n",
       "      <th>GW-Not-Human-Caused</th>\n",
       "      <th>Cases Per 100k</th>\n",
       "      <th>Deaths Per 100k</th>\n",
       "    </tr>\n",
       "  </thead>\n",
       "  <tbody>\n",
       "    <tr>\n",
       "      <th>0</th>\n",
       "      <td>AK</td>\n",
       "      <td>714912</td>\n",
       "      <td>11940</td>\n",
       "      <td>67</td>\n",
       "      <td>0.055522</td>\n",
       "      <td>0.059522</td>\n",
       "      <td>0.081913</td>\n",
       "      <td>0.319304</td>\n",
       "      <td>0.483609</td>\n",
       "      <td>72.872261</td>\n",
       "      <td>11.300739</td>\n",
       "      <td>58.635913</td>\n",
       "      <td>29.760043</td>\n",
       "      <td>1276.441739</td>\n",
       "      <td>4.209130</td>\n",
       "    </tr>\n",
       "    <tr>\n",
       "      <th>1</th>\n",
       "      <td>AL</td>\n",
       "      <td>4864680</td>\n",
       "      <td>183276</td>\n",
       "      <td>2866</td>\n",
       "      <td>0.081567</td>\n",
       "      <td>0.081090</td>\n",
       "      <td>0.146612</td>\n",
       "      <td>0.215343</td>\n",
       "      <td>0.475313</td>\n",
       "      <td>61.374030</td>\n",
       "      <td>15.689060</td>\n",
       "      <td>48.144910</td>\n",
       "      <td>40.633254</td>\n",
       "      <td>4015.786418</td>\n",
       "      <td>78.614925</td>\n",
       "    </tr>\n",
       "    <tr>\n",
       "      <th>2</th>\n",
       "      <td>AR</td>\n",
       "      <td>2990671</td>\n",
       "      <td>101993</td>\n",
       "      <td>1782</td>\n",
       "      <td>0.090920</td>\n",
       "      <td>0.087253</td>\n",
       "      <td>0.138360</td>\n",
       "      <td>0.220627</td>\n",
       "      <td>0.462867</td>\n",
       "      <td>63.719840</td>\n",
       "      <td>15.902413</td>\n",
       "      <td>48.793080</td>\n",
       "      <td>38.624640</td>\n",
       "      <td>3490.354800</td>\n",
       "      <td>69.696000</td>\n",
       "    </tr>\n",
       "    <tr>\n",
       "      <th>3</th>\n",
       "      <td>AZ</td>\n",
       "      <td>6946685</td>\n",
       "      <td>235881</td>\n",
       "      <td>5864</td>\n",
       "      <td>0.049667</td>\n",
       "      <td>0.053200</td>\n",
       "      <td>0.094667</td>\n",
       "      <td>0.147333</td>\n",
       "      <td>0.655000</td>\n",
       "      <td>68.731667</td>\n",
       "      <td>13.842467</td>\n",
       "      <td>54.393600</td>\n",
       "      <td>33.207133</td>\n",
       "      <td>3454.823333</td>\n",
       "      <td>104.264000</td>\n",
       "    </tr>\n",
       "    <tr>\n",
       "      <th>4</th>\n",
       "      <td>CA</td>\n",
       "      <td>39148760</td>\n",
       "      <td>899799</td>\n",
       "      <td>17317</td>\n",
       "      <td>0.032310</td>\n",
       "      <td>0.030724</td>\n",
       "      <td>0.063690</td>\n",
       "      <td>0.158603</td>\n",
       "      <td>0.714638</td>\n",
       "      <td>74.108759</td>\n",
       "      <td>10.693552</td>\n",
       "      <td>59.426362</td>\n",
       "      <td>29.754983</td>\n",
       "      <td>1807.263793</td>\n",
       "      <td>28.753103</td>\n",
       "    </tr>\n",
       "  </tbody>\n",
       "</table>\n",
       "</div>"
      ],
      "text/plain": [
       "  State Abbr  Population   Cases  Deaths  Mask-Never  Mask-Rarely  \\\n",
       "0         AK      714912   11940      67    0.055522     0.059522   \n",
       "1         AL     4864680  183276    2866    0.081567     0.081090   \n",
       "2         AR     2990671  101993    1782    0.090920     0.087253   \n",
       "3         AZ     6946685  235881    5864    0.049667     0.053200   \n",
       "4         CA    39148760  899799   17317    0.032310     0.030724   \n",
       "\n",
       "   Mask-Sometimes  Mask-Frequent  Mask-Always  GW-Happening  GW-Not-Happening  \\\n",
       "0        0.081913       0.319304     0.483609     72.872261         11.300739   \n",
       "1        0.146612       0.215343     0.475313     61.374030         15.689060   \n",
       "2        0.138360       0.220627     0.462867     63.719840         15.902413   \n",
       "3        0.094667       0.147333     0.655000     68.731667         13.842467   \n",
       "4        0.063690       0.158603     0.714638     74.108759         10.693552   \n",
       "\n",
       "   GW-Human-Caused  GW-Not-Human-Caused  Cases Per 100k  Deaths Per 100k  \n",
       "0        58.635913            29.760043     1276.441739         4.209130  \n",
       "1        48.144910            40.633254     4015.786418        78.614925  \n",
       "2        48.793080            38.624640     3490.354800        69.696000  \n",
       "3        54.393600            33.207133     3454.823333       104.264000  \n",
       "4        59.426362            29.754983     1807.263793        28.753103  "
      ]
     },
     "execution_count": 61,
     "metadata": {},
     "output_type": "execute_result"
    }
   ],
   "source": [
    "states_gp = df.groupby('State Abbr')\n",
    "states_df = states_gp[['Population', 'Cases', 'Deaths']].sum()\n",
    "states_df[['Mask-Never', 'Mask-Rarely', 'Mask-Sometimes', 'Mask-Frequent', 'Mask-Always', 'GW-Happening', 'GW-Not-Happening', 'GW-Human-Caused', 'GW-Not-Human-Caused', 'Cases Per 100k', 'Deaths Per 100k']] = states_gp[['Mask-Never', 'Mask-Rarely', 'Mask-Sometimes', 'Mask-Frequent', 'Mask-Always', 'GW-Happening', 'GW-Not-Happening', 'GW-Human-Caused', 'GW-Not-Human-Caused', 'Cases Per 100k', 'Deaths Per 100k']].mean()\n",
    "states_df = states_df.reset_index()\n",
    "\n",
    "states_df.head(5)"
   ]
  },
  {
   "cell_type": "code",
   "execution_count": 76,
   "metadata": {},
   "outputs": [],
   "source": [
    "def create_scatter(x_values, y_values, title, xlabel, ylabel):\n",
    "    plt.scatter(x_values, y_values)\n",
    "    plt.title(title)\n",
    "    plt.xlabel(xlabel)\n",
    "    plt.ylabel(ylabel)\n",
    "    slope, intercept, r_value, p_value, std_err = sts.linregress(x_values, y_values)\n",
    "    plt.plot(x_values, x_values * slope + intercept)\n",
    "    print(f\"r-squared: {round(r_value ** 2, 3)}\")"
   ]
  },
  {
   "cell_type": "code",
   "execution_count": 77,
   "metadata": {},
   "outputs": [
    {
     "name": "stdout",
     "output_type": "stream",
     "text": [
      "r-squared: 0.066\n"
     ]
    },
    {
     "data": {
      "image/png": "[encoded data removed]",
      "text/plain": [
       "<Figure size 432x288 with 1 Axes>"
      ]
     },
     "metadata": {
      "needs_background": "light"
     },
     "output_type": "display_data"
    }
   ],
   "source": [
    "gw_skeptic = states_df['GW-Not-Happening']\n",
    "create_scatter(gw_skeptic, states_df['Cases Per 100k'], 'Views on Global Warming vs Cases', 'Percent who do not believe in global warming', 'Cases per 100,000')"
   ]
  },
  {
   "cell_type": "code",
   "execution_count": 78,
   "metadata": {},
   "outputs": [
    {
     "name": "stdout",
     "output_type": "stream",
     "text": [
      "r-squared: 0.183\n"
     ]
    },
    {
     "data": {
      "image/png": "[encoded data removed]",
      "text/plain": [
       "<Figure size 432x288 with 1 Axes>"
      ]
     },
     "metadata": {
      "needs_background": "light"
     },
     "output_type": "display_data"
    }
   ],
   "source": [
    "mask_skeptic = 100 * (states_df['Mask-Never'] + states_df['Mask-Rarely'])\n",
    "create_scatter(mask_skeptic, states_df['Cases Per 100k'], 'Mask Wearing vs Cases', 'Percent who rarely wear masks', 'Cases per 100,000')"
   ]
  },
  {
   "cell_type": "code",
   "execution_count": null,
   "metadata": {},
   "outputs": [],
   "source": []
  }
 ],
 "metadata": {
  "kernelspec": {
   "display_name": "Python [conda env:PythonData] *",
   "language": "python",
   "name": "conda-env-PythonData-py"
  },
  "language_info": {
   "codemirror_mode": {
    "name": "ipython",
    "version": 3
   },
   "file_extension": ".py",
   "mimetype": "text/x-python",
   "name": "python",
   "nbconvert_exporter": "python",
   "pygments_lexer": "ipython3",
   "version": "3.6.10"
  }
 },
 "nbformat": 4,
 "nbformat_minor": 4
}
