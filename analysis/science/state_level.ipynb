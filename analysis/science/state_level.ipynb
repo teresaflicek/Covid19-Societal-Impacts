{
 "cells": [
  {
   "cell_type": "code",
   "execution_count": 1,
   "metadata": {},
   "outputs": [],
   "source": [
    "import pandas as pd\n",
    "import pprint as pp\n",
    "import numpy as np\n",
    "import matplotlib.pyplot as plt\n",
    "import scipy.stats as sts"
   ]
  },
  {
   "cell_type": "code",
   "execution_count": 2,
   "metadata": {},
   "outputs": [],
   "source": [
    "data_path = \"../../resources/science-data/\"\n",
    "gw_df = pd.read_csv(data_path + \"global_warming.csv\")\n",
    "gw_meta_df = pd.read_csv(data_path + \"global_warming_meta.csv\")\n",
    "fips_df = pd.read_csv(data_path + \"fips_state.csv\")\n",
    "mask_df = pd.read_csv(data_path + \"mask-use-by-county.csv\")\n",
    "rona_df = pd.read_csv(data_path + \"jh_cases_deaths.csv\")"
   ]
  },
  {
   "cell_type": "code",
   "execution_count": 3,
   "metadata": {},
   "outputs": [
    {
     "data": {
      "text/html": [
       "<div>\n",
       "<style scoped>\n",
       "    .dataframe tbody tr th:only-of-type {\n",
       "        vertical-align: middle;\n",
       "    }\n",
       "\n",
       "    .dataframe tbody tr th {\n",
       "        vertical-align: top;\n",
       "    }\n",
       "\n",
       "    .dataframe thead th {\n",
       "        text-align: right;\n",
       "    }\n",
       "</style>\n",
       "<table border=\"1\" class=\"dataframe\">\n",
       "  <thead>\n",
       "    <tr style=\"text-align: right;\">\n",
       "      <th></th>\n",
       "      <th>GeoType</th>\n",
       "      <th>GEOID</th>\n",
       "      <th>GW-Happening</th>\n",
       "      <th>GW-Not-Happening</th>\n",
       "      <th>GW-Human-Caused</th>\n",
       "      <th>GW-Not-Human-Caused</th>\n",
       "    </tr>\n",
       "  </thead>\n",
       "  <tbody>\n",
       "    <tr>\n",
       "      <th>1</th>\n",
       "      <td>State</td>\n",
       "      <td>1</td>\n",
       "      <td>63.347</td>\n",
       "      <td>14.144</td>\n",
       "      <td>50.909</td>\n",
       "      <td>37.789</td>\n",
       "    </tr>\n",
       "    <tr>\n",
       "      <th>2</th>\n",
       "      <td>State</td>\n",
       "      <td>2</td>\n",
       "      <td>70.159</td>\n",
       "      <td>13.810</td>\n",
       "      <td>53.769</td>\n",
       "      <td>35.449</td>\n",
       "    </tr>\n",
       "    <tr>\n",
       "      <th>3</th>\n",
       "      <td>State</td>\n",
       "      <td>4</td>\n",
       "      <td>70.853</td>\n",
       "      <td>12.796</td>\n",
       "      <td>56.019</td>\n",
       "      <td>33.452</td>\n",
       "    </tr>\n",
       "    <tr>\n",
       "      <th>4</th>\n",
       "      <td>State</td>\n",
       "      <td>5</td>\n",
       "      <td>65.637</td>\n",
       "      <td>14.500</td>\n",
       "      <td>52.163</td>\n",
       "      <td>36.722</td>\n",
       "    </tr>\n",
       "    <tr>\n",
       "      <th>5</th>\n",
       "      <td>State</td>\n",
       "      <td>6</td>\n",
       "      <td>77.228</td>\n",
       "      <td>8.262</td>\n",
       "      <td>63.753</td>\n",
       "      <td>26.735</td>\n",
       "    </tr>\n",
       "  </tbody>\n",
       "</table>\n",
       "</div>"
      ],
      "text/plain": [
       "  GeoType  GEOID  GW-Happening  GW-Not-Happening  GW-Human-Caused  \\\n",
       "1   State      1        63.347            14.144           50.909   \n",
       "2   State      2        70.159            13.810           53.769   \n",
       "3   State      4        70.853            12.796           56.019   \n",
       "4   State      5        65.637            14.500           52.163   \n",
       "5   State      6        77.228             8.262           63.753   \n",
       "\n",
       "   GW-Not-Human-Caused  \n",
       "1               37.789  \n",
       "2               35.449  \n",
       "3               33.452  \n",
       "4               36.722  \n",
       "5               26.735  "
      ]
     },
     "execution_count": 3,
     "metadata": {},
     "output_type": "execute_result"
    }
   ],
   "source": [
    "# happening = gw_df[['']]\n",
    "gw_df = gw_df.groupby('GeoType').get_group('State')\n",
    "gw_df = gw_df[['GeoType', 'GEOID', 'happening', 'happeningOppose', 'human', 'humanOppose']]\n",
    "gw_df = gw_df.rename(columns={'happening': 'GW-Happening', 'happeningOppose': 'GW-Not-Happening', 'human': 'GW-Human-Caused', 'humanOppose': 'GW-Not-Human-Caused'})\n",
    "gw_df.head()"
   ]
  },
  {
   "cell_type": "code",
   "execution_count": 135,
   "metadata": {
    "scrolled": true
   },
   "outputs": [
    {
     "data": {
      "text/html": [
       "<div>\n",
       "<style scoped>\n",
       "    .dataframe tbody tr th:only-of-type {\n",
       "        vertical-align: middle;\n",
       "    }\n",
       "\n",
       "    .dataframe tbody tr th {\n",
       "        vertical-align: top;\n",
       "    }\n",
       "\n",
       "    .dataframe thead th {\n",
       "        text-align: right;\n",
       "    }\n",
       "</style>\n",
       "<table border=\"1\" class=\"dataframe\">\n",
       "  <thead>\n",
       "    <tr style=\"text-align: right;\">\n",
       "      <th></th>\n",
       "      <th>County</th>\n",
       "      <th>Mask-Never</th>\n",
       "      <th>Mask-Rarely</th>\n",
       "      <th>Mask-Sometimes</th>\n",
       "      <th>Mask-Frequent</th>\n",
       "      <th>Mask-Always</th>\n",
       "    </tr>\n",
       "  </thead>\n",
       "  <tbody>\n",
       "    <tr>\n",
       "      <th>0</th>\n",
       "      <td>1001</td>\n",
       "      <td>0.053</td>\n",
       "      <td>0.074</td>\n",
       "      <td>0.134</td>\n",
       "      <td>0.295</td>\n",
       "      <td>0.444</td>\n",
       "    </tr>\n",
       "    <tr>\n",
       "      <th>1</th>\n",
       "      <td>1003</td>\n",
       "      <td>0.083</td>\n",
       "      <td>0.059</td>\n",
       "      <td>0.098</td>\n",
       "      <td>0.323</td>\n",
       "      <td>0.436</td>\n",
       "    </tr>\n",
       "    <tr>\n",
       "      <th>2</th>\n",
       "      <td>1005</td>\n",
       "      <td>0.067</td>\n",
       "      <td>0.121</td>\n",
       "      <td>0.120</td>\n",
       "      <td>0.201</td>\n",
       "      <td>0.491</td>\n",
       "    </tr>\n",
       "    <tr>\n",
       "      <th>3</th>\n",
       "      <td>1007</td>\n",
       "      <td>0.020</td>\n",
       "      <td>0.034</td>\n",
       "      <td>0.096</td>\n",
       "      <td>0.278</td>\n",
       "      <td>0.572</td>\n",
       "    </tr>\n",
       "    <tr>\n",
       "      <th>4</th>\n",
       "      <td>1009</td>\n",
       "      <td>0.053</td>\n",
       "      <td>0.114</td>\n",
       "      <td>0.180</td>\n",
       "      <td>0.194</td>\n",
       "      <td>0.459</td>\n",
       "    </tr>\n",
       "  </tbody>\n",
       "</table>\n",
       "</div>"
      ],
      "text/plain": [
       "   County  Mask-Never  Mask-Rarely  Mask-Sometimes  Mask-Frequent  Mask-Always\n",
       "0    1001       0.053        0.074           0.134          0.295        0.444\n",
       "1    1003       0.083        0.059           0.098          0.323        0.436\n",
       "2    1005       0.067        0.121           0.120          0.201        0.491\n",
       "3    1007       0.020        0.034           0.096          0.278        0.572\n",
       "4    1009       0.053        0.114           0.180          0.194        0.459"
      ]
     },
     "execution_count": 135,
     "metadata": {},
     "output_type": "execute_result"
    }
   ],
   "source": [
    "mask_df = mask_df.rename(columns={'COUNTYFP': 'County', 'NEVER': 'Mask-Never', 'RARELY': 'Mask-Rarely', 'SOMETIMES': 'Mask-Sometimes', 'FREQUENTLY': 'Mask-Frequent', 'ALWAYS': 'Mask-Always'})\n",
    "mask_df.head()"
   ]
  },
  {
   "cell_type": "code",
   "execution_count": 137,
   "metadata": {},
   "outputs": [],
   "source": [
    "rona_df = rona_df[['fips_code', 'total_population', 'confirmed', 'confirmed_per_100000', 'deaths', 'deaths_per_100000']]\n",
    "rona_df = rona_df.rename(columns={'total_population': 'Population', 'confirmed': 'Cases', 'confirmed_per_100000': 'Cases Per 100k', 'deaths': 'Deaths', 'deaths_per_100000': 'Deaths Per 100k' })"
   ]
  },
  {
   "cell_type": "code",
   "execution_count": 192,
   "metadata": {},
   "outputs": [],
   "source": [
    "rona_df = rona_df.dropna(subset=['fips_code', 'Population'])\n",
    "rona_df['fips_code'] = rona_df['fips_code'].astype('int32')\n",
    "rona_df['Population'] = rona_df['Population'].astype('int32')"
   ]
  },
  {
   "cell_type": "code",
   "execution_count": 193,
   "metadata": {},
   "outputs": [
    {
     "data": {
      "text/html": [
       "<div>\n",
       "<style scoped>\n",
       "    .dataframe tbody tr th:only-of-type {\n",
       "        vertical-align: middle;\n",
       "    }\n",
       "\n",
       "    .dataframe tbody tr th {\n",
       "        vertical-align: top;\n",
       "    }\n",
       "\n",
       "    .dataframe thead th {\n",
       "        text-align: right;\n",
       "    }\n",
       "</style>\n",
       "<table border=\"1\" class=\"dataframe\">\n",
       "  <thead>\n",
       "    <tr style=\"text-align: right;\">\n",
       "      <th></th>\n",
       "      <th>fips_code</th>\n",
       "      <th>Population</th>\n",
       "      <th>Cases</th>\n",
       "      <th>Cases Per 100k</th>\n",
       "      <th>Deaths</th>\n",
       "      <th>Deaths Per 100k</th>\n",
       "    </tr>\n",
       "  </thead>\n",
       "  <tbody>\n",
       "    <tr>\n",
       "      <th>0</th>\n",
       "      <td>1001</td>\n",
       "      <td>55200</td>\n",
       "      <td>2048</td>\n",
       "      <td>3710.14</td>\n",
       "      <td>31</td>\n",
       "      <td>56.16</td>\n",
       "    </tr>\n",
       "    <tr>\n",
       "      <th>1</th>\n",
       "      <td>1003</td>\n",
       "      <td>208107</td>\n",
       "      <td>6637</td>\n",
       "      <td>3189.22</td>\n",
       "      <td>69</td>\n",
       "      <td>33.16</td>\n",
       "    </tr>\n",
       "    <tr>\n",
       "      <th>2</th>\n",
       "      <td>1005</td>\n",
       "      <td>25782</td>\n",
       "      <td>1031</td>\n",
       "      <td>3998.91</td>\n",
       "      <td>9</td>\n",
       "      <td>34.91</td>\n",
       "    </tr>\n",
       "    <tr>\n",
       "      <th>3</th>\n",
       "      <td>1007</td>\n",
       "      <td>22527</td>\n",
       "      <td>828</td>\n",
       "      <td>3675.59</td>\n",
       "      <td>14</td>\n",
       "      <td>62.15</td>\n",
       "    </tr>\n",
       "    <tr>\n",
       "      <th>4</th>\n",
       "      <td>1009</td>\n",
       "      <td>57645</td>\n",
       "      <td>1925</td>\n",
       "      <td>3339.40</td>\n",
       "      <td>25</td>\n",
       "      <td>43.37</td>\n",
       "    </tr>\n",
       "  </tbody>\n",
       "</table>\n",
       "</div>"
      ],
      "text/plain": [
       "   fips_code  Population  Cases  Cases Per 100k  Deaths  Deaths Per 100k\n",
       "0       1001       55200   2048         3710.14      31            56.16\n",
       "1       1003      208107   6637         3189.22      69            33.16\n",
       "2       1005       25782   1031         3998.91       9            34.91\n",
       "3       1007       22527    828         3675.59      14            62.15\n",
       "4       1009       57645   1925         3339.40      25            43.37"
      ]
     },
     "execution_count": 193,
     "metadata": {},
     "output_type": "execute_result"
    }
   ],
   "source": [
    "rona_df.head()"
   ]
  },
  {
   "cell_type": "code",
   "execution_count": 140,
   "metadata": {
    "scrolled": true
   },
   "outputs": [
    {
     "data": {
      "text/html": [
       "<div>\n",
       "<style scoped>\n",
       "    .dataframe tbody tr th:only-of-type {\n",
       "        vertical-align: middle;\n",
       "    }\n",
       "\n",
       "    .dataframe tbody tr th {\n",
       "        vertical-align: top;\n",
       "    }\n",
       "\n",
       "    .dataframe thead th {\n",
       "        text-align: right;\n",
       "    }\n",
       "</style>\n",
       "<table border=\"1\" class=\"dataframe\">\n",
       "  <thead>\n",
       "    <tr style=\"text-align: right;\">\n",
       "      <th></th>\n",
       "      <th>County</th>\n",
       "      <th>Mask-Never</th>\n",
       "      <th>Mask-Rarely</th>\n",
       "      <th>Mask-Sometimes</th>\n",
       "      <th>Mask-Frequent</th>\n",
       "      <th>Mask-Always</th>\n",
       "      <th>GW-Happening</th>\n",
       "      <th>GW-Not-Happening</th>\n",
       "      <th>GW-Human-Caused</th>\n",
       "      <th>GW-Not-Human-Caused</th>\n",
       "    </tr>\n",
       "  </thead>\n",
       "  <tbody>\n",
       "    <tr>\n",
       "      <th>0</th>\n",
       "      <td>1001</td>\n",
       "      <td>0.053</td>\n",
       "      <td>0.074</td>\n",
       "      <td>0.134</td>\n",
       "      <td>0.295</td>\n",
       "      <td>0.444</td>\n",
       "      <td>58.925</td>\n",
       "      <td>17.910</td>\n",
       "      <td>46.619</td>\n",
       "      <td>41.905</td>\n",
       "    </tr>\n",
       "    <tr>\n",
       "      <th>1</th>\n",
       "      <td>1003</td>\n",
       "      <td>0.083</td>\n",
       "      <td>0.059</td>\n",
       "      <td>0.098</td>\n",
       "      <td>0.323</td>\n",
       "      <td>0.436</td>\n",
       "      <td>60.590</td>\n",
       "      <td>19.028</td>\n",
       "      <td>46.056</td>\n",
       "      <td>41.122</td>\n",
       "    </tr>\n",
       "    <tr>\n",
       "      <th>2</th>\n",
       "      <td>1005</td>\n",
       "      <td>0.067</td>\n",
       "      <td>0.121</td>\n",
       "      <td>0.120</td>\n",
       "      <td>0.201</td>\n",
       "      <td>0.491</td>\n",
       "      <td>66.975</td>\n",
       "      <td>10.476</td>\n",
       "      <td>51.662</td>\n",
       "      <td>38.378</td>\n",
       "    </tr>\n",
       "    <tr>\n",
       "      <th>3</th>\n",
       "      <td>1007</td>\n",
       "      <td>0.020</td>\n",
       "      <td>0.034</td>\n",
       "      <td>0.096</td>\n",
       "      <td>0.278</td>\n",
       "      <td>0.572</td>\n",
       "      <td>57.679</td>\n",
       "      <td>18.117</td>\n",
       "      <td>44.925</td>\n",
       "      <td>43.474</td>\n",
       "    </tr>\n",
       "    <tr>\n",
       "      <th>4</th>\n",
       "      <td>1009</td>\n",
       "      <td>0.053</td>\n",
       "      <td>0.114</td>\n",
       "      <td>0.180</td>\n",
       "      <td>0.194</td>\n",
       "      <td>0.459</td>\n",
       "      <td>52.372</td>\n",
       "      <td>23.976</td>\n",
       "      <td>43.147</td>\n",
       "      <td>43.863</td>\n",
       "    </tr>\n",
       "  </tbody>\n",
       "</table>\n",
       "</div>"
      ],
      "text/plain": [
       "   County  Mask-Never  Mask-Rarely  Mask-Sometimes  Mask-Frequent  \\\n",
       "0    1001       0.053        0.074           0.134          0.295   \n",
       "1    1003       0.083        0.059           0.098          0.323   \n",
       "2    1005       0.067        0.121           0.120          0.201   \n",
       "3    1007       0.020        0.034           0.096          0.278   \n",
       "4    1009       0.053        0.114           0.180          0.194   \n",
       "\n",
       "   Mask-Always  GW-Happening  GW-Not-Happening  GW-Human-Caused  \\\n",
       "0        0.444        58.925            17.910           46.619   \n",
       "1        0.436        60.590            19.028           46.056   \n",
       "2        0.491        66.975            10.476           51.662   \n",
       "3        0.572        57.679            18.117           44.925   \n",
       "4        0.459        52.372            23.976           43.147   \n",
       "\n",
       "   GW-Not-Human-Caused  \n",
       "0               41.905  \n",
       "1               41.122  \n",
       "2               38.378  \n",
       "3               43.474  \n",
       "4               43.863  "
      ]
     },
     "execution_count": 140,
     "metadata": {},
     "output_type": "execute_result"
    }
   ],
   "source": [
    "df = mask_df.merge(gw_df, how='inner', left_on='County', right_on='GEOID')\n",
    "df = df.drop(['GeoType', 'GEOID'], axis=1)\n",
    "df.head()"
   ]
  },
  {
   "cell_type": "code",
   "execution_count": 141,
   "metadata": {
    "scrolled": true
   },
   "outputs": [
    {
     "data": {
      "text/html": [
       "<div>\n",
       "<style scoped>\n",
       "    .dataframe tbody tr th:only-of-type {\n",
       "        vertical-align: middle;\n",
       "    }\n",
       "\n",
       "    .dataframe tbody tr th {\n",
       "        vertical-align: top;\n",
       "    }\n",
       "\n",
       "    .dataframe thead th {\n",
       "        text-align: right;\n",
       "    }\n",
       "</style>\n",
       "<table border=\"1\" class=\"dataframe\">\n",
       "  <thead>\n",
       "    <tr style=\"text-align: right;\">\n",
       "      <th></th>\n",
       "      <th>County</th>\n",
       "      <th>Mask-Never</th>\n",
       "      <th>Mask-Rarely</th>\n",
       "      <th>Mask-Sometimes</th>\n",
       "      <th>Mask-Frequent</th>\n",
       "      <th>Mask-Always</th>\n",
       "      <th>GW-Happening</th>\n",
       "      <th>GW-Not-Happening</th>\n",
       "      <th>GW-Human-Caused</th>\n",
       "      <th>GW-Not-Human-Caused</th>\n",
       "      <th>fips_code</th>\n",
       "      <th>Population</th>\n",
       "      <th>Cases</th>\n",
       "      <th>Cases Per 100k</th>\n",
       "      <th>Deaths</th>\n",
       "      <th>Deaths Per 100k</th>\n",
       "    </tr>\n",
       "  </thead>\n",
       "  <tbody>\n",
       "    <tr>\n",
       "      <th>0</th>\n",
       "      <td>1001</td>\n",
       "      <td>0.053</td>\n",
       "      <td>0.074</td>\n",
       "      <td>0.134</td>\n",
       "      <td>0.295</td>\n",
       "      <td>0.444</td>\n",
       "      <td>58.925</td>\n",
       "      <td>17.910</td>\n",
       "      <td>46.619</td>\n",
       "      <td>41.905</td>\n",
       "      <td>1001</td>\n",
       "      <td>55200.0</td>\n",
       "      <td>2048</td>\n",
       "      <td>3710.14</td>\n",
       "      <td>31</td>\n",
       "      <td>56.16</td>\n",
       "    </tr>\n",
       "    <tr>\n",
       "      <th>1</th>\n",
       "      <td>1003</td>\n",
       "      <td>0.083</td>\n",
       "      <td>0.059</td>\n",
       "      <td>0.098</td>\n",
       "      <td>0.323</td>\n",
       "      <td>0.436</td>\n",
       "      <td>60.590</td>\n",
       "      <td>19.028</td>\n",
       "      <td>46.056</td>\n",
       "      <td>41.122</td>\n",
       "      <td>1003</td>\n",
       "      <td>208107.0</td>\n",
       "      <td>6637</td>\n",
       "      <td>3189.22</td>\n",
       "      <td>69</td>\n",
       "      <td>33.16</td>\n",
       "    </tr>\n",
       "    <tr>\n",
       "      <th>2</th>\n",
       "      <td>1005</td>\n",
       "      <td>0.067</td>\n",
       "      <td>0.121</td>\n",
       "      <td>0.120</td>\n",
       "      <td>0.201</td>\n",
       "      <td>0.491</td>\n",
       "      <td>66.975</td>\n",
       "      <td>10.476</td>\n",
       "      <td>51.662</td>\n",
       "      <td>38.378</td>\n",
       "      <td>1005</td>\n",
       "      <td>25782.0</td>\n",
       "      <td>1031</td>\n",
       "      <td>3998.91</td>\n",
       "      <td>9</td>\n",
       "      <td>34.91</td>\n",
       "    </tr>\n",
       "    <tr>\n",
       "      <th>3</th>\n",
       "      <td>1007</td>\n",
       "      <td>0.020</td>\n",
       "      <td>0.034</td>\n",
       "      <td>0.096</td>\n",
       "      <td>0.278</td>\n",
       "      <td>0.572</td>\n",
       "      <td>57.679</td>\n",
       "      <td>18.117</td>\n",
       "      <td>44.925</td>\n",
       "      <td>43.474</td>\n",
       "      <td>1007</td>\n",
       "      <td>22527.0</td>\n",
       "      <td>828</td>\n",
       "      <td>3675.59</td>\n",
       "      <td>14</td>\n",
       "      <td>62.15</td>\n",
       "    </tr>\n",
       "    <tr>\n",
       "      <th>4</th>\n",
       "      <td>1009</td>\n",
       "      <td>0.053</td>\n",
       "      <td>0.114</td>\n",
       "      <td>0.180</td>\n",
       "      <td>0.194</td>\n",
       "      <td>0.459</td>\n",
       "      <td>52.372</td>\n",
       "      <td>23.976</td>\n",
       "      <td>43.147</td>\n",
       "      <td>43.863</td>\n",
       "      <td>1009</td>\n",
       "      <td>57645.0</td>\n",
       "      <td>1925</td>\n",
       "      <td>3339.40</td>\n",
       "      <td>25</td>\n",
       "      <td>43.37</td>\n",
       "    </tr>\n",
       "  </tbody>\n",
       "</table>\n",
       "</div>"
      ],
      "text/plain": [
       "   County  Mask-Never  Mask-Rarely  Mask-Sometimes  Mask-Frequent  \\\n",
       "0    1001       0.053        0.074           0.134          0.295   \n",
       "1    1003       0.083        0.059           0.098          0.323   \n",
       "2    1005       0.067        0.121           0.120          0.201   \n",
       "3    1007       0.020        0.034           0.096          0.278   \n",
       "4    1009       0.053        0.114           0.180          0.194   \n",
       "\n",
       "   Mask-Always  GW-Happening  GW-Not-Happening  GW-Human-Caused  \\\n",
       "0        0.444        58.925            17.910           46.619   \n",
       "1        0.436        60.590            19.028           46.056   \n",
       "2        0.491        66.975            10.476           51.662   \n",
       "3        0.572        57.679            18.117           44.925   \n",
       "4        0.459        52.372            23.976           43.147   \n",
       "\n",
       "   GW-Not-Human-Caused  fips_code  Population  Cases  Cases Per 100k  Deaths  \\\n",
       "0               41.905       1001     55200.0   2048         3710.14      31   \n",
       "1               41.122       1003    208107.0   6637         3189.22      69   \n",
       "2               38.378       1005     25782.0   1031         3998.91       9   \n",
       "3               43.474       1007     22527.0    828         3675.59      14   \n",
       "4               43.863       1009     57645.0   1925         3339.40      25   \n",
       "\n",
       "   Deaths Per 100k  \n",
       "0            56.16  \n",
       "1            33.16  \n",
       "2            34.91  \n",
       "3            62.15  \n",
       "4            43.37  "
      ]
     },
     "execution_count": 141,
     "metadata": {},
     "output_type": "execute_result"
    }
   ],
   "source": [
    "df = df.merge(rona_df, how='inner', left_on='County', right_on='fips_code')\n",
    "df.head()"
   ]
  },
  {
   "cell_type": "code",
   "execution_count": 195,
   "metadata": {
    "scrolled": true
   },
   "outputs": [
    {
     "data": {
      "image/png": "[encoded data removed]",
      "text/plain": [
       "<Figure size 432x288 with 1 Axes>"
      ]
     },
     "metadata": {
      "needs_background": "light"
     },
     "output_type": "display_data"
    }
   ],
   "source": [
    "min_pop = df['Population'].min()\n",
    "max_pop = df['Population'].max()\n",
    "bins = [bin * 10000 for bin in np.arange(11)]\n",
    "plt.hist(df['Population'], bins)\n",
    "plt.show()"
   ]
  },
  {
   "cell_type": "code",
   "execution_count": 204,
   "metadata": {},
   "outputs": [
    {
     "data": {
      "text/plain": [
       "count    3.116000e+03\n",
       "mean     1.033474e+05\n",
       "std      3.311807e+05\n",
       "min      1.020000e+02\n",
       "25%      1.103275e+04\n",
       "50%      2.585650e+04\n",
       "75%      6.822400e+04\n",
       "max      1.009805e+07\n",
       "Name: Population, dtype: float64"
      ]
     },
     "execution_count": 204,
     "metadata": {},
     "output_type": "execute_result"
    }
   ],
   "source": [
    "df['Population'].describe()"
   ]
  },
  {
   "cell_type": "code",
   "execution_count": 205,
   "metadata": {},
   "outputs": [],
   "source": [
    "pop_df = df.loc[(df['Population'] <= df['Population'].quantile(0.75)) & (df['Population'] >= df['Population'].quantile(0.25))]\n",
    "mask_skeptic = 100 * (pop_df['Mask-Never'] + pop_df['Mask-Rarely'])\n",
    "gw_skeptic = 100 * pop_df['GW-Not-Happening']\n",
    "got_rona = pop_df['Cases']"
   ]
  },
  {
   "cell_type": "code",
   "execution_count": 206,
   "metadata": {},
   "outputs": [
    {
     "data": {
      "text/html": [
       "<div>\n",
       "<style scoped>\n",
       "    .dataframe tbody tr th:only-of-type {\n",
       "        vertical-align: middle;\n",
       "    }\n",
       "\n",
       "    .dataframe tbody tr th {\n",
       "        vertical-align: top;\n",
       "    }\n",
       "\n",
       "    .dataframe thead th {\n",
       "        text-align: right;\n",
       "    }\n",
       "</style>\n",
       "<table border=\"1\" class=\"dataframe\">\n",
       "  <thead>\n",
       "    <tr style=\"text-align: right;\">\n",
       "      <th></th>\n",
       "      <th>Population</th>\n",
       "      <th>Cases</th>\n",
       "    </tr>\n",
       "  </thead>\n",
       "  <tbody>\n",
       "    <tr>\n",
       "      <th>mean</th>\n",
       "      <td>29993</td>\n",
       "      <td>755</td>\n",
       "    </tr>\n",
       "    <tr>\n",
       "      <th>median</th>\n",
       "      <td>25856</td>\n",
       "      <td>593</td>\n",
       "    </tr>\n",
       "  </tbody>\n",
       "</table>\n",
       "</div>"
      ],
      "text/plain": [
       "        Population  Cases\n",
       "mean         29993    755\n",
       "median       25856    593"
      ]
     },
     "execution_count": 206,
     "metadata": {},
     "output_type": "execute_result"
    }
   ],
   "source": [
    "agg = pop_df.agg({'Population' : ['mean', 'median'], 'Cases' : ['mean', 'median']})\n",
    "agg['Population'] = agg['Population'].astype('int32')\n",
    "agg['Cases'] = agg['Cases'].astype('int32')\n",
    "agg"
   ]
  },
  {
   "cell_type": "code",
   "execution_count": 207,
   "metadata": {
    "scrolled": true
   },
   "outputs": [
    {
     "name": "stdout",
     "output_type": "stream",
     "text": [
      "r-squared: 0.017\n",
      "p-value: 2.2197640251090023e-07\n"
     ]
    },
    {
     "data": {
      "image/png": "[encoded data removed]",
      "text/plain": [
       "<Figure size 432x288 with 1 Axes>"
      ]
     },
     "metadata": {
      "needs_background": "light"
     },
     "output_type": "display_data"
    }
   ],
   "source": [
    "slope, intercept, r_value, p_value, std_err = sts.linregress(gw_skeptic, got_rona)\n",
    "plt.scatter(gw_skeptic, got_rona)\n",
    "print(f\"r-squared: {round(r_value ** 2, 3)}\")\n",
    "print(f\"p-value: {p_value}\")"
   ]
  },
  {
   "cell_type": "code",
   "execution_count": 208,
   "metadata": {},
   "outputs": [
    {
     "name": "stdout",
     "output_type": "stream",
     "text": [
      "r-squared: 0.005\n",
      "p-value: 0.0037860351340496183\n"
     ]
    },
    {
     "data": {
      "image/png": "[encoded data removed]",
      "text/plain": [
       "<Figure size 432x288 with 1 Axes>"
      ]
     },
     "metadata": {
      "needs_background": "light"
     },
     "output_type": "display_data"
    }
   ],
   "source": [
    "plt.scatter(mask_skeptic, got_rona)\n",
    "slope, intercept, r_value, p_value, std_err = sts.linregress(mask_skeptic, got_rona)\n",
    "print(f\"r-squared: {round(r_value ** 2, 3)}\")\n",
    "print(f\"p-value: {p_value}\")"
   ]
  },
  {
   "cell_type": "code",
   "execution_count": null,
   "metadata": {},
   "outputs": [],
   "source": []
  }
 ],
 "metadata": {
  "kernelspec": {
   "display_name": "Python [conda env:PythonData] *",
   "language": "python",
   "name": "conda-env-PythonData-py"
  },
  "language_info": {
   "codemirror_mode": {
    "name": "ipython",
    "version": 3
   },
   "file_extension": ".py",
   "mimetype": "text/x-python",
   "name": "python",
   "nbconvert_exporter": "python",
   "pygments_lexer": "ipython3",
   "version": "3.6.10"
  }
 },
 "nbformat": 4,
 "nbformat_minor": 4
}
