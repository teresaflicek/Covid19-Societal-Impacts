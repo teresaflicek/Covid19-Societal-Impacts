{
 "cells": [
  {
   "cell_type": "code",
   "execution_count": 11,
   "metadata": {},
   "outputs": [],
   "source": [
    "import matplotlib.pyplot as plt\n",
    "import pandas as pd\n",
    "import scipy.stats as st\n",
    "import numpy as np\n",
    "import csv\n",
    "\n",
    "\n",
    "\n",
    "covid_count = pd.read_csv(\"resources/Covid/3_cases_and_deaths_by_state_timeseries.csv\")\n",
    "state_covid = pd.read_csv(\"resources/Covid/CDPHE_COVID19_Daily_State_Statistics.csv\")\n",
    "demo_co = pd.read_csv(\"resources/Covid/covid19_cases_demographics_tests_2020-10-23.csv\")\n",
    "demo_usa = pd.read_csv(\"resources/Covid/covid_confirmed_usafacts.csv\")\n",
    "\n"
   ]
  },
  {
   "cell_type": "code",
   "execution_count": 12,
   "metadata": {},
   "outputs": [],
   "source": [
    "covid_count = pd.DataFrame(covid_count)\n",
    "state_covid = pd.DataFrame(state_covid)\n",
    "demo_co = pd.DataFrame(demo_co)\n",
    "demo_usa = pd.DataFrame(demo_usa)"
   ]
  },
  {
   "cell_type": "code",
   "execution_count": 15,
   "metadata": {},
   "outputs": [
    {
     "output_type": "execute_result",
     "data": {
      "text/plain": [
       "      state      date  total_population  cumulative_cases  \\\n",
       "0   Alabama  22-01-20         4887871.0                 0   \n",
       "1   Alabama  23-01-20         4887871.0                 0   \n",
       "2   Alabama  24-01-20         4887871.0                 0   \n",
       "3   Alabama  25-01-20         4887871.0                 0   \n",
       "4   Alabama  26-01-20         4887871.0                 0   \n",
       "..      ...       ...               ...               ...   \n",
       "70  Alabama  01-04-20         4887871.0              1060   \n",
       "71  Alabama  02-04-20         4887871.0              1233   \n",
       "72  Alabama  03-04-20         4887871.0              1495   \n",
       "73  Alabama  04-04-20         4887871.0              1614   \n",
       "74  Alabama  05-04-20         4887871.0              1765   \n",
       "\n",
       "    cumulative_cases_per_100_000  cumulative_deaths  \\\n",
       "0                           0.00                  0   \n",
       "1                           0.00                  0   \n",
       "2                           0.00                  0   \n",
       "3                           0.00                  0   \n",
       "4                           0.00                  0   \n",
       "..                           ...                ...   \n",
       "70                         21.69                 27   \n",
       "71                         25.23                 32   \n",
       "72                         30.59                 38   \n",
       "73                         33.02                 44   \n",
       "74                         36.11                 45   \n",
       "\n",
       "    cumulative_deaths_per_100_000  new_cases  new_cases_7_day_rolling_avg  \\\n",
       "0                            0.00        NaN                          NaN   \n",
       "1                            0.00        0.0                          NaN   \n",
       "2                            0.00        0.0                          NaN   \n",
       "3                            0.00        0.0                          NaN   \n",
       "4                            0.00        0.0                          NaN   \n",
       "..                            ...        ...                          ...   \n",
       "70                           0.55       73.0                        97.00   \n",
       "71                           0.65      173.0                       102.29   \n",
       "72                           0.78      262.0                       129.71   \n",
       "73                           0.90      119.0                       131.43   \n",
       "74                           0.92      151.0                       134.29   \n",
       "\n",
       "    new_deaths  new_deaths_7_day_rolling_avg  new_deaths_per_100_000  \\\n",
       "0          NaN                           NaN                     NaN   \n",
       "1          0.0                           NaN                    0.00   \n",
       "2          0.0                           NaN                    0.00   \n",
       "3          0.0                           NaN                    0.00   \n",
       "4          0.0                           NaN                    0.00   \n",
       "..         ...                           ...                     ...   \n",
       "70         4.0                          3.71                    0.08   \n",
       "71         5.0                          4.43                    0.10   \n",
       "72         6.0                          4.86                    0.12   \n",
       "73         6.0                          5.71                    0.12   \n",
       "74         1.0                          5.00                    0.02   \n",
       "\n",
       "    new_cases_per_100_000  \n",
       "0                     NaN  \n",
       "1                    0.00  \n",
       "2                    0.00  \n",
       "3                    0.00  \n",
       "4                    0.00  \n",
       "..                    ...  \n",
       "70                   1.49  \n",
       "71                   3.54  \n",
       "72                   5.36  \n",
       "73                   2.43  \n",
       "74                   3.09  \n",
       "\n",
       "[75 rows x 13 columns]"
      ],
      "text/html": "<div>\n<style scoped>\n    .dataframe tbody tr th:only-of-type {\n        vertical-align: middle;\n    }\n\n    .dataframe tbody tr th {\n        vertical-align: top;\n    }\n\n    .dataframe thead th {\n        text-align: right;\n    }\n</style>\n<table border=\"1\" class=\"dataframe\">\n  <thead>\n    <tr style=\"text-align: right;\">\n      <th></th>\n      <th>state</th>\n      <th>date</th>\n      <th>total_population</th>\n      <th>cumulative_cases</th>\n      <th>cumulative_cases_per_100_000</th>\n      <th>cumulative_deaths</th>\n      <th>cumulative_deaths_per_100_000</th>\n      <th>new_cases</th>\n      <th>new_cases_7_day_rolling_avg</th>\n      <th>new_deaths</th>\n      <th>new_deaths_7_day_rolling_avg</th>\n      <th>new_deaths_per_100_000</th>\n      <th>new_cases_per_100_000</th>\n    </tr>\n  </thead>\n  <tbody>\n    <tr>\n      <th>0</th>\n      <td>Alabama</td>\n      <td>22-01-20</td>\n      <td>4887871.0</td>\n      <td>0</td>\n      <td>0.00</td>\n      <td>0</td>\n      <td>0.00</td>\n      <td>NaN</td>\n      <td>NaN</td>\n      <td>NaN</td>\n      <td>NaN</td>\n      <td>NaN</td>\n      <td>NaN</td>\n    </tr>\n    <tr>\n      <th>1</th>\n      <td>Alabama</td>\n      <td>23-01-20</td>\n      <td>4887871.0</td>\n      <td>0</td>\n      <td>0.00</td>\n      <td>0</td>\n      <td>0.00</td>\n      <td>0.0</td>\n      <td>NaN</td>\n      <td>0.0</td>\n      <td>NaN</td>\n      <td>0.00</td>\n      <td>0.00</td>\n    </tr>\n    <tr>\n      <th>2</th>\n      <td>Alabama</td>\n      <td>24-01-20</td>\n      <td>4887871.0</td>\n      <td>0</td>\n      <td>0.00</td>\n      <td>0</td>\n      <td>0.00</td>\n      <td>0.0</td>\n      <td>NaN</td>\n      <td>0.0</td>\n      <td>NaN</td>\n      <td>0.00</td>\n      <td>0.00</td>\n    </tr>\n    <tr>\n      <th>3</th>\n      <td>Alabama</td>\n      <td>25-01-20</td>\n      <td>4887871.0</td>\n      <td>0</td>\n      <td>0.00</td>\n      <td>0</td>\n      <td>0.00</td>\n      <td>0.0</td>\n      <td>NaN</td>\n      <td>0.0</td>\n      <td>NaN</td>\n      <td>0.00</td>\n      <td>0.00</td>\n    </tr>\n    <tr>\n      <th>4</th>\n      <td>Alabama</td>\n      <td>26-01-20</td>\n      <td>4887871.0</td>\n      <td>0</td>\n      <td>0.00</td>\n      <td>0</td>\n      <td>0.00</td>\n      <td>0.0</td>\n      <td>NaN</td>\n      <td>0.0</td>\n      <td>NaN</td>\n      <td>0.00</td>\n      <td>0.00</td>\n    </tr>\n    <tr>\n      <th>...</th>\n      <td>...</td>\n      <td>...</td>\n      <td>...</td>\n      <td>...</td>\n      <td>...</td>\n      <td>...</td>\n      <td>...</td>\n      <td>...</td>\n      <td>...</td>\n      <td>...</td>\n      <td>...</td>\n      <td>...</td>\n      <td>...</td>\n    </tr>\n    <tr>\n      <th>70</th>\n      <td>Alabama</td>\n      <td>01-04-20</td>\n      <td>4887871.0</td>\n      <td>1060</td>\n      <td>21.69</td>\n      <td>27</td>\n      <td>0.55</td>\n      <td>73.0</td>\n      <td>97.00</td>\n      <td>4.0</td>\n      <td>3.71</td>\n      <td>0.08</td>\n      <td>1.49</td>\n    </tr>\n    <tr>\n      <th>71</th>\n      <td>Alabama</td>\n      <td>02-04-20</td>\n      <td>4887871.0</td>\n      <td>1233</td>\n      <td>25.23</td>\n      <td>32</td>\n      <td>0.65</td>\n      <td>173.0</td>\n      <td>102.29</td>\n      <td>5.0</td>\n      <td>4.43</td>\n      <td>0.10</td>\n      <td>3.54</td>\n    </tr>\n    <tr>\n      <th>72</th>\n      <td>Alabama</td>\n      <td>03-04-20</td>\n      <td>4887871.0</td>\n      <td>1495</td>\n      <td>30.59</td>\n      <td>38</td>\n      <td>0.78</td>\n      <td>262.0</td>\n      <td>129.71</td>\n      <td>6.0</td>\n      <td>4.86</td>\n      <td>0.12</td>\n      <td>5.36</td>\n    </tr>\n    <tr>\n      <th>73</th>\n      <td>Alabama</td>\n      <td>04-04-20</td>\n      <td>4887871.0</td>\n      <td>1614</td>\n      <td>33.02</td>\n      <td>44</td>\n      <td>0.90</td>\n      <td>119.0</td>\n      <td>131.43</td>\n      <td>6.0</td>\n      <td>5.71</td>\n      <td>0.12</td>\n      <td>2.43</td>\n    </tr>\n    <tr>\n      <th>74</th>\n      <td>Alabama</td>\n      <td>05-04-20</td>\n      <td>4887871.0</td>\n      <td>1765</td>\n      <td>36.11</td>\n      <td>45</td>\n      <td>0.92</td>\n      <td>151.0</td>\n      <td>134.29</td>\n      <td>1.0</td>\n      <td>5.00</td>\n      <td>0.02</td>\n      <td>3.09</td>\n    </tr>\n  </tbody>\n</table>\n<p>75 rows × 13 columns</p>\n</div>"
     },
     "metadata": {},
     "execution_count": 15
    }
   ],
   "source": [
    "covid_count.head(75)"
   ]
  },
  {
   "cell_type": "code",
   "execution_count": 16,
   "metadata": {},
   "outputs": [
    {
     "output_type": "execute_result",
     "data": {
      "text/plain": [
       "    countyFIPS                 County Name State  stateFIPS  1/22/20  1/23/20  \\\n",
       "0            0       Statewide Unallocated    AL          1        0        0   \n",
       "1         1001              Autauga County    AL          1        0        0   \n",
       "2         1003              Baldwin County    AL          1        0        0   \n",
       "3         1005              Barbour County    AL          1        0        0   \n",
       "4         1007                 Bibb County    AL          1        0        0   \n",
       "..         ...                         ...   ...        ...      ...      ...   \n",
       "70        2016  Aleutians West Census Area    AK          2        0        0   \n",
       "71        2020   Municipality of Anchorage    AK          2        0        0   \n",
       "72        2050          Bethel Census Area    AK          2        0        0   \n",
       "73        2060         Bristol Bay Borough    AK          2        0        0   \n",
       "74        2068              Denali Borough    AK          2        0        0   \n",
       "\n",
       "    1/24/20  1/25/20  1/26/20  1/27/20  ...  10/14/20  10/15/20  10/16/20  \\\n",
       "0         0        0        0        0  ...         0         0         0   \n",
       "1         0        0        0        0  ...      1928      1949      1966   \n",
       "2         0        0        0        0  ...      6270      6285      6333   \n",
       "3         0        0        0        0  ...       950       965       968   \n",
       "4         0        0        0        0  ...       744       761       771   \n",
       "..      ...      ...      ...      ...  ...       ...       ...       ...   \n",
       "70        0        0        0        0  ...         5         5         5   \n",
       "71        0        0        0        0  ...      5699      5777      5888   \n",
       "72        0        0        0        0  ...       189       214       229   \n",
       "73        0        0        0        0  ...         0         0         0   \n",
       "74        0        0        0        0  ...        13        13        15   \n",
       "\n",
       "    10/17/20  10/18/20  10/19/20  10/20/20  10/21/20  10/22/20  10/23/20  \n",
       "0          0         0         0         0         0         0         0  \n",
       "1       1983      1989      1999      2010      2021      2023      2030  \n",
       "2       6350      6369      6375      6405      6443      6475      6615  \n",
       "3        977       981       981       988       996       997      1012  \n",
       "4        775       785       789       791       801       811       825  \n",
       "..       ...       ...       ...       ...       ...       ...       ...  \n",
       "70         6         6         6         6         6         6         6  \n",
       "71      5995      6095      6188      6302      6445      6510      6666  \n",
       "72       234       253       258       269       270       309       328  \n",
       "73         0         0         0         0         0         0         0  \n",
       "74        17        17        17        19        20        20        20  \n",
       "\n",
       "[75 rows x 280 columns]"
      ],
      "text/html": "<div>\n<style scoped>\n    .dataframe tbody tr th:only-of-type {\n        vertical-align: middle;\n    }\n\n    .dataframe tbody tr th {\n        vertical-align: top;\n    }\n\n    .dataframe thead th {\n        text-align: right;\n    }\n</style>\n<table border=\"1\" class=\"dataframe\">\n  <thead>\n    <tr style=\"text-align: right;\">\n      <th></th>\n      <th>countyFIPS</th>\n      <th>County Name</th>\n      <th>State</th>\n      <th>stateFIPS</th>\n      <th>1/22/20</th>\n      <th>1/23/20</th>\n      <th>1/24/20</th>\n      <th>1/25/20</th>\n      <th>1/26/20</th>\n      <th>1/27/20</th>\n      <th>...</th>\n      <th>10/14/20</th>\n      <th>10/15/20</th>\n      <th>10/16/20</th>\n      <th>10/17/20</th>\n      <th>10/18/20</th>\n      <th>10/19/20</th>\n      <th>10/20/20</th>\n      <th>10/21/20</th>\n      <th>10/22/20</th>\n      <th>10/23/20</th>\n    </tr>\n  </thead>\n  <tbody>\n    <tr>\n      <th>0</th>\n      <td>0</td>\n      <td>Statewide Unallocated</td>\n      <td>AL</td>\n      <td>1</td>\n      <td>0</td>\n      <td>0</td>\n      <td>0</td>\n      <td>0</td>\n      <td>0</td>\n      <td>0</td>\n      <td>...</td>\n      <td>0</td>\n      <td>0</td>\n      <td>0</td>\n      <td>0</td>\n      <td>0</td>\n      <td>0</td>\n      <td>0</td>\n      <td>0</td>\n      <td>0</td>\n      <td>0</td>\n    </tr>\n    <tr>\n      <th>1</th>\n      <td>1001</td>\n      <td>Autauga County</td>\n      <td>AL</td>\n      <td>1</td>\n      <td>0</td>\n      <td>0</td>\n      <td>0</td>\n      <td>0</td>\n      <td>0</td>\n      <td>0</td>\n      <td>...</td>\n      <td>1928</td>\n      <td>1949</td>\n      <td>1966</td>\n      <td>1983</td>\n      <td>1989</td>\n      <td>1999</td>\n      <td>2010</td>\n      <td>2021</td>\n      <td>2023</td>\n      <td>2030</td>\n    </tr>\n    <tr>\n      <th>2</th>\n      <td>1003</td>\n      <td>Baldwin County</td>\n      <td>AL</td>\n      <td>1</td>\n      <td>0</td>\n      <td>0</td>\n      <td>0</td>\n      <td>0</td>\n      <td>0</td>\n      <td>0</td>\n      <td>...</td>\n      <td>6270</td>\n      <td>6285</td>\n      <td>6333</td>\n      <td>6350</td>\n      <td>6369</td>\n      <td>6375</td>\n      <td>6405</td>\n      <td>6443</td>\n      <td>6475</td>\n      <td>6615</td>\n    </tr>\n    <tr>\n      <th>3</th>\n      <td>1005</td>\n      <td>Barbour County</td>\n      <td>AL</td>\n      <td>1</td>\n      <td>0</td>\n      <td>0</td>\n      <td>0</td>\n      <td>0</td>\n      <td>0</td>\n      <td>0</td>\n      <td>...</td>\n      <td>950</td>\n      <td>965</td>\n      <td>968</td>\n      <td>977</td>\n      <td>981</td>\n      <td>981</td>\n      <td>988</td>\n      <td>996</td>\n      <td>997</td>\n      <td>1012</td>\n    </tr>\n    <tr>\n      <th>4</th>\n      <td>1007</td>\n      <td>Bibb County</td>\n      <td>AL</td>\n      <td>1</td>\n      <td>0</td>\n      <td>0</td>\n      <td>0</td>\n      <td>0</td>\n      <td>0</td>\n      <td>0</td>\n      <td>...</td>\n      <td>744</td>\n      <td>761</td>\n      <td>771</td>\n      <td>775</td>\n      <td>785</td>\n      <td>789</td>\n      <td>791</td>\n      <td>801</td>\n      <td>811</td>\n      <td>825</td>\n    </tr>\n    <tr>\n      <th>...</th>\n      <td>...</td>\n      <td>...</td>\n      <td>...</td>\n      <td>...</td>\n      <td>...</td>\n      <td>...</td>\n      <td>...</td>\n      <td>...</td>\n      <td>...</td>\n      <td>...</td>\n      <td>...</td>\n      <td>...</td>\n      <td>...</td>\n      <td>...</td>\n      <td>...</td>\n      <td>...</td>\n      <td>...</td>\n      <td>...</td>\n      <td>...</td>\n      <td>...</td>\n      <td>...</td>\n    </tr>\n    <tr>\n      <th>70</th>\n      <td>2016</td>\n      <td>Aleutians West Census Area</td>\n      <td>AK</td>\n      <td>2</td>\n      <td>0</td>\n      <td>0</td>\n      <td>0</td>\n      <td>0</td>\n      <td>0</td>\n      <td>0</td>\n      <td>...</td>\n      <td>5</td>\n      <td>5</td>\n      <td>5</td>\n      <td>6</td>\n      <td>6</td>\n      <td>6</td>\n      <td>6</td>\n      <td>6</td>\n      <td>6</td>\n      <td>6</td>\n    </tr>\n    <tr>\n      <th>71</th>\n      <td>2020</td>\n      <td>Municipality of Anchorage</td>\n      <td>AK</td>\n      <td>2</td>\n      <td>0</td>\n      <td>0</td>\n      <td>0</td>\n      <td>0</td>\n      <td>0</td>\n      <td>0</td>\n      <td>...</td>\n      <td>5699</td>\n      <td>5777</td>\n      <td>5888</td>\n      <td>5995</td>\n      <td>6095</td>\n      <td>6188</td>\n      <td>6302</td>\n      <td>6445</td>\n      <td>6510</td>\n      <td>6666</td>\n    </tr>\n    <tr>\n      <th>72</th>\n      <td>2050</td>\n      <td>Bethel Census Area</td>\n      <td>AK</td>\n      <td>2</td>\n      <td>0</td>\n      <td>0</td>\n      <td>0</td>\n      <td>0</td>\n      <td>0</td>\n      <td>0</td>\n      <td>...</td>\n      <td>189</td>\n      <td>214</td>\n      <td>229</td>\n      <td>234</td>\n      <td>253</td>\n      <td>258</td>\n      <td>269</td>\n      <td>270</td>\n      <td>309</td>\n      <td>328</td>\n    </tr>\n    <tr>\n      <th>73</th>\n      <td>2060</td>\n      <td>Bristol Bay Borough</td>\n      <td>AK</td>\n      <td>2</td>\n      <td>0</td>\n      <td>0</td>\n      <td>0</td>\n      <td>0</td>\n      <td>0</td>\n      <td>0</td>\n      <td>...</td>\n      <td>0</td>\n      <td>0</td>\n      <td>0</td>\n      <td>0</td>\n      <td>0</td>\n      <td>0</td>\n      <td>0</td>\n      <td>0</td>\n      <td>0</td>\n      <td>0</td>\n    </tr>\n    <tr>\n      <th>74</th>\n      <td>2068</td>\n      <td>Denali Borough</td>\n      <td>AK</td>\n      <td>2</td>\n      <td>0</td>\n      <td>0</td>\n      <td>0</td>\n      <td>0</td>\n      <td>0</td>\n      <td>0</td>\n      <td>...</td>\n      <td>13</td>\n      <td>13</td>\n      <td>15</td>\n      <td>17</td>\n      <td>17</td>\n      <td>17</td>\n      <td>19</td>\n      <td>20</td>\n      <td>20</td>\n      <td>20</td>\n    </tr>\n  </tbody>\n</table>\n<p>75 rows × 280 columns</p>\n</div>"
     },
     "metadata": {},
     "execution_count": 16
    }
   ],
   "source": [
    "demo_usa.head(75)"
   ]
  },
  {
   "cell_type": "code",
   "execution_count": 17,
   "metadata": {},
   "outputs": [
    {
     "output_type": "execute_result",
     "data": {
      "text/plain": [
       "       Name       Desc_        Date    Cases    Tested  Test_Encounters  \\\n",
       "0  Colorado  State Data    07-09-20  35525.0  374161.0              NaN   \n",
       "1  Colorado  State Data    07-10-20  36191.0  382859.0              NaN   \n",
       "2  Colorado  State Data    07-11-20  36591.0  389099.0              NaN   \n",
       "3  Colorado  State Data    07-12-20  36913.0  396363.0              NaN   \n",
       "4  Colorado  State Data  07/13/2020  37242.0  401942.0              NaN   \n",
       "\n",
       "   Deaths  DthCOVID19  Population    Rate    Hosp  Counties  Outbreaks  \\\n",
       "0  1706.0      1581.0   5694287.0  623.87  5831.0      61.0      387.0   \n",
       "1  1724.0      1586.0   5694287.0  635.57  5864.0      61.0      391.0   \n",
       "2  1725.0      1586.0   5694287.0  642.59  5885.0      61.0      398.0   \n",
       "3  1725.0      1586.0   5694287.0  648.25  5895.0      61.0      398.0   \n",
       "4  1727.0      1589.0   5694287.0  654.02  5941.0      61.0      401.0   \n",
       "\n",
       "   ObjectId  \n",
       "0         1  \n",
       "1         2  \n",
       "2         3  \n",
       "3         4  \n",
       "4         5  "
      ],
      "text/html": "<div>\n<style scoped>\n    .dataframe tbody tr th:only-of-type {\n        vertical-align: middle;\n    }\n\n    .dataframe tbody tr th {\n        vertical-align: top;\n    }\n\n    .dataframe thead th {\n        text-align: right;\n    }\n</style>\n<table border=\"1\" class=\"dataframe\">\n  <thead>\n    <tr style=\"text-align: right;\">\n      <th></th>\n      <th>Name</th>\n      <th>Desc_</th>\n      <th>Date</th>\n      <th>Cases</th>\n      <th>Tested</th>\n      <th>Test_Encounters</th>\n      <th>Deaths</th>\n      <th>DthCOVID19</th>\n      <th>Population</th>\n      <th>Rate</th>\n      <th>Hosp</th>\n      <th>Counties</th>\n      <th>Outbreaks</th>\n      <th>ObjectId</th>\n    </tr>\n  </thead>\n  <tbody>\n    <tr>\n      <th>0</th>\n      <td>Colorado</td>\n      <td>State Data</td>\n      <td>07-09-20</td>\n      <td>35525.0</td>\n      <td>374161.0</td>\n      <td>NaN</td>\n      <td>1706.0</td>\n      <td>1581.0</td>\n      <td>5694287.0</td>\n      <td>623.87</td>\n      <td>5831.0</td>\n      <td>61.0</td>\n      <td>387.0</td>\n      <td>1</td>\n    </tr>\n    <tr>\n      <th>1</th>\n      <td>Colorado</td>\n      <td>State Data</td>\n      <td>07-10-20</td>\n      <td>36191.0</td>\n      <td>382859.0</td>\n      <td>NaN</td>\n      <td>1724.0</td>\n      <td>1586.0</td>\n      <td>5694287.0</td>\n      <td>635.57</td>\n      <td>5864.0</td>\n      <td>61.0</td>\n      <td>391.0</td>\n      <td>2</td>\n    </tr>\n    <tr>\n      <th>2</th>\n      <td>Colorado</td>\n      <td>State Data</td>\n      <td>07-11-20</td>\n      <td>36591.0</td>\n      <td>389099.0</td>\n      <td>NaN</td>\n      <td>1725.0</td>\n      <td>1586.0</td>\n      <td>5694287.0</td>\n      <td>642.59</td>\n      <td>5885.0</td>\n      <td>61.0</td>\n      <td>398.0</td>\n      <td>3</td>\n    </tr>\n    <tr>\n      <th>3</th>\n      <td>Colorado</td>\n      <td>State Data</td>\n      <td>07-12-20</td>\n      <td>36913.0</td>\n      <td>396363.0</td>\n      <td>NaN</td>\n      <td>1725.0</td>\n      <td>1586.0</td>\n      <td>5694287.0</td>\n      <td>648.25</td>\n      <td>5895.0</td>\n      <td>61.0</td>\n      <td>398.0</td>\n      <td>4</td>\n    </tr>\n    <tr>\n      <th>4</th>\n      <td>Colorado</td>\n      <td>State Data</td>\n      <td>07/13/2020</td>\n      <td>37242.0</td>\n      <td>401942.0</td>\n      <td>NaN</td>\n      <td>1727.0</td>\n      <td>1589.0</td>\n      <td>5694287.0</td>\n      <td>654.02</td>\n      <td>5941.0</td>\n      <td>61.0</td>\n      <td>401.0</td>\n      <td>5</td>\n    </tr>\n  </tbody>\n</table>\n</div>"
     },
     "metadata": {},
     "execution_count": 17
    }
   ],
   "source": [
    "state_covid.head()"
   ]
  },
  {
   "cell_type": "code",
   "execution_count": 18,
   "metadata": {},
   "outputs": [
    {
     "output_type": "execute_result",
     "data": {
      "text/plain": [
       "          section                category  \\\n",
       "0      State Data  Colorado COVID-19 Data   \n",
       "1      State Data  Colorado COVID-19 Data   \n",
       "2      State Data  Colorado COVID-19 Data   \n",
       "3      State Data  Colorado COVID-19 Data   \n",
       "4      State Data  Colorado COVID-19 Data   \n",
       "5      State Data  Colorado COVID-19 Data   \n",
       "6      State Data  Colorado COVID-19 Data   \n",
       "7      State Data  Colorado COVID-19 Data   \n",
       "8      State Data  Colorado COVID-19 Data   \n",
       "9      State Data  Colorado COVID-19 Data   \n",
       "10     State Data  Colorado COVID-19 Data   \n",
       "11     State Data  Colorado COVID-19 Data   \n",
       "12     State Data  Colorado COVID-19 Data   \n",
       "13     State Data  Colorado COVID-19 Data   \n",
       "14     State Data  Colorado COVID-19 Data   \n",
       "15     State Data  Colorado COVID-19 Data   \n",
       "16  State Metrics                   Cases   \n",
       "17  State Metrics                   Cases   \n",
       "18  State Metrics                   Cases   \n",
       "19  State Metrics                   Cases   \n",
       "\n",
       "                                description date  \\\n",
       "0                 Cumulative counts to date  NaN   \n",
       "1                 Cumulative counts to date  NaN   \n",
       "2                 Cumulative counts to date  NaN   \n",
       "3                 Cumulative counts to date  NaN   \n",
       "4                 Cumulative counts to date  NaN   \n",
       "5                 Cumulative counts to date  NaN   \n",
       "6                 Cumulative counts to date  NaN   \n",
       "7                 Cumulative counts to date  NaN   \n",
       "8                 Cumulative counts to date  NaN   \n",
       "9                 Cumulative counts to date  NaN   \n",
       "10                Cumulative counts to date  NaN   \n",
       "11                Cumulative counts to date  NaN   \n",
       "12                Cumulative counts to date  NaN   \n",
       "13                Cumulative counts to date  NaN   \n",
       "14                Cumulative counts to date  NaN   \n",
       "15                Cumulative counts to date  NaN   \n",
       "16                     Cases Reported Today  NaN   \n",
       "17                     Cases Reported Today  NaN   \n",
       "18  Cases Added with Previous Reported Date  NaN   \n",
       "19   7-Day Moving Average of Cases Reported  NaN   \n",
       "\n",
       "                                     metric         value  \n",
       "0                                     Cases  9.157200e+04  \n",
       "1                              Hospitalized  8.557000e+03  \n",
       "2                                  Counties  6.400000e+01  \n",
       "3                             People Tested  1.124409e+06  \n",
       "4                           Test Encounters  1.790404e+06  \n",
       "5                        Deaths Among Cases  2.211000e+03  \n",
       "6                    Deaths Due to COVID-19  2.076000e+03  \n",
       "7                                 Outbreaks  1.043000e+03  \n",
       "8                           Confirmed cases  8.508000e+04  \n",
       "9                Percent of confirmed cases  9.291000e-01  \n",
       "10                           Probable cases  6.492000e+03  \n",
       "11                Percent of probable cases  7.090000e-02  \n",
       "12             Confirmed deaths among cases  1.829000e+03  \n",
       "13  Percent of confirmed deaths among cases  8.272000e-01  \n",
       "14              Probable deaths among cases  3.820000e+02  \n",
       "15   Percent of probable deaths among cases  1.728000e-01  \n",
       "16                                  Current  1.156000e+03  \n",
       "17                                   Change  1.200000e+01  \n",
       "18                                  Current  1.940000e+02  \n",
       "19                                  Current  1.027000e+03  "
      ],
      "text/html": "<div>\n<style scoped>\n    .dataframe tbody tr th:only-of-type {\n        vertical-align: middle;\n    }\n\n    .dataframe tbody tr th {\n        vertical-align: top;\n    }\n\n    .dataframe thead th {\n        text-align: right;\n    }\n</style>\n<table border=\"1\" class=\"dataframe\">\n  <thead>\n    <tr style=\"text-align: right;\">\n      <th></th>\n      <th>section</th>\n      <th>category</th>\n      <th>description</th>\n      <th>date</th>\n      <th>metric</th>\n      <th>value</th>\n    </tr>\n  </thead>\n  <tbody>\n    <tr>\n      <th>0</th>\n      <td>State Data</td>\n      <td>Colorado COVID-19 Data</td>\n      <td>Cumulative counts to date</td>\n      <td>NaN</td>\n      <td>Cases</td>\n      <td>9.157200e+04</td>\n    </tr>\n    <tr>\n      <th>1</th>\n      <td>State Data</td>\n      <td>Colorado COVID-19 Data</td>\n      <td>Cumulative counts to date</td>\n      <td>NaN</td>\n      <td>Hospitalized</td>\n      <td>8.557000e+03</td>\n    </tr>\n    <tr>\n      <th>2</th>\n      <td>State Data</td>\n      <td>Colorado COVID-19 Data</td>\n      <td>Cumulative counts to date</td>\n      <td>NaN</td>\n      <td>Counties</td>\n      <td>6.400000e+01</td>\n    </tr>\n    <tr>\n      <th>3</th>\n      <td>State Data</td>\n      <td>Colorado COVID-19 Data</td>\n      <td>Cumulative counts to date</td>\n      <td>NaN</td>\n      <td>People Tested</td>\n      <td>1.124409e+06</td>\n    </tr>\n    <tr>\n      <th>4</th>\n      <td>State Data</td>\n      <td>Colorado COVID-19 Data</td>\n      <td>Cumulative counts to date</td>\n      <td>NaN</td>\n      <td>Test Encounters</td>\n      <td>1.790404e+06</td>\n    </tr>\n    <tr>\n      <th>5</th>\n      <td>State Data</td>\n      <td>Colorado COVID-19 Data</td>\n      <td>Cumulative counts to date</td>\n      <td>NaN</td>\n      <td>Deaths Among Cases</td>\n      <td>2.211000e+03</td>\n    </tr>\n    <tr>\n      <th>6</th>\n      <td>State Data</td>\n      <td>Colorado COVID-19 Data</td>\n      <td>Cumulative counts to date</td>\n      <td>NaN</td>\n      <td>Deaths Due to COVID-19</td>\n      <td>2.076000e+03</td>\n    </tr>\n    <tr>\n      <th>7</th>\n      <td>State Data</td>\n      <td>Colorado COVID-19 Data</td>\n      <td>Cumulative counts to date</td>\n      <td>NaN</td>\n      <td>Outbreaks</td>\n      <td>1.043000e+03</td>\n    </tr>\n    <tr>\n      <th>8</th>\n      <td>State Data</td>\n      <td>Colorado COVID-19 Data</td>\n      <td>Cumulative counts to date</td>\n      <td>NaN</td>\n      <td>Confirmed cases</td>\n      <td>8.508000e+04</td>\n    </tr>\n    <tr>\n      <th>9</th>\n      <td>State Data</td>\n      <td>Colorado COVID-19 Data</td>\n      <td>Cumulative counts to date</td>\n      <td>NaN</td>\n      <td>Percent of confirmed cases</td>\n      <td>9.291000e-01</td>\n    </tr>\n    <tr>\n      <th>10</th>\n      <td>State Data</td>\n      <td>Colorado COVID-19 Data</td>\n      <td>Cumulative counts to date</td>\n      <td>NaN</td>\n      <td>Probable cases</td>\n      <td>6.492000e+03</td>\n    </tr>\n    <tr>\n      <th>11</th>\n      <td>State Data</td>\n      <td>Colorado COVID-19 Data</td>\n      <td>Cumulative counts to date</td>\n      <td>NaN</td>\n      <td>Percent of probable cases</td>\n      <td>7.090000e-02</td>\n    </tr>\n    <tr>\n      <th>12</th>\n      <td>State Data</td>\n      <td>Colorado COVID-19 Data</td>\n      <td>Cumulative counts to date</td>\n      <td>NaN</td>\n      <td>Confirmed deaths among cases</td>\n      <td>1.829000e+03</td>\n    </tr>\n    <tr>\n      <th>13</th>\n      <td>State Data</td>\n      <td>Colorado COVID-19 Data</td>\n      <td>Cumulative counts to date</td>\n      <td>NaN</td>\n      <td>Percent of confirmed deaths among cases</td>\n      <td>8.272000e-01</td>\n    </tr>\n    <tr>\n      <th>14</th>\n      <td>State Data</td>\n      <td>Colorado COVID-19 Data</td>\n      <td>Cumulative counts to date</td>\n      <td>NaN</td>\n      <td>Probable deaths among cases</td>\n      <td>3.820000e+02</td>\n    </tr>\n    <tr>\n      <th>15</th>\n      <td>State Data</td>\n      <td>Colorado COVID-19 Data</td>\n      <td>Cumulative counts to date</td>\n      <td>NaN</td>\n      <td>Percent of probable deaths among cases</td>\n      <td>1.728000e-01</td>\n    </tr>\n    <tr>\n      <th>16</th>\n      <td>State Metrics</td>\n      <td>Cases</td>\n      <td>Cases Reported Today</td>\n      <td>NaN</td>\n      <td>Current</td>\n      <td>1.156000e+03</td>\n    </tr>\n    <tr>\n      <th>17</th>\n      <td>State Metrics</td>\n      <td>Cases</td>\n      <td>Cases Reported Today</td>\n      <td>NaN</td>\n      <td>Change</td>\n      <td>1.200000e+01</td>\n    </tr>\n    <tr>\n      <th>18</th>\n      <td>State Metrics</td>\n      <td>Cases</td>\n      <td>Cases Added with Previous Reported Date</td>\n      <td>NaN</td>\n      <td>Current</td>\n      <td>1.940000e+02</td>\n    </tr>\n    <tr>\n      <th>19</th>\n      <td>State Metrics</td>\n      <td>Cases</td>\n      <td>7-Day Moving Average of Cases Reported</td>\n      <td>NaN</td>\n      <td>Current</td>\n      <td>1.027000e+03</td>\n    </tr>\n  </tbody>\n</table>\n</div>"
     },
     "metadata": {},
     "execution_count": 18
    }
   ],
   "source": [
    "demo_co.head(20)"
   ]
  },
  {
   "cell_type": "code",
   "execution_count": null,
   "metadata": {},
   "outputs": [],
   "source": []
  }
 ],
 "metadata": {
  "kernelspec": {
   "name": "Python 3.8.3 64-bit ('base': conda)",
   "display_name": "Python 3.8.3 64-bit ('base': conda)",
   "metadata": {
    "interpreter": {
     "hash": "7f84b47ab47900d71b34325cfd92901aeebcd982374c644ce885998c8bc4e9fc"
    }
   }
  },
  "language_info": {
   "name": "",
   "version": "3.8.3-final"
  }
 },
 "nbformat": 4,
 "nbformat_minor": 4
}